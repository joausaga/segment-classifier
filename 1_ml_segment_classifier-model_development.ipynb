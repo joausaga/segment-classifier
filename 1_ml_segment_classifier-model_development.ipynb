{
  "cells": [
    {
      "cell_type": "markdown",
      "metadata": {
        "id": "wTcWb0BDIq0O"
      },
      "source": [
        "# Segment Classifier"
      ]
    },
    {
      "cell_type": "markdown",
      "metadata": {
        "id": "2dm40udEDcl8"
      },
      "source": [
        "This notebook reports the methodology followed to build a machine learning-based classifier to automatically identify sections in job description documents. The model takes a sentence contained in a job description as input and produces as output the section that the sentence belongs to."
      ]
    },
    {
      "cell_type": "markdown",
      "metadata": {
        "id": "CggbTbPJnKLz"
      },
      "source": [
        "# Section 0. Preliminaries"
      ]
    },
    {
      "cell_type": "markdown",
      "metadata": {
        "id": "oMJQ-zCShkXC"
      },
      "source": [
        "## Load libraries"
      ]
    },
    {
      "cell_type": "code",
      "execution_count": 56,
      "metadata": {
        "colab": {
          "base_uri": "https://localhost:8080/"
        },
        "id": "jTma1oMMHxTf",
        "outputId": "bec55b96-b7d5-4291-89aa-7de11f7b64e1"
      },
      "outputs": [
        {
          "name": "stdout",
          "output_type": "stream",
          "text": [
            "Mounted at /content/drive\n"
          ]
        }
      ],
      "source": [
        "# update accordingly\n",
        "run_on_google_colab = True\n",
        "project_dir = '/content/drive/MyDrive'\n",
        "\n",
        "if run_on_google_colab:\n",
        "  from google.colab import drive\n",
        "  drive.mount('/content/drive', force_remount=True)"
      ]
    },
    {
      "cell_type": "code",
      "execution_count": 57,
      "metadata": {
        "id": "RgkTfVdXawPU"
      },
      "outputs": [],
      "source": [
        "import sys\n",
        "sys.path.append(project_dir)"
      ]
    },
    {
      "cell_type": "code",
      "execution_count": 58,
      "metadata": {
        "id": "CJ0pn_oFYRSe"
      },
      "outputs": [],
      "source": [
        "import json\n",
        "import joblib\n",
        "import numpy as np\n",
        "import os\n",
        "import pandas as pd\n",
        "import warnings\n",
        "\n",
        "warnings.filterwarnings('ignore')\n",
        "\n",
        "from gensim.models.doc2vec import Doc2Vec, TaggedDocument\n",
        "from sklearn.metrics import classification_report, f1_score, make_scorer\n",
        "from sklearn.model_selection import StratifiedKFold, GridSearchCV, train_test_split\n",
        "from sklearn.linear_model import LogisticRegression\n",
        "from sklearn.svm import SVC\n",
        "\n",
        "from text_processor import *\n",
        "from utils import *"
      ]
    },
    {
      "cell_type": "markdown",
      "metadata": {
        "id": "B8nB7rSaDObV"
      },
      "source": [
        "## Initialize constants"
      ]
    },
    {
      "cell_type": "code",
      "execution_count": 59,
      "metadata": {
        "id": "ALXBfj72DRX9"
      },
      "outputs": [],
      "source": [
        "OVERWRITE_DOC2VEC = False\n",
        "OVERWRITE_TRAINING = True\n",
        "random_state = np.random.RandomState(1234)  # for reproducibility"
      ]
    },
    {
      "cell_type": "markdown",
      "metadata": {
        "id": "x5fm1B5Thukl"
      },
      "source": [
        "## Load data"
      ]
    },
    {
      "cell_type": "code",
      "execution_count": 60,
      "metadata": {
        "id": "WyAFh5_DbW4T"
      },
      "outputs": [],
      "source": [
        "data_dir = f'{project_dir}/data'\n",
        "data_fn = 'jobs_training.csv'\n",
        "models_dir = f'{project_dir}/models'\n",
        "output_dir = f'{project_dir}/outputs'"
      ]
    },
    {
      "cell_type": "code",
      "execution_count": 61,
      "metadata": {
        "id": "poBMtdMebn2T"
      },
      "outputs": [],
      "source": [
        "job_training_df = pd.read_csv(os.path.join(data_dir, data_fn))"
      ]
    },
    {
      "cell_type": "markdown",
      "metadata": {
        "id": "6dwayiUOh1ID"
      },
      "source": [
        "## Preview data"
      ]
    },
    {
      "cell_type": "markdown",
      "metadata": {
        "id": "TLrMviIwFO_O"
      },
      "source": [
        "Visualize the size of the data togethet with a small sample"
      ]
    },
    {
      "cell_type": "code",
      "execution_count": 62,
      "metadata": {
        "colab": {
          "base_uri": "https://localhost:8080/",
          "height": 241
        },
        "id": "tcDABDyUb1RF",
        "outputId": "988ee193-1fa6-4bd1-9f62-fd00115bd68b"
      },
      "outputs": [
        {
          "name": "stdout",
          "output_type": "stream",
          "text": [
            "dataset size: 3885x4\n",
            "----------\n"
          ]
        },
        {
          "data": {
            "text/html": [
              "\n",
              "  <div id=\"df-15b6b93c-57af-4b25-8a86-041465800d5e\" class=\"colab-df-container\">\n",
              "    <div>\n",
              "<style scoped>\n",
              "    .dataframe tbody tr th:only-of-type {\n",
              "        vertical-align: middle;\n",
              "    }\n",
              "\n",
              "    .dataframe tbody tr th {\n",
              "        vertical-align: top;\n",
              "    }\n",
              "\n",
              "    .dataframe thead th {\n",
              "        text-align: right;\n",
              "    }\n",
              "</style>\n",
              "<table border=\"1\" class=\"dataframe\">\n",
              "  <thead>\n",
              "    <tr style=\"text-align: right;\">\n",
              "      <th></th>\n",
              "      <th>job_id</th>\n",
              "      <th>segment_index</th>\n",
              "      <th>segment</th>\n",
              "      <th>section_label</th>\n",
              "    </tr>\n",
              "  </thead>\n",
              "  <tbody>\n",
              "    <tr>\n",
              "      <th>0</th>\n",
              "      <td>05b865e93e8e46579075562865973d3b</td>\n",
              "      <td>0</td>\n",
              "      <td>Abbott is a global healthcare leader that help...</td>\n",
              "      <td>About Company</td>\n",
              "    </tr>\n",
              "    <tr>\n",
              "      <th>1</th>\n",
              "      <td>05b865e93e8e46579075562865973d3b</td>\n",
              "      <td>94</td>\n",
              "      <td>Our portfolio of life-changing technologies sp...</td>\n",
              "      <td>About Company</td>\n",
              "    </tr>\n",
              "    <tr>\n",
              "      <th>2</th>\n",
              "      <td>05b865e93e8e46579075562865973d3b</td>\n",
              "      <td>287</td>\n",
              "      <td>Our 109,000 colleagues\\nserve people in more t...</td>\n",
              "      <td>About Company</td>\n",
              "    </tr>\n",
              "    <tr>\n",
              "      <th>3</th>\n",
              "      <td>05b865e93e8e46579075562865973d3b</td>\n",
              "      <td>353</td>\n",
              "      <td>**Tissue Trainer – St. Paul, MN**</td>\n",
              "      <td>Job Title</td>\n",
              "    </tr>\n",
              "    <tr>\n",
              "      <th>4</th>\n",
              "      <td>05b865e93e8e46579075562865973d3b</td>\n",
              "      <td>388</td>\n",
              "      <td>Our business purpose is to restore health and ...</td>\n",
              "      <td>About Company</td>\n",
              "    </tr>\n",
              "  </tbody>\n",
              "</table>\n",
              "</div>\n",
              "    <div class=\"colab-df-buttons\">\n",
              "\n",
              "  <div class=\"colab-df-container\">\n",
              "    <button class=\"colab-df-convert\" onclick=\"convertToInteractive('df-15b6b93c-57af-4b25-8a86-041465800d5e')\"\n",
              "            title=\"Convert this dataframe to an interactive table.\"\n",
              "            style=\"display:none;\">\n",
              "\n",
              "  <svg xmlns=\"http://www.w3.org/2000/svg\" height=\"24px\" viewBox=\"0 -960 960 960\">\n",
              "    <path d=\"M120-120v-720h720v720H120Zm60-500h600v-160H180v160Zm220 220h160v-160H400v160Zm0 220h160v-160H400v160ZM180-400h160v-160H180v160Zm440 0h160v-160H620v160ZM180-180h160v-160H180v160Zm440 0h160v-160H620v160Z\"/>\n",
              "  </svg>\n",
              "    </button>\n",
              "\n",
              "  <style>\n",
              "    .colab-df-container {\n",
              "      display:flex;\n",
              "      gap: 12px;\n",
              "    }\n",
              "\n",
              "    .colab-df-convert {\n",
              "      background-color: #E8F0FE;\n",
              "      border: none;\n",
              "      border-radius: 50%;\n",
              "      cursor: pointer;\n",
              "      display: none;\n",
              "      fill: #1967D2;\n",
              "      height: 32px;\n",
              "      padding: 0 0 0 0;\n",
              "      width: 32px;\n",
              "    }\n",
              "\n",
              "    .colab-df-convert:hover {\n",
              "      background-color: #E2EBFA;\n",
              "      box-shadow: 0px 1px 2px rgba(60, 64, 67, 0.3), 0px 1px 3px 1px rgba(60, 64, 67, 0.15);\n",
              "      fill: #174EA6;\n",
              "    }\n",
              "\n",
              "    .colab-df-buttons div {\n",
              "      margin-bottom: 4px;\n",
              "    }\n",
              "\n",
              "    [theme=dark] .colab-df-convert {\n",
              "      background-color: #3B4455;\n",
              "      fill: #D2E3FC;\n",
              "    }\n",
              "\n",
              "    [theme=dark] .colab-df-convert:hover {\n",
              "      background-color: #434B5C;\n",
              "      box-shadow: 0px 1px 3px 1px rgba(0, 0, 0, 0.15);\n",
              "      filter: drop-shadow(0px 1px 2px rgba(0, 0, 0, 0.3));\n",
              "      fill: #FFFFFF;\n",
              "    }\n",
              "  </style>\n",
              "\n",
              "    <script>\n",
              "      const buttonEl =\n",
              "        document.querySelector('#df-15b6b93c-57af-4b25-8a86-041465800d5e button.colab-df-convert');\n",
              "      buttonEl.style.display =\n",
              "        google.colab.kernel.accessAllowed ? 'block' : 'none';\n",
              "\n",
              "      async function convertToInteractive(key) {\n",
              "        const element = document.querySelector('#df-15b6b93c-57af-4b25-8a86-041465800d5e');\n",
              "        const dataTable =\n",
              "          await google.colab.kernel.invokeFunction('convertToInteractive',\n",
              "                                                    [key], {});\n",
              "        if (!dataTable) return;\n",
              "\n",
              "        const docLinkHtml = 'Like what you see? Visit the ' +\n",
              "          '<a target=\"_blank\" href=https://colab.research.google.com/notebooks/data_table.ipynb>data table notebook</a>'\n",
              "          + ' to learn more about interactive tables.';\n",
              "        element.innerHTML = '';\n",
              "        dataTable['output_type'] = 'display_data';\n",
              "        await google.colab.output.renderOutput(dataTable, element);\n",
              "        const docLink = document.createElement('div');\n",
              "        docLink.innerHTML = docLinkHtml;\n",
              "        element.appendChild(docLink);\n",
              "      }\n",
              "    </script>\n",
              "  </div>\n",
              "\n",
              "\n",
              "<div id=\"df-e049e637-9ab8-4cbb-8885-eed9bf005e64\">\n",
              "  <button class=\"colab-df-quickchart\" onclick=\"quickchart('df-e049e637-9ab8-4cbb-8885-eed9bf005e64')\"\n",
              "            title=\"Suggest charts\"\n",
              "            style=\"display:none;\">\n",
              "\n",
              "<svg xmlns=\"http://www.w3.org/2000/svg\" height=\"24px\"viewBox=\"0 0 24 24\"\n",
              "     width=\"24px\">\n",
              "    <g>\n",
              "        <path d=\"M19 3H5c-1.1 0-2 .9-2 2v14c0 1.1.9 2 2 2h14c1.1 0 2-.9 2-2V5c0-1.1-.9-2-2-2zM9 17H7v-7h2v7zm4 0h-2V7h2v10zm4 0h-2v-4h2v4z\"/>\n",
              "    </g>\n",
              "</svg>\n",
              "  </button>\n",
              "\n",
              "<style>\n",
              "  .colab-df-quickchart {\n",
              "      --bg-color: #E8F0FE;\n",
              "      --fill-color: #1967D2;\n",
              "      --hover-bg-color: #E2EBFA;\n",
              "      --hover-fill-color: #174EA6;\n",
              "      --disabled-fill-color: #AAA;\n",
              "      --disabled-bg-color: #DDD;\n",
              "  }\n",
              "\n",
              "  [theme=dark] .colab-df-quickchart {\n",
              "      --bg-color: #3B4455;\n",
              "      --fill-color: #D2E3FC;\n",
              "      --hover-bg-color: #434B5C;\n",
              "      --hover-fill-color: #FFFFFF;\n",
              "      --disabled-bg-color: #3B4455;\n",
              "      --disabled-fill-color: #666;\n",
              "  }\n",
              "\n",
              "  .colab-df-quickchart {\n",
              "    background-color: var(--bg-color);\n",
              "    border: none;\n",
              "    border-radius: 50%;\n",
              "    cursor: pointer;\n",
              "    display: none;\n",
              "    fill: var(--fill-color);\n",
              "    height: 32px;\n",
              "    padding: 0;\n",
              "    width: 32px;\n",
              "  }\n",
              "\n",
              "  .colab-df-quickchart:hover {\n",
              "    background-color: var(--hover-bg-color);\n",
              "    box-shadow: 0 1px 2px rgba(60, 64, 67, 0.3), 0 1px 3px 1px rgba(60, 64, 67, 0.15);\n",
              "    fill: var(--button-hover-fill-color);\n",
              "  }\n",
              "\n",
              "  .colab-df-quickchart-complete:disabled,\n",
              "  .colab-df-quickchart-complete:disabled:hover {\n",
              "    background-color: var(--disabled-bg-color);\n",
              "    fill: var(--disabled-fill-color);\n",
              "    box-shadow: none;\n",
              "  }\n",
              "\n",
              "  .colab-df-spinner {\n",
              "    border: 2px solid var(--fill-color);\n",
              "    border-color: transparent;\n",
              "    border-bottom-color: var(--fill-color);\n",
              "    animation:\n",
              "      spin 1s steps(1) infinite;\n",
              "  }\n",
              "\n",
              "  @keyframes spin {\n",
              "    0% {\n",
              "      border-color: transparent;\n",
              "      border-bottom-color: var(--fill-color);\n",
              "      border-left-color: var(--fill-color);\n",
              "    }\n",
              "    20% {\n",
              "      border-color: transparent;\n",
              "      border-left-color: var(--fill-color);\n",
              "      border-top-color: var(--fill-color);\n",
              "    }\n",
              "    30% {\n",
              "      border-color: transparent;\n",
              "      border-left-color: var(--fill-color);\n",
              "      border-top-color: var(--fill-color);\n",
              "      border-right-color: var(--fill-color);\n",
              "    }\n",
              "    40% {\n",
              "      border-color: transparent;\n",
              "      border-right-color: var(--fill-color);\n",
              "      border-top-color: var(--fill-color);\n",
              "    }\n",
              "    60% {\n",
              "      border-color: transparent;\n",
              "      border-right-color: var(--fill-color);\n",
              "    }\n",
              "    80% {\n",
              "      border-color: transparent;\n",
              "      border-right-color: var(--fill-color);\n",
              "      border-bottom-color: var(--fill-color);\n",
              "    }\n",
              "    90% {\n",
              "      border-color: transparent;\n",
              "      border-bottom-color: var(--fill-color);\n",
              "    }\n",
              "  }\n",
              "</style>\n",
              "\n",
              "  <script>\n",
              "    async function quickchart(key) {\n",
              "      const quickchartButtonEl =\n",
              "        document.querySelector('#' + key + ' button');\n",
              "      quickchartButtonEl.disabled = true;  // To prevent multiple clicks.\n",
              "      quickchartButtonEl.classList.add('colab-df-spinner');\n",
              "      try {\n",
              "        const charts = await google.colab.kernel.invokeFunction(\n",
              "            'suggestCharts', [key], {});\n",
              "      } catch (error) {\n",
              "        console.error('Error during call to suggestCharts:', error);\n",
              "      }\n",
              "      quickchartButtonEl.classList.remove('colab-df-spinner');\n",
              "      quickchartButtonEl.classList.add('colab-df-quickchart-complete');\n",
              "    }\n",
              "    (() => {\n",
              "      let quickchartButtonEl =\n",
              "        document.querySelector('#df-e049e637-9ab8-4cbb-8885-eed9bf005e64 button');\n",
              "      quickchartButtonEl.style.display =\n",
              "        google.colab.kernel.accessAllowed ? 'block' : 'none';\n",
              "    })();\n",
              "  </script>\n",
              "</div>\n",
              "    </div>\n",
              "  </div>\n"
            ],
            "text/plain": [
              "                             job_id  segment_index  \\\n",
              "0  05b865e93e8e46579075562865973d3b              0   \n",
              "1  05b865e93e8e46579075562865973d3b             94   \n",
              "2  05b865e93e8e46579075562865973d3b            287   \n",
              "3  05b865e93e8e46579075562865973d3b            353   \n",
              "4  05b865e93e8e46579075562865973d3b            388   \n",
              "\n",
              "                                             segment  section_label  \n",
              "0  Abbott is a global healthcare leader that help...  About Company  \n",
              "1  Our portfolio of life-changing technologies sp...  About Company  \n",
              "2  Our 109,000 colleagues\\nserve people in more t...  About Company  \n",
              "3                  **Tissue Trainer – St. Paul, MN**      Job Title  \n",
              "4  Our business purpose is to restore health and ...  About Company  "
            ]
          },
          "execution_count": 62,
          "metadata": {},
          "output_type": "execute_result"
        }
      ],
      "source": [
        "print(f'dataset size: {job_training_df.shape[0]}x{job_training_df.shape[1]}')\n",
        "print('-'*10)\n",
        "job_training_df.head()"
      ]
    },
    {
      "cell_type": "markdown",
      "metadata": {
        "id": "rxS57Dr1FhCY"
      },
      "source": [
        "Distribution of values by type of sections"
      ]
    },
    {
      "cell_type": "code",
      "execution_count": 63,
      "metadata": {
        "colab": {
          "base_uri": "https://localhost:8080/"
        },
        "id": "-eTblH_gcBMd",
        "outputId": "76a9bbe4-a64a-479b-e7e1-5102952ed5c3"
      },
      "outputs": [
        {
          "data": {
            "text/plain": [
              "Job Responsibilities/Summary    1453\n",
              "Job Skills/Requirements         1012\n",
              "Other                            506\n",
              "About Company                    425\n",
              "Benefits                         291\n",
              "EOE/Diversity                    163\n",
              "Job Title                         35\n",
              "Name: section_label, dtype: int64"
            ]
          },
          "execution_count": 63,
          "metadata": {},
          "output_type": "execute_result"
        }
      ],
      "source": [
        "job_training_df.section_label.value_counts()"
      ]
    },
    {
      "cell_type": "code",
      "execution_count": 64,
      "metadata": {
        "colab": {
          "base_uri": "https://localhost:8080/"
        },
        "id": "BZP4bWAeAQri",
        "outputId": "c0fdb593-d60d-4759-f22f-af660b496924"
      },
      "outputs": [
        {
          "data": {
            "text/plain": [
              "Job Responsibilities/Summary    0.374003\n",
              "Job Skills/Requirements         0.260489\n",
              "Other                           0.130245\n",
              "About Company                   0.109395\n",
              "Benefits                        0.074903\n",
              "EOE/Diversity                   0.041956\n",
              "Job Title                       0.009009\n",
              "Name: section_label, dtype: float64"
            ]
          },
          "execution_count": 64,
          "metadata": {},
          "output_type": "execute_result"
        }
      ],
      "source": [
        "job_training_df.section_label.value_counts()/job_training_df.shape[0]"
      ]
    },
    {
      "cell_type": "markdown",
      "metadata": {
        "id": "5d8VQRh_KhEd"
      },
      "source": [
        "Previous output shows that there are `seven classes` classes, which are unbalaced. Now, check if there are missing values."
      ]
    },
    {
      "cell_type": "code",
      "execution_count": 65,
      "metadata": {
        "colab": {
          "base_uri": "https://localhost:8080/"
        },
        "id": "ItxYTz3NNt47",
        "outputId": "08624a1c-e227-4cac-92f9-a09f672861eb"
      },
      "outputs": [
        {
          "data": {
            "text/plain": [
              "job_id           0\n",
              "segment_index    0\n",
              "segment          0\n",
              "section_label    0\n",
              "dtype: int64"
            ]
          },
          "execution_count": 65,
          "metadata": {},
          "output_type": "execute_result"
        }
      ],
      "source": [
        "# check for null values\n",
        "job_training_df.isnull().sum()"
      ]
    },
    {
      "cell_type": "markdown",
      "metadata": {
        "id": "c7fAKMmtKkeX"
      },
      "source": [
        "Previous output unveils that there aren't missing values"
      ]
    },
    {
      "cell_type": "code",
      "execution_count": 66,
      "metadata": {
        "colab": {
          "base_uri": "https://localhost:8080/"
        },
        "id": "hXLA7NABofo3",
        "outputId": "bd7e0d7a-7799-4d54-e819-bc3ca94fe45f"
      },
      "outputs": [
        {
          "data": {
            "text/plain": [
              "section_label\n",
              "About Company                   1448.814118\n",
              "Benefits                        2216.384880\n",
              "EOE/Diversity                   4080.950920\n",
              "Job Responsibilities/Summary    1501.912595\n",
              "Job Skills/Requirements         2715.207510\n",
              "Job Title                        296.085714\n",
              "Other                           3379.217391\n",
              "Name: segment_index, dtype: float64"
            ]
          },
          "execution_count": 66,
          "metadata": {},
          "output_type": "execute_result"
        }
      ],
      "source": [
        "job_training_df.groupby(['section_label'])['segment_index'].mean()"
      ]
    },
    {
      "cell_type": "markdown",
      "metadata": {
        "id": "6f57gRfHo4_d"
      },
      "source": [
        "From above we see that there seems to be relationship between segment index and sections. For example, `Job Title` segments have on average smaller segment indexes than `About Company`. Similary, segments in the `Other` section come on average by the end of the description but before `EOE/Diversity`."
      ]
    },
    {
      "cell_type": "markdown",
      "metadata": {
        "id": "TDHz7ijHl0pj"
      },
      "source": [
        "---"
      ]
    },
    {
      "cell_type": "markdown",
      "metadata": {
        "id": "Nwtl9JWomF_6"
      },
      "source": [
        "# Section 1. Feature engineering"
      ]
    },
    {
      "cell_type": "markdown",
      "metadata": {
        "id": "wQJ9qn3-Z-4e"
      },
      "source": [
        "## Create syntactial features"
      ]
    },
    {
      "cell_type": "markdown",
      "metadata": {
        "id": "CuCaTnywGCPO"
      },
      "source": [
        "Data are augmented with features related to the syntactical characteristics of job description sentences.\n",
        "\n",
        "1. **Word count of sentences**: total number of words in sentences\n",
        "2. **Character count of sentences**: total number of characters in sentences\n",
        "3. **Average word density of sentences**: average length of words in sentences\n",
        "4. **Upper case count in sentences**: total number of upper count words in sentences\n",
        "5. **Title word count in sentences**: total number of title case words in sentences\n",
        "6. **Noun count**: total number of nouns in sentences\n",
        "7. **Verb count**: total number of verbs in sentences\n",
        "8. **Adjective count**: total number of adjectives in sentences\n",
        "9. **Pronouns count**: total number of pronouns in sentences"
      ]
    },
    {
      "cell_type": "code",
      "execution_count": 11,
      "metadata": {
        "colab": {
          "base_uri": "https://localhost:8080/"
        },
        "id": "Ra5RP7U7aOUZ",
        "outputId": "d5bb2412-8996-49f3-b4dd-492a95a10002"
      },
      "outputs": [
        {
          "name": "stdout",
          "output_type": "stream",
          "text": [
            "CPU times: user 51.3 s, sys: 893 ms, total: 52.2 s\n",
            "Wall time: 1min 7s\n"
          ]
        }
      ],
      "source": [
        "%%time\n",
        "syn_features_df = pd.DataFrame()\n",
        "for idx, row in job_training_df.iterrows():\n",
        "  syn_features_df = pd.concat([syn_features_df, create_syntactical_features(row['segment'], idx)])"
      ]
    },
    {
      "cell_type": "code",
      "execution_count": 12,
      "metadata": {
        "colab": {
          "base_uri": "https://localhost:8080/",
          "height": 206
        },
        "id": "TwQDa58FcpOp",
        "outputId": "9007961a-971c-4a1d-d8b4-718e580e8182"
      },
      "outputs": [
        {
          "data": {
            "text/html": [
              "\n",
              "  <div id=\"df-52ca41c3-1fe1-4b30-b3ba-aa59ae3c1d24\" class=\"colab-df-container\">\n",
              "    <div>\n",
              "<style scoped>\n",
              "    .dataframe tbody tr th:only-of-type {\n",
              "        vertical-align: middle;\n",
              "    }\n",
              "\n",
              "    .dataframe tbody tr th {\n",
              "        vertical-align: top;\n",
              "    }\n",
              "\n",
              "    .dataframe thead th {\n",
              "        text-align: right;\n",
              "    }\n",
              "</style>\n",
              "<table border=\"1\" class=\"dataframe\">\n",
              "  <thead>\n",
              "    <tr style=\"text-align: right;\">\n",
              "      <th></th>\n",
              "      <th>noun_count</th>\n",
              "      <th>verb_count</th>\n",
              "      <th>adj_count</th>\n",
              "      <th>adv_count</th>\n",
              "      <th>pron_count</th>\n",
              "      <th>chart_count</th>\n",
              "      <th>word_count</th>\n",
              "      <th>word_density</th>\n",
              "      <th>upper_case_word_count</th>\n",
              "      <th>title_word_count</th>\n",
              "    </tr>\n",
              "  </thead>\n",
              "  <tbody>\n",
              "    <tr>\n",
              "      <th>0</th>\n",
              "      <td>6</td>\n",
              "      <td>3</td>\n",
              "      <td>1</td>\n",
              "      <td>2</td>\n",
              "      <td>0</td>\n",
              "      <td>93</td>\n",
              "      <td>17</td>\n",
              "      <td>5.166667</td>\n",
              "      <td>0</td>\n",
              "      <td>1</td>\n",
              "    </tr>\n",
              "    <tr>\n",
              "      <th>1</th>\n",
              "      <td>10</td>\n",
              "      <td>2</td>\n",
              "      <td>4</td>\n",
              "      <td>0</td>\n",
              "      <td>0</td>\n",
              "      <td>192</td>\n",
              "      <td>24</td>\n",
              "      <td>7.680000</td>\n",
              "      <td>0</td>\n",
              "      <td>1</td>\n",
              "    </tr>\n",
              "    <tr>\n",
              "      <th>2</th>\n",
              "      <td>3</td>\n",
              "      <td>1</td>\n",
              "      <td>1</td>\n",
              "      <td>0</td>\n",
              "      <td>0</td>\n",
              "      <td>63</td>\n",
              "      <td>10</td>\n",
              "      <td>5.727273</td>\n",
              "      <td>0</td>\n",
              "      <td>1</td>\n",
              "    </tr>\n",
              "    <tr>\n",
              "      <th>3</th>\n",
              "      <td>9</td>\n",
              "      <td>0</td>\n",
              "      <td>1</td>\n",
              "      <td>0</td>\n",
              "      <td>0</td>\n",
              "      <td>33</td>\n",
              "      <td>6</td>\n",
              "      <td>4.714286</td>\n",
              "      <td>1</td>\n",
              "      <td>4</td>\n",
              "    </tr>\n",
              "    <tr>\n",
              "      <th>4</th>\n",
              "      <td>14</td>\n",
              "      <td>3</td>\n",
              "      <td>0</td>\n",
              "      <td>0</td>\n",
              "      <td>0</td>\n",
              "      <td>184</td>\n",
              "      <td>29</td>\n",
              "      <td>6.133333</td>\n",
              "      <td>2</td>\n",
              "      <td>1</td>\n",
              "    </tr>\n",
              "  </tbody>\n",
              "</table>\n",
              "</div>\n",
              "    <div class=\"colab-df-buttons\">\n",
              "\n",
              "  <div class=\"colab-df-container\">\n",
              "    <button class=\"colab-df-convert\" onclick=\"convertToInteractive('df-52ca41c3-1fe1-4b30-b3ba-aa59ae3c1d24')\"\n",
              "            title=\"Convert this dataframe to an interactive table.\"\n",
              "            style=\"display:none;\">\n",
              "\n",
              "  <svg xmlns=\"http://www.w3.org/2000/svg\" height=\"24px\" viewBox=\"0 -960 960 960\">\n",
              "    <path d=\"M120-120v-720h720v720H120Zm60-500h600v-160H180v160Zm220 220h160v-160H400v160Zm0 220h160v-160H400v160ZM180-400h160v-160H180v160Zm440 0h160v-160H620v160ZM180-180h160v-160H180v160Zm440 0h160v-160H620v160Z\"/>\n",
              "  </svg>\n",
              "    </button>\n",
              "\n",
              "  <style>\n",
              "    .colab-df-container {\n",
              "      display:flex;\n",
              "      gap: 12px;\n",
              "    }\n",
              "\n",
              "    .colab-df-convert {\n",
              "      background-color: #E8F0FE;\n",
              "      border: none;\n",
              "      border-radius: 50%;\n",
              "      cursor: pointer;\n",
              "      display: none;\n",
              "      fill: #1967D2;\n",
              "      height: 32px;\n",
              "      padding: 0 0 0 0;\n",
              "      width: 32px;\n",
              "    }\n",
              "\n",
              "    .colab-df-convert:hover {\n",
              "      background-color: #E2EBFA;\n",
              "      box-shadow: 0px 1px 2px rgba(60, 64, 67, 0.3), 0px 1px 3px 1px rgba(60, 64, 67, 0.15);\n",
              "      fill: #174EA6;\n",
              "    }\n",
              "\n",
              "    .colab-df-buttons div {\n",
              "      margin-bottom: 4px;\n",
              "    }\n",
              "\n",
              "    [theme=dark] .colab-df-convert {\n",
              "      background-color: #3B4455;\n",
              "      fill: #D2E3FC;\n",
              "    }\n",
              "\n",
              "    [theme=dark] .colab-df-convert:hover {\n",
              "      background-color: #434B5C;\n",
              "      box-shadow: 0px 1px 3px 1px rgba(0, 0, 0, 0.15);\n",
              "      filter: drop-shadow(0px 1px 2px rgba(0, 0, 0, 0.3));\n",
              "      fill: #FFFFFF;\n",
              "    }\n",
              "  </style>\n",
              "\n",
              "    <script>\n",
              "      const buttonEl =\n",
              "        document.querySelector('#df-52ca41c3-1fe1-4b30-b3ba-aa59ae3c1d24 button.colab-df-convert');\n",
              "      buttonEl.style.display =\n",
              "        google.colab.kernel.accessAllowed ? 'block' : 'none';\n",
              "\n",
              "      async function convertToInteractive(key) {\n",
              "        const element = document.querySelector('#df-52ca41c3-1fe1-4b30-b3ba-aa59ae3c1d24');\n",
              "        const dataTable =\n",
              "          await google.colab.kernel.invokeFunction('convertToInteractive',\n",
              "                                                    [key], {});\n",
              "        if (!dataTable) return;\n",
              "\n",
              "        const docLinkHtml = 'Like what you see? Visit the ' +\n",
              "          '<a target=\"_blank\" href=https://colab.research.google.com/notebooks/data_table.ipynb>data table notebook</a>'\n",
              "          + ' to learn more about interactive tables.';\n",
              "        element.innerHTML = '';\n",
              "        dataTable['output_type'] = 'display_data';\n",
              "        await google.colab.output.renderOutput(dataTable, element);\n",
              "        const docLink = document.createElement('div');\n",
              "        docLink.innerHTML = docLinkHtml;\n",
              "        element.appendChild(docLink);\n",
              "      }\n",
              "    </script>\n",
              "  </div>\n",
              "\n",
              "\n",
              "<div id=\"df-99888ee7-95ea-47ca-a9fd-bc5087edefe7\">\n",
              "  <button class=\"colab-df-quickchart\" onclick=\"quickchart('df-99888ee7-95ea-47ca-a9fd-bc5087edefe7')\"\n",
              "            title=\"Suggest charts\"\n",
              "            style=\"display:none;\">\n",
              "\n",
              "<svg xmlns=\"http://www.w3.org/2000/svg\" height=\"24px\"viewBox=\"0 0 24 24\"\n",
              "     width=\"24px\">\n",
              "    <g>\n",
              "        <path d=\"M19 3H5c-1.1 0-2 .9-2 2v14c0 1.1.9 2 2 2h14c1.1 0 2-.9 2-2V5c0-1.1-.9-2-2-2zM9 17H7v-7h2v7zm4 0h-2V7h2v10zm4 0h-2v-4h2v4z\"/>\n",
              "    </g>\n",
              "</svg>\n",
              "  </button>\n",
              "\n",
              "<style>\n",
              "  .colab-df-quickchart {\n",
              "      --bg-color: #E8F0FE;\n",
              "      --fill-color: #1967D2;\n",
              "      --hover-bg-color: #E2EBFA;\n",
              "      --hover-fill-color: #174EA6;\n",
              "      --disabled-fill-color: #AAA;\n",
              "      --disabled-bg-color: #DDD;\n",
              "  }\n",
              "\n",
              "  [theme=dark] .colab-df-quickchart {\n",
              "      --bg-color: #3B4455;\n",
              "      --fill-color: #D2E3FC;\n",
              "      --hover-bg-color: #434B5C;\n",
              "      --hover-fill-color: #FFFFFF;\n",
              "      --disabled-bg-color: #3B4455;\n",
              "      --disabled-fill-color: #666;\n",
              "  }\n",
              "\n",
              "  .colab-df-quickchart {\n",
              "    background-color: var(--bg-color);\n",
              "    border: none;\n",
              "    border-radius: 50%;\n",
              "    cursor: pointer;\n",
              "    display: none;\n",
              "    fill: var(--fill-color);\n",
              "    height: 32px;\n",
              "    padding: 0;\n",
              "    width: 32px;\n",
              "  }\n",
              "\n",
              "  .colab-df-quickchart:hover {\n",
              "    background-color: var(--hover-bg-color);\n",
              "    box-shadow: 0 1px 2px rgba(60, 64, 67, 0.3), 0 1px 3px 1px rgba(60, 64, 67, 0.15);\n",
              "    fill: var(--button-hover-fill-color);\n",
              "  }\n",
              "\n",
              "  .colab-df-quickchart-complete:disabled,\n",
              "  .colab-df-quickchart-complete:disabled:hover {\n",
              "    background-color: var(--disabled-bg-color);\n",
              "    fill: var(--disabled-fill-color);\n",
              "    box-shadow: none;\n",
              "  }\n",
              "\n",
              "  .colab-df-spinner {\n",
              "    border: 2px solid var(--fill-color);\n",
              "    border-color: transparent;\n",
              "    border-bottom-color: var(--fill-color);\n",
              "    animation:\n",
              "      spin 1s steps(1) infinite;\n",
              "  }\n",
              "\n",
              "  @keyframes spin {\n",
              "    0% {\n",
              "      border-color: transparent;\n",
              "      border-bottom-color: var(--fill-color);\n",
              "      border-left-color: var(--fill-color);\n",
              "    }\n",
              "    20% {\n",
              "      border-color: transparent;\n",
              "      border-left-color: var(--fill-color);\n",
              "      border-top-color: var(--fill-color);\n",
              "    }\n",
              "    30% {\n",
              "      border-color: transparent;\n",
              "      border-left-color: var(--fill-color);\n",
              "      border-top-color: var(--fill-color);\n",
              "      border-right-color: var(--fill-color);\n",
              "    }\n",
              "    40% {\n",
              "      border-color: transparent;\n",
              "      border-right-color: var(--fill-color);\n",
              "      border-top-color: var(--fill-color);\n",
              "    }\n",
              "    60% {\n",
              "      border-color: transparent;\n",
              "      border-right-color: var(--fill-color);\n",
              "    }\n",
              "    80% {\n",
              "      border-color: transparent;\n",
              "      border-right-color: var(--fill-color);\n",
              "      border-bottom-color: var(--fill-color);\n",
              "    }\n",
              "    90% {\n",
              "      border-color: transparent;\n",
              "      border-bottom-color: var(--fill-color);\n",
              "    }\n",
              "  }\n",
              "</style>\n",
              "\n",
              "  <script>\n",
              "    async function quickchart(key) {\n",
              "      const quickchartButtonEl =\n",
              "        document.querySelector('#' + key + ' button');\n",
              "      quickchartButtonEl.disabled = true;  // To prevent multiple clicks.\n",
              "      quickchartButtonEl.classList.add('colab-df-spinner');\n",
              "      try {\n",
              "        const charts = await google.colab.kernel.invokeFunction(\n",
              "            'suggestCharts', [key], {});\n",
              "      } catch (error) {\n",
              "        console.error('Error during call to suggestCharts:', error);\n",
              "      }\n",
              "      quickchartButtonEl.classList.remove('colab-df-spinner');\n",
              "      quickchartButtonEl.classList.add('colab-df-quickchart-complete');\n",
              "    }\n",
              "    (() => {\n",
              "      let quickchartButtonEl =\n",
              "        document.querySelector('#df-99888ee7-95ea-47ca-a9fd-bc5087edefe7 button');\n",
              "      quickchartButtonEl.style.display =\n",
              "        google.colab.kernel.accessAllowed ? 'block' : 'none';\n",
              "    })();\n",
              "  </script>\n",
              "</div>\n",
              "    </div>\n",
              "  </div>\n"
            ],
            "text/plain": [
              "   noun_count  verb_count  adj_count  adv_count  pron_count  chart_count  \\\n",
              "0           6           3          1          2           0           93   \n",
              "1          10           2          4          0           0          192   \n",
              "2           3           1          1          0           0           63   \n",
              "3           9           0          1          0           0           33   \n",
              "4          14           3          0          0           0          184   \n",
              "\n",
              "   word_count  word_density  upper_case_word_count  title_word_count  \n",
              "0          17      5.166667                      0                 1  \n",
              "1          24      7.680000                      0                 1  \n",
              "2          10      5.727273                      0                 1  \n",
              "3           6      4.714286                      1                 4  \n",
              "4          29      6.133333                      2                 1  "
            ]
          },
          "execution_count": 12,
          "metadata": {},
          "output_type": "execute_result"
        }
      ],
      "source": [
        "syn_features_df.head()"
      ]
    },
    {
      "cell_type": "markdown",
      "metadata": {
        "id": "N6fQxWpJH1XE"
      },
      "source": [
        "Concate the new features with the job description data"
      ]
    },
    {
      "cell_type": "code",
      "execution_count": 13,
      "metadata": {
        "id": "qxsLr6WTPiij"
      },
      "outputs": [],
      "source": [
        "job_training_df = pd.concat([job_training_df, syn_features_df.reindex(job_training_df.index)], axis=1)"
      ]
    },
    {
      "cell_type": "code",
      "execution_count": 14,
      "metadata": {
        "colab": {
          "base_uri": "https://localhost:8080/",
          "height": 400
        },
        "id": "32qYzChA0KrT",
        "outputId": "8adf66b6-7211-4d1a-a17c-d3e232e43cea"
      },
      "outputs": [
        {
          "data": {
            "text/html": [
              "\n",
              "  <div id=\"df-382dcb1f-c1e1-4bec-97b4-1cee5ce9946a\" class=\"colab-df-container\">\n",
              "    <div>\n",
              "<style scoped>\n",
              "    .dataframe tbody tr th:only-of-type {\n",
              "        vertical-align: middle;\n",
              "    }\n",
              "\n",
              "    .dataframe tbody tr th {\n",
              "        vertical-align: top;\n",
              "    }\n",
              "\n",
              "    .dataframe thead th {\n",
              "        text-align: right;\n",
              "    }\n",
              "</style>\n",
              "<table border=\"1\" class=\"dataframe\">\n",
              "  <thead>\n",
              "    <tr style=\"text-align: right;\">\n",
              "      <th></th>\n",
              "      <th>job_id</th>\n",
              "      <th>segment_index</th>\n",
              "      <th>segment</th>\n",
              "      <th>section_label</th>\n",
              "      <th>noun_count</th>\n",
              "      <th>verb_count</th>\n",
              "      <th>adj_count</th>\n",
              "      <th>adv_count</th>\n",
              "      <th>pron_count</th>\n",
              "      <th>chart_count</th>\n",
              "      <th>word_count</th>\n",
              "      <th>word_density</th>\n",
              "      <th>upper_case_word_count</th>\n",
              "      <th>title_word_count</th>\n",
              "    </tr>\n",
              "  </thead>\n",
              "  <tbody>\n",
              "    <tr>\n",
              "      <th>0</th>\n",
              "      <td>05b865e93e8e46579075562865973d3b</td>\n",
              "      <td>0</td>\n",
              "      <td>Abbott is a global healthcare leader that help...</td>\n",
              "      <td>About Company</td>\n",
              "      <td>6</td>\n",
              "      <td>3</td>\n",
              "      <td>1</td>\n",
              "      <td>2</td>\n",
              "      <td>0</td>\n",
              "      <td>93</td>\n",
              "      <td>17</td>\n",
              "      <td>5.166667</td>\n",
              "      <td>0</td>\n",
              "      <td>1</td>\n",
              "    </tr>\n",
              "    <tr>\n",
              "      <th>1</th>\n",
              "      <td>05b865e93e8e46579075562865973d3b</td>\n",
              "      <td>94</td>\n",
              "      <td>Our portfolio of life-changing technologies sp...</td>\n",
              "      <td>About Company</td>\n",
              "      <td>10</td>\n",
              "      <td>2</td>\n",
              "      <td>4</td>\n",
              "      <td>0</td>\n",
              "      <td>0</td>\n",
              "      <td>192</td>\n",
              "      <td>24</td>\n",
              "      <td>7.680000</td>\n",
              "      <td>0</td>\n",
              "      <td>1</td>\n",
              "    </tr>\n",
              "    <tr>\n",
              "      <th>2</th>\n",
              "      <td>05b865e93e8e46579075562865973d3b</td>\n",
              "      <td>287</td>\n",
              "      <td>Our 109,000 colleagues\\nserve people in more t...</td>\n",
              "      <td>About Company</td>\n",
              "      <td>3</td>\n",
              "      <td>1</td>\n",
              "      <td>1</td>\n",
              "      <td>0</td>\n",
              "      <td>0</td>\n",
              "      <td>63</td>\n",
              "      <td>10</td>\n",
              "      <td>5.727273</td>\n",
              "      <td>0</td>\n",
              "      <td>1</td>\n",
              "    </tr>\n",
              "    <tr>\n",
              "      <th>3</th>\n",
              "      <td>05b865e93e8e46579075562865973d3b</td>\n",
              "      <td>353</td>\n",
              "      <td>**Tissue Trainer – St. Paul, MN**</td>\n",
              "      <td>Job Title</td>\n",
              "      <td>9</td>\n",
              "      <td>0</td>\n",
              "      <td>1</td>\n",
              "      <td>0</td>\n",
              "      <td>0</td>\n",
              "      <td>33</td>\n",
              "      <td>6</td>\n",
              "      <td>4.714286</td>\n",
              "      <td>1</td>\n",
              "      <td>4</td>\n",
              "    </tr>\n",
              "    <tr>\n",
              "      <th>4</th>\n",
              "      <td>05b865e93e8e46579075562865973d3b</td>\n",
              "      <td>388</td>\n",
              "      <td>Our business purpose is to restore health and ...</td>\n",
              "      <td>About Company</td>\n",
              "      <td>14</td>\n",
              "      <td>3</td>\n",
              "      <td>0</td>\n",
              "      <td>0</td>\n",
              "      <td>0</td>\n",
              "      <td>184</td>\n",
              "      <td>29</td>\n",
              "      <td>6.133333</td>\n",
              "      <td>2</td>\n",
              "      <td>1</td>\n",
              "    </tr>\n",
              "  </tbody>\n",
              "</table>\n",
              "</div>\n",
              "    <div class=\"colab-df-buttons\">\n",
              "\n",
              "  <div class=\"colab-df-container\">\n",
              "    <button class=\"colab-df-convert\" onclick=\"convertToInteractive('df-382dcb1f-c1e1-4bec-97b4-1cee5ce9946a')\"\n",
              "            title=\"Convert this dataframe to an interactive table.\"\n",
              "            style=\"display:none;\">\n",
              "\n",
              "  <svg xmlns=\"http://www.w3.org/2000/svg\" height=\"24px\" viewBox=\"0 -960 960 960\">\n",
              "    <path d=\"M120-120v-720h720v720H120Zm60-500h600v-160H180v160Zm220 220h160v-160H400v160Zm0 220h160v-160H400v160ZM180-400h160v-160H180v160Zm440 0h160v-160H620v160ZM180-180h160v-160H180v160Zm440 0h160v-160H620v160Z\"/>\n",
              "  </svg>\n",
              "    </button>\n",
              "\n",
              "  <style>\n",
              "    .colab-df-container {\n",
              "      display:flex;\n",
              "      gap: 12px;\n",
              "    }\n",
              "\n",
              "    .colab-df-convert {\n",
              "      background-color: #E8F0FE;\n",
              "      border: none;\n",
              "      border-radius: 50%;\n",
              "      cursor: pointer;\n",
              "      display: none;\n",
              "      fill: #1967D2;\n",
              "      height: 32px;\n",
              "      padding: 0 0 0 0;\n",
              "      width: 32px;\n",
              "    }\n",
              "\n",
              "    .colab-df-convert:hover {\n",
              "      background-color: #E2EBFA;\n",
              "      box-shadow: 0px 1px 2px rgba(60, 64, 67, 0.3), 0px 1px 3px 1px rgba(60, 64, 67, 0.15);\n",
              "      fill: #174EA6;\n",
              "    }\n",
              "\n",
              "    .colab-df-buttons div {\n",
              "      margin-bottom: 4px;\n",
              "    }\n",
              "\n",
              "    [theme=dark] .colab-df-convert {\n",
              "      background-color: #3B4455;\n",
              "      fill: #D2E3FC;\n",
              "    }\n",
              "\n",
              "    [theme=dark] .colab-df-convert:hover {\n",
              "      background-color: #434B5C;\n",
              "      box-shadow: 0px 1px 3px 1px rgba(0, 0, 0, 0.15);\n",
              "      filter: drop-shadow(0px 1px 2px rgba(0, 0, 0, 0.3));\n",
              "      fill: #FFFFFF;\n",
              "    }\n",
              "  </style>\n",
              "\n",
              "    <script>\n",
              "      const buttonEl =\n",
              "        document.querySelector('#df-382dcb1f-c1e1-4bec-97b4-1cee5ce9946a button.colab-df-convert');\n",
              "      buttonEl.style.display =\n",
              "        google.colab.kernel.accessAllowed ? 'block' : 'none';\n",
              "\n",
              "      async function convertToInteractive(key) {\n",
              "        const element = document.querySelector('#df-382dcb1f-c1e1-4bec-97b4-1cee5ce9946a');\n",
              "        const dataTable =\n",
              "          await google.colab.kernel.invokeFunction('convertToInteractive',\n",
              "                                                    [key], {});\n",
              "        if (!dataTable) return;\n",
              "\n",
              "        const docLinkHtml = 'Like what you see? Visit the ' +\n",
              "          '<a target=\"_blank\" href=https://colab.research.google.com/notebooks/data_table.ipynb>data table notebook</a>'\n",
              "          + ' to learn more about interactive tables.';\n",
              "        element.innerHTML = '';\n",
              "        dataTable['output_type'] = 'display_data';\n",
              "        await google.colab.output.renderOutput(dataTable, element);\n",
              "        const docLink = document.createElement('div');\n",
              "        docLink.innerHTML = docLinkHtml;\n",
              "        element.appendChild(docLink);\n",
              "      }\n",
              "    </script>\n",
              "  </div>\n",
              "\n",
              "\n",
              "<div id=\"df-9009a0fd-af93-4568-ac93-c8d67cea906c\">\n",
              "  <button class=\"colab-df-quickchart\" onclick=\"quickchart('df-9009a0fd-af93-4568-ac93-c8d67cea906c')\"\n",
              "            title=\"Suggest charts\"\n",
              "            style=\"display:none;\">\n",
              "\n",
              "<svg xmlns=\"http://www.w3.org/2000/svg\" height=\"24px\"viewBox=\"0 0 24 24\"\n",
              "     width=\"24px\">\n",
              "    <g>\n",
              "        <path d=\"M19 3H5c-1.1 0-2 .9-2 2v14c0 1.1.9 2 2 2h14c1.1 0 2-.9 2-2V5c0-1.1-.9-2-2-2zM9 17H7v-7h2v7zm4 0h-2V7h2v10zm4 0h-2v-4h2v4z\"/>\n",
              "    </g>\n",
              "</svg>\n",
              "  </button>\n",
              "\n",
              "<style>\n",
              "  .colab-df-quickchart {\n",
              "      --bg-color: #E8F0FE;\n",
              "      --fill-color: #1967D2;\n",
              "      --hover-bg-color: #E2EBFA;\n",
              "      --hover-fill-color: #174EA6;\n",
              "      --disabled-fill-color: #AAA;\n",
              "      --disabled-bg-color: #DDD;\n",
              "  }\n",
              "\n",
              "  [theme=dark] .colab-df-quickchart {\n",
              "      --bg-color: #3B4455;\n",
              "      --fill-color: #D2E3FC;\n",
              "      --hover-bg-color: #434B5C;\n",
              "      --hover-fill-color: #FFFFFF;\n",
              "      --disabled-bg-color: #3B4455;\n",
              "      --disabled-fill-color: #666;\n",
              "  }\n",
              "\n",
              "  .colab-df-quickchart {\n",
              "    background-color: var(--bg-color);\n",
              "    border: none;\n",
              "    border-radius: 50%;\n",
              "    cursor: pointer;\n",
              "    display: none;\n",
              "    fill: var(--fill-color);\n",
              "    height: 32px;\n",
              "    padding: 0;\n",
              "    width: 32px;\n",
              "  }\n",
              "\n",
              "  .colab-df-quickchart:hover {\n",
              "    background-color: var(--hover-bg-color);\n",
              "    box-shadow: 0 1px 2px rgba(60, 64, 67, 0.3), 0 1px 3px 1px rgba(60, 64, 67, 0.15);\n",
              "    fill: var(--button-hover-fill-color);\n",
              "  }\n",
              "\n",
              "  .colab-df-quickchart-complete:disabled,\n",
              "  .colab-df-quickchart-complete:disabled:hover {\n",
              "    background-color: var(--disabled-bg-color);\n",
              "    fill: var(--disabled-fill-color);\n",
              "    box-shadow: none;\n",
              "  }\n",
              "\n",
              "  .colab-df-spinner {\n",
              "    border: 2px solid var(--fill-color);\n",
              "    border-color: transparent;\n",
              "    border-bottom-color: var(--fill-color);\n",
              "    animation:\n",
              "      spin 1s steps(1) infinite;\n",
              "  }\n",
              "\n",
              "  @keyframes spin {\n",
              "    0% {\n",
              "      border-color: transparent;\n",
              "      border-bottom-color: var(--fill-color);\n",
              "      border-left-color: var(--fill-color);\n",
              "    }\n",
              "    20% {\n",
              "      border-color: transparent;\n",
              "      border-left-color: var(--fill-color);\n",
              "      border-top-color: var(--fill-color);\n",
              "    }\n",
              "    30% {\n",
              "      border-color: transparent;\n",
              "      border-left-color: var(--fill-color);\n",
              "      border-top-color: var(--fill-color);\n",
              "      border-right-color: var(--fill-color);\n",
              "    }\n",
              "    40% {\n",
              "      border-color: transparent;\n",
              "      border-right-color: var(--fill-color);\n",
              "      border-top-color: var(--fill-color);\n",
              "    }\n",
              "    60% {\n",
              "      border-color: transparent;\n",
              "      border-right-color: var(--fill-color);\n",
              "    }\n",
              "    80% {\n",
              "      border-color: transparent;\n",
              "      border-right-color: var(--fill-color);\n",
              "      border-bottom-color: var(--fill-color);\n",
              "    }\n",
              "    90% {\n",
              "      border-color: transparent;\n",
              "      border-bottom-color: var(--fill-color);\n",
              "    }\n",
              "  }\n",
              "</style>\n",
              "\n",
              "  <script>\n",
              "    async function quickchart(key) {\n",
              "      const quickchartButtonEl =\n",
              "        document.querySelector('#' + key + ' button');\n",
              "      quickchartButtonEl.disabled = true;  // To prevent multiple clicks.\n",
              "      quickchartButtonEl.classList.add('colab-df-spinner');\n",
              "      try {\n",
              "        const charts = await google.colab.kernel.invokeFunction(\n",
              "            'suggestCharts', [key], {});\n",
              "      } catch (error) {\n",
              "        console.error('Error during call to suggestCharts:', error);\n",
              "      }\n",
              "      quickchartButtonEl.classList.remove('colab-df-spinner');\n",
              "      quickchartButtonEl.classList.add('colab-df-quickchart-complete');\n",
              "    }\n",
              "    (() => {\n",
              "      let quickchartButtonEl =\n",
              "        document.querySelector('#df-9009a0fd-af93-4568-ac93-c8d67cea906c button');\n",
              "      quickchartButtonEl.style.display =\n",
              "        google.colab.kernel.accessAllowed ? 'block' : 'none';\n",
              "    })();\n",
              "  </script>\n",
              "</div>\n",
              "    </div>\n",
              "  </div>\n"
            ],
            "text/plain": [
              "                             job_id  segment_index  \\\n",
              "0  05b865e93e8e46579075562865973d3b              0   \n",
              "1  05b865e93e8e46579075562865973d3b             94   \n",
              "2  05b865e93e8e46579075562865973d3b            287   \n",
              "3  05b865e93e8e46579075562865973d3b            353   \n",
              "4  05b865e93e8e46579075562865973d3b            388   \n",
              "\n",
              "                                             segment  section_label  \\\n",
              "0  Abbott is a global healthcare leader that help...  About Company   \n",
              "1  Our portfolio of life-changing technologies sp...  About Company   \n",
              "2  Our 109,000 colleagues\\nserve people in more t...  About Company   \n",
              "3                  **Tissue Trainer – St. Paul, MN**      Job Title   \n",
              "4  Our business purpose is to restore health and ...  About Company   \n",
              "\n",
              "   noun_count  verb_count  adj_count  adv_count  pron_count  chart_count  \\\n",
              "0           6           3          1          2           0           93   \n",
              "1          10           2          4          0           0          192   \n",
              "2           3           1          1          0           0           63   \n",
              "3           9           0          1          0           0           33   \n",
              "4          14           3          0          0           0          184   \n",
              "\n",
              "   word_count  word_density  upper_case_word_count  title_word_count  \n",
              "0          17      5.166667                      0                 1  \n",
              "1          24      7.680000                      0                 1  \n",
              "2          10      5.727273                      0                 1  \n",
              "3           6      4.714286                      1                 4  \n",
              "4          29      6.133333                      2                 1  "
            ]
          },
          "execution_count": 14,
          "metadata": {},
          "output_type": "execute_result"
        }
      ],
      "source": [
        "job_training_df.head()"
      ]
    },
    {
      "cell_type": "markdown",
      "metadata": {
        "id": "aOwMOETTOZu_"
      },
      "source": [
        "## Pre-process text"
      ]
    },
    {
      "cell_type": "markdown",
      "metadata": {
        "id": "ZJVUXvs4JIXP"
      },
      "source": [
        "Pre-process job description sentences to be used  by the machine learning algorithms. In this sense, sentences are converted to a list of `lower case tokens`, `removing` in this process the `stops words`, `punctuations`, and `digits`."
      ]
    },
    {
      "cell_type": "code",
      "execution_count": 15,
      "metadata": {
        "id": "MqFin9F2mssN"
      },
      "outputs": [],
      "source": [
        "processed_segs = preprocess_segments(job_training_df['segment'])"
      ]
    },
    {
      "cell_type": "code",
      "execution_count": 16,
      "metadata": {
        "colab": {
          "base_uri": "https://localhost:8080/"
        },
        "id": "HSYehfUn54-t",
        "outputId": "072b6554-087b-4979-cbdc-288cd2eb006f"
      },
      "outputs": [
        {
          "data": {
            "text/plain": [
              "['abbott',\n",
              " 'is',\n",
              " 'a',\n",
              " 'global',\n",
              " 'healthcare',\n",
              " 'leader',\n",
              " 'that',\n",
              " 'helps',\n",
              " 'people',\n",
              " 'live',\n",
              " 'more',\n",
              " 'fully',\n",
              " 'at',\n",
              " 'all',\n",
              " 'stages',\n",
              " 'of',\n",
              " 'life']"
            ]
          },
          "execution_count": 16,
          "metadata": {},
          "output_type": "execute_result"
        }
      ],
      "source": [
        "# Let's explore tokens of the first segment\n",
        "processed_segs[0]"
      ]
    },
    {
      "cell_type": "code",
      "execution_count": 17,
      "metadata": {
        "colab": {
          "base_uri": "https://localhost:8080/"
        },
        "id": "ypR78s9s0Y0g",
        "outputId": "f2116bce-2f49-4f42-f669-17096977bf52"
      },
      "outputs": [
        {
          "name": "stdout",
          "output_type": "stream",
          "text": [
            "There are 97 empty segments\n"
          ]
        }
      ],
      "source": [
        "# Check if processing tasks result in empty segments\n",
        "idx_empty_segs = [idx for idx, seg in enumerate(processed_segs) if len(seg) == 0]\n",
        "print(f'There are {len(idx_empty_segs)} empty segments')"
      ]
    },
    {
      "cell_type": "code",
      "execution_count": 18,
      "metadata": {
        "colab": {
          "base_uri": "https://localhost:8080/"
        },
        "id": "FqR71zBS0dWT",
        "outputId": "28f01e16-6d0c-4673-e0ad-e31fa61e409d"
      },
      "outputs": [
        {
          "name": "stdout",
          "output_type": "stream",
          "text": [
            "[171] ****\n",
            "[175] ****\n",
            "[178] ****\n",
            "[505] **\n",
            "[508] ****\n",
            "[514] ****\n",
            "[527] __\n",
            "[535] :**\n",
            "[552] 16.\n",
            "[556] 19.\n",
            "[558] 20.\n",
            "[606] *\n",
            "[657] *\n",
            "[945] *\n",
            "[951] *\n",
            "[1101] *\n",
            "[1105] *\n",
            "[1191] •\n",
            "[1199] •\n",
            "[1203] •\n",
            "[1354] *\n",
            "[1365] *\n",
            "[1413] :**\n",
            "[1447] *\n",
            "[1625] ·\n",
            "[1627] ·\n",
            "[1671] *\n",
            "[1694] ·\n",
            "[1697] ·\n",
            "[1931] •\n",
            "[1940] •\n",
            "[1944] •\n",
            "[1946] •\n",
            "[2144] -\n",
            "[2154] -\n",
            "[2188] :**\n",
            "[2685] ****\n",
            "[2688] ****\n",
            "[2690] ****\n",
            "[2693] ****\n",
            "[2696] ****\n",
            "[2698] ****\n",
            "[2818] *\n",
            "[2873] ...\n",
            "[2987] *\n",
            "[2989] *\n",
            "[3002] *\n",
            "[3004] *\n",
            "[3025] •\n",
            "[3028] •\n",
            "[3030] •\n",
            "[3033] •\n",
            "[3038] •\n",
            "[3040] •\n",
            "[3042] •\n",
            "[3044] •\n",
            "[3046] •\n",
            "[3048] •\n",
            "[3051] •\n",
            "[3053] •\n",
            "[3055] •\n",
            "[3057] •\n",
            "[3059] •\n",
            "[3061] •\n",
            "[3066] •\n",
            "[3070] •\n",
            "[3182] ****\n",
            "[3249] _**\n",
            "[3397] ?\n",
            "[3423] *\n",
            "[3428] *\n",
            "[3433] *\n",
            "[3435] *\n",
            "[3440] *\n",
            "[3442] *\n",
            "[3447] *\n",
            "[3451] *\n",
            "[3453] *\n",
            "[3455] *\n",
            "[3457] *\n",
            "[3461] *\n",
            "[3488] *\n",
            "[3492] *\n",
            "[3600] *\n",
            "[3603] *\n",
            "[3693] -\n",
            "[3694] 160199\n",
            "[3699] ®\n",
            "[3703] ®\n",
            "[3704] .\n",
            "[3712] :\n",
            "[3739] 5\n",
            "[3756] :\n",
            "[3759] :\n",
            "[3762] :\n",
            "[3765] :\n",
            "[3850] •\n"
          ]
        }
      ],
      "source": [
        "# Let's look at how the empty segments look like\n",
        "for idx in idx_empty_segs:\n",
        "  print(f'[{idx}] {job_training_df.iloc[idx,2]}')"
      ]
    },
    {
      "cell_type": "code",
      "execution_count": 19,
      "metadata": {
        "colab": {
          "base_uri": "https://localhost:8080/"
        },
        "id": "ifbpgo2zfFQz",
        "outputId": "7a1e7a48-acae-4df7-b817-650d2db6f164"
      },
      "outputs": [
        {
          "name": "stdout",
          "output_type": "stream",
          "text": [
            "In total 3788 segments will be used\n"
          ]
        }
      ],
      "source": [
        "# Get rid empty segments\n",
        "processed_segs = [seg for seg in processed_segs if len(seg) > 0]\n",
        "print(f'In total {len(processed_segs)} segments will be used')\n",
        "# Get rid of rows with empty segments\n",
        "processed_job_training_df = job_training_df.drop(idx_empty_segs).reset_index(drop=True)\n",
        "assert len(processed_segs) == processed_job_training_df.shape[0], 'Number of rows in dataframe should be equal to the processed segments'"
      ]
    },
    {
      "cell_type": "markdown",
      "metadata": {
        "id": "NzucDSWiRBTV"
      },
      "source": [
        "## Encode labels"
      ]
    },
    {
      "cell_type": "markdown",
      "metadata": {
        "id": "CDDB1SsRTAU5"
      },
      "source": [
        "The target variable `section_label` contains categorical data, which need to be converted to numbers before usign them to train machine learning algorithms."
      ]
    },
    {
      "cell_type": "code",
      "execution_count": 20,
      "metadata": {
        "id": "dsJfEpGJRJKd"
      },
      "outputs": [],
      "source": [
        "labels = list(processed_job_training_df['section_label'].unique())\n",
        "label_values = list(processed_job_training_df['section_label'].values)\n",
        "encoded_labels = encode_labels(labels, label_values, models_dir)\n",
        "assert len(encoded_labels) == len(processed_segs), 'Number of lables should be equal to the processed segments'"
      ]
    },
    {
      "cell_type": "markdown",
      "metadata": {
        "id": "YpfJ-hajPM4-"
      },
      "source": [
        "## Split dataset"
      ]
    },
    {
      "cell_type": "markdown",
      "metadata": {
        "id": "ipLD7izQSlO-"
      },
      "source": [
        "Split the dataset into train and test, holding 20% for testing"
      ]
    },
    {
      "cell_type": "code",
      "execution_count": 21,
      "metadata": {
        "id": "VwZBs0XpxjmW"
      },
      "outputs": [],
      "source": [
        "features, labels = pd.concat([pd.Series(processed_segs, name='segment_tokens'), processed_job_training_df['segment_index'],\n",
        "                              processed_job_training_df.iloc[:,4:]], axis=1), encoded_labels\n",
        "features_train, features_test, y_train, y_test = train_test_split(features, labels, random_state=random_state,\n",
        "                                                                  test_size=0.10, stratify=labels)"
      ]
    },
    {
      "cell_type": "code",
      "execution_count": 22,
      "metadata": {
        "colab": {
          "base_uri": "https://localhost:8080/",
          "height": 143
        },
        "id": "A-UVH-l9Jrv6",
        "outputId": "aad74e97-7033-4517-aeb7-3f9226b01018"
      },
      "outputs": [
        {
          "data": {
            "text/html": [
              "\n",
              "  <div id=\"df-5cbb8cec-0626-40e6-a59d-a2ac0a456fb9\" class=\"colab-df-container\">\n",
              "    <div>\n",
              "<style scoped>\n",
              "    .dataframe tbody tr th:only-of-type {\n",
              "        vertical-align: middle;\n",
              "    }\n",
              "\n",
              "    .dataframe tbody tr th {\n",
              "        vertical-align: top;\n",
              "    }\n",
              "\n",
              "    .dataframe thead th {\n",
              "        text-align: right;\n",
              "    }\n",
              "</style>\n",
              "<table border=\"1\" class=\"dataframe\">\n",
              "  <thead>\n",
              "    <tr style=\"text-align: right;\">\n",
              "      <th></th>\n",
              "      <th>segment_tokens</th>\n",
              "      <th>segment_index</th>\n",
              "      <th>noun_count</th>\n",
              "      <th>verb_count</th>\n",
              "      <th>adj_count</th>\n",
              "      <th>adv_count</th>\n",
              "      <th>pron_count</th>\n",
              "      <th>chart_count</th>\n",
              "      <th>word_count</th>\n",
              "      <th>word_density</th>\n",
              "      <th>upper_case_word_count</th>\n",
              "      <th>title_word_count</th>\n",
              "    </tr>\n",
              "  </thead>\n",
              "  <tbody>\n",
              "    <tr>\n",
              "      <th>1356</th>\n",
              "      <td>[minimum, of, years, security, experience, is,...</td>\n",
              "      <td>1177</td>\n",
              "      <td>4</td>\n",
              "      <td>2</td>\n",
              "      <td>1</td>\n",
              "      <td>0</td>\n",
              "      <td>0</td>\n",
              "      <td>54</td>\n",
              "      <td>8</td>\n",
              "      <td>6.000000</td>\n",
              "      <td>0</td>\n",
              "      <td>1</td>\n",
              "    </tr>\n",
              "    <tr>\n",
              "      <th>647</th>\n",
              "      <td>[why, kelly]</td>\n",
              "      <td>3000</td>\n",
              "      <td>3</td>\n",
              "      <td>1</td>\n",
              "      <td>1</td>\n",
              "      <td>0</td>\n",
              "      <td>0</td>\n",
              "      <td>20</td>\n",
              "      <td>5</td>\n",
              "      <td>3.333333</td>\n",
              "      <td>0</td>\n",
              "      <td>2</td>\n",
              "    </tr>\n",
              "    <tr>\n",
              "      <th>1234</th>\n",
              "      <td>[perform, a, variety, of, standard, molecular,...</td>\n",
              "      <td>284</td>\n",
              "      <td>6</td>\n",
              "      <td>1</td>\n",
              "      <td>5</td>\n",
              "      <td>0</td>\n",
              "      <td>0</td>\n",
              "      <td>134</td>\n",
              "      <td>15</td>\n",
              "      <td>8.375000</td>\n",
              "      <td>0</td>\n",
              "      <td>1</td>\n",
              "    </tr>\n",
              "  </tbody>\n",
              "</table>\n",
              "</div>\n",
              "    <div class=\"colab-df-buttons\">\n",
              "\n",
              "  <div class=\"colab-df-container\">\n",
              "    <button class=\"colab-df-convert\" onclick=\"convertToInteractive('df-5cbb8cec-0626-40e6-a59d-a2ac0a456fb9')\"\n",
              "            title=\"Convert this dataframe to an interactive table.\"\n",
              "            style=\"display:none;\">\n",
              "\n",
              "  <svg xmlns=\"http://www.w3.org/2000/svg\" height=\"24px\" viewBox=\"0 -960 960 960\">\n",
              "    <path d=\"M120-120v-720h720v720H120Zm60-500h600v-160H180v160Zm220 220h160v-160H400v160Zm0 220h160v-160H400v160ZM180-400h160v-160H180v160Zm440 0h160v-160H620v160ZM180-180h160v-160H180v160Zm440 0h160v-160H620v160Z\"/>\n",
              "  </svg>\n",
              "    </button>\n",
              "\n",
              "  <style>\n",
              "    .colab-df-container {\n",
              "      display:flex;\n",
              "      gap: 12px;\n",
              "    }\n",
              "\n",
              "    .colab-df-convert {\n",
              "      background-color: #E8F0FE;\n",
              "      border: none;\n",
              "      border-radius: 50%;\n",
              "      cursor: pointer;\n",
              "      display: none;\n",
              "      fill: #1967D2;\n",
              "      height: 32px;\n",
              "      padding: 0 0 0 0;\n",
              "      width: 32px;\n",
              "    }\n",
              "\n",
              "    .colab-df-convert:hover {\n",
              "      background-color: #E2EBFA;\n",
              "      box-shadow: 0px 1px 2px rgba(60, 64, 67, 0.3), 0px 1px 3px 1px rgba(60, 64, 67, 0.15);\n",
              "      fill: #174EA6;\n",
              "    }\n",
              "\n",
              "    .colab-df-buttons div {\n",
              "      margin-bottom: 4px;\n",
              "    }\n",
              "\n",
              "    [theme=dark] .colab-df-convert {\n",
              "      background-color: #3B4455;\n",
              "      fill: #D2E3FC;\n",
              "    }\n",
              "\n",
              "    [theme=dark] .colab-df-convert:hover {\n",
              "      background-color: #434B5C;\n",
              "      box-shadow: 0px 1px 3px 1px rgba(0, 0, 0, 0.15);\n",
              "      filter: drop-shadow(0px 1px 2px rgba(0, 0, 0, 0.3));\n",
              "      fill: #FFFFFF;\n",
              "    }\n",
              "  </style>\n",
              "\n",
              "    <script>\n",
              "      const buttonEl =\n",
              "        document.querySelector('#df-5cbb8cec-0626-40e6-a59d-a2ac0a456fb9 button.colab-df-convert');\n",
              "      buttonEl.style.display =\n",
              "        google.colab.kernel.accessAllowed ? 'block' : 'none';\n",
              "\n",
              "      async function convertToInteractive(key) {\n",
              "        const element = document.querySelector('#df-5cbb8cec-0626-40e6-a59d-a2ac0a456fb9');\n",
              "        const dataTable =\n",
              "          await google.colab.kernel.invokeFunction('convertToInteractive',\n",
              "                                                    [key], {});\n",
              "        if (!dataTable) return;\n",
              "\n",
              "        const docLinkHtml = 'Like what you see? Visit the ' +\n",
              "          '<a target=\"_blank\" href=https://colab.research.google.com/notebooks/data_table.ipynb>data table notebook</a>'\n",
              "          + ' to learn more about interactive tables.';\n",
              "        element.innerHTML = '';\n",
              "        dataTable['output_type'] = 'display_data';\n",
              "        await google.colab.output.renderOutput(dataTable, element);\n",
              "        const docLink = document.createElement('div');\n",
              "        docLink.innerHTML = docLinkHtml;\n",
              "        element.appendChild(docLink);\n",
              "      }\n",
              "    </script>\n",
              "  </div>\n",
              "\n",
              "\n",
              "<div id=\"df-f84e2636-8276-4c4e-8407-b05ac2733a98\">\n",
              "  <button class=\"colab-df-quickchart\" onclick=\"quickchart('df-f84e2636-8276-4c4e-8407-b05ac2733a98')\"\n",
              "            title=\"Suggest charts\"\n",
              "            style=\"display:none;\">\n",
              "\n",
              "<svg xmlns=\"http://www.w3.org/2000/svg\" height=\"24px\"viewBox=\"0 0 24 24\"\n",
              "     width=\"24px\">\n",
              "    <g>\n",
              "        <path d=\"M19 3H5c-1.1 0-2 .9-2 2v14c0 1.1.9 2 2 2h14c1.1 0 2-.9 2-2V5c0-1.1-.9-2-2-2zM9 17H7v-7h2v7zm4 0h-2V7h2v10zm4 0h-2v-4h2v4z\"/>\n",
              "    </g>\n",
              "</svg>\n",
              "  </button>\n",
              "\n",
              "<style>\n",
              "  .colab-df-quickchart {\n",
              "      --bg-color: #E8F0FE;\n",
              "      --fill-color: #1967D2;\n",
              "      --hover-bg-color: #E2EBFA;\n",
              "      --hover-fill-color: #174EA6;\n",
              "      --disabled-fill-color: #AAA;\n",
              "      --disabled-bg-color: #DDD;\n",
              "  }\n",
              "\n",
              "  [theme=dark] .colab-df-quickchart {\n",
              "      --bg-color: #3B4455;\n",
              "      --fill-color: #D2E3FC;\n",
              "      --hover-bg-color: #434B5C;\n",
              "      --hover-fill-color: #FFFFFF;\n",
              "      --disabled-bg-color: #3B4455;\n",
              "      --disabled-fill-color: #666;\n",
              "  }\n",
              "\n",
              "  .colab-df-quickchart {\n",
              "    background-color: var(--bg-color);\n",
              "    border: none;\n",
              "    border-radius: 50%;\n",
              "    cursor: pointer;\n",
              "    display: none;\n",
              "    fill: var(--fill-color);\n",
              "    height: 32px;\n",
              "    padding: 0;\n",
              "    width: 32px;\n",
              "  }\n",
              "\n",
              "  .colab-df-quickchart:hover {\n",
              "    background-color: var(--hover-bg-color);\n",
              "    box-shadow: 0 1px 2px rgba(60, 64, 67, 0.3), 0 1px 3px 1px rgba(60, 64, 67, 0.15);\n",
              "    fill: var(--button-hover-fill-color);\n",
              "  }\n",
              "\n",
              "  .colab-df-quickchart-complete:disabled,\n",
              "  .colab-df-quickchart-complete:disabled:hover {\n",
              "    background-color: var(--disabled-bg-color);\n",
              "    fill: var(--disabled-fill-color);\n",
              "    box-shadow: none;\n",
              "  }\n",
              "\n",
              "  .colab-df-spinner {\n",
              "    border: 2px solid var(--fill-color);\n",
              "    border-color: transparent;\n",
              "    border-bottom-color: var(--fill-color);\n",
              "    animation:\n",
              "      spin 1s steps(1) infinite;\n",
              "  }\n",
              "\n",
              "  @keyframes spin {\n",
              "    0% {\n",
              "      border-color: transparent;\n",
              "      border-bottom-color: var(--fill-color);\n",
              "      border-left-color: var(--fill-color);\n",
              "    }\n",
              "    20% {\n",
              "      border-color: transparent;\n",
              "      border-left-color: var(--fill-color);\n",
              "      border-top-color: var(--fill-color);\n",
              "    }\n",
              "    30% {\n",
              "      border-color: transparent;\n",
              "      border-left-color: var(--fill-color);\n",
              "      border-top-color: var(--fill-color);\n",
              "      border-right-color: var(--fill-color);\n",
              "    }\n",
              "    40% {\n",
              "      border-color: transparent;\n",
              "      border-right-color: var(--fill-color);\n",
              "      border-top-color: var(--fill-color);\n",
              "    }\n",
              "    60% {\n",
              "      border-color: transparent;\n",
              "      border-right-color: var(--fill-color);\n",
              "    }\n",
              "    80% {\n",
              "      border-color: transparent;\n",
              "      border-right-color: var(--fill-color);\n",
              "      border-bottom-color: var(--fill-color);\n",
              "    }\n",
              "    90% {\n",
              "      border-color: transparent;\n",
              "      border-bottom-color: var(--fill-color);\n",
              "    }\n",
              "  }\n",
              "</style>\n",
              "\n",
              "  <script>\n",
              "    async function quickchart(key) {\n",
              "      const quickchartButtonEl =\n",
              "        document.querySelector('#' + key + ' button');\n",
              "      quickchartButtonEl.disabled = true;  // To prevent multiple clicks.\n",
              "      quickchartButtonEl.classList.add('colab-df-spinner');\n",
              "      try {\n",
              "        const charts = await google.colab.kernel.invokeFunction(\n",
              "            'suggestCharts', [key], {});\n",
              "      } catch (error) {\n",
              "        console.error('Error during call to suggestCharts:', error);\n",
              "      }\n",
              "      quickchartButtonEl.classList.remove('colab-df-spinner');\n",
              "      quickchartButtonEl.classList.add('colab-df-quickchart-complete');\n",
              "    }\n",
              "    (() => {\n",
              "      let quickchartButtonEl =\n",
              "        document.querySelector('#df-f84e2636-8276-4c4e-8407-b05ac2733a98 button');\n",
              "      quickchartButtonEl.style.display =\n",
              "        google.colab.kernel.accessAllowed ? 'block' : 'none';\n",
              "    })();\n",
              "  </script>\n",
              "</div>\n",
              "    </div>\n",
              "  </div>\n"
            ],
            "text/plain": [
              "                                         segment_tokens  segment_index  \\\n",
              "1356  [minimum, of, years, security, experience, is,...           1177   \n",
              "647                                        [why, kelly]           3000   \n",
              "1234  [perform, a, variety, of, standard, molecular,...            284   \n",
              "\n",
              "      noun_count  verb_count  adj_count  adv_count  pron_count  chart_count  \\\n",
              "1356           4           2          1          0           0           54   \n",
              "647            3           1          1          0           0           20   \n",
              "1234           6           1          5          0           0          134   \n",
              "\n",
              "      word_count  word_density  upper_case_word_count  title_word_count  \n",
              "1356           8      6.000000                      0                 1  \n",
              "647            5      3.333333                      0                 2  \n",
              "1234          15      8.375000                      0                 1  "
            ]
          },
          "execution_count": 22,
          "metadata": {},
          "output_type": "execute_result"
        }
      ],
      "source": [
        "features_train.head(3)"
      ]
    },
    {
      "cell_type": "code",
      "execution_count": 23,
      "metadata": {
        "colab": {
          "base_uri": "https://localhost:8080/"
        },
        "id": "g3z1EDUoL_8x",
        "outputId": "042636c3-8345-4510-d9a9-7b2d138123eb"
      },
      "outputs": [
        {
          "data": {
            "text/plain": [
              "array([4, 1, 3])"
            ]
          },
          "execution_count": 23,
          "metadata": {},
          "output_type": "execute_result"
        }
      ],
      "source": [
        "y_train[:3]"
      ]
    },
    {
      "cell_type": "markdown",
      "metadata": {
        "id": "EYc4OKT5D1xd"
      },
      "source": [
        "Check if the proportion of target classes has been preserved"
      ]
    },
    {
      "cell_type": "code",
      "execution_count": 24,
      "metadata": {
        "colab": {
          "base_uri": "https://localhost:8080/"
        },
        "id": "wZwbG6EDC-0m",
        "outputId": "86386ab9-5dd2-4320-de92-e2a464d9d51b"
      },
      "outputs": [
        {
          "data": {
            "text/plain": [
              "['Job Skills/Requirements', 'Benefits', 'Job Responsibilities/Summary']"
            ]
          },
          "execution_count": 24,
          "metadata": {},
          "output_type": "execute_result"
        }
      ],
      "source": [
        "labels_train = decode_labels(y_train, os.path.join(models_dir, 'encoder_classes.npy'))\n",
        "labels_train[:3]"
      ]
    },
    {
      "cell_type": "code",
      "execution_count": 25,
      "metadata": {
        "colab": {
          "base_uri": "https://localhost:8080/"
        },
        "id": "qYD7IqM1B14c",
        "outputId": "e5b9bc50-b52b-4589-bf24-1331cf2c3dd1"
      },
      "outputs": [
        {
          "data": {
            "text/plain": [
              "{'About Company': 0.11088295687885011,\n",
              " 'Benefits': 0.07509533587562335,\n",
              " 'EOE/Diversity': 0.043121149897330596,\n",
              " 'Job Responsibilities/Summary': 0.36931651510706953,\n",
              " 'Job Skills/Requirements': 0.26195365209738924,\n",
              " 'Job Title': 0.009093575828688765,\n",
              " 'Other': 0.1305368143150484}"
            ]
          },
          "execution_count": 25,
          "metadata": {},
          "output_type": "execute_result"
        }
      ],
      "source": [
        "unique, counts = np.unique(labels_train, return_counts=True)\n",
        "dict(zip(unique, counts/len(labels_train)))"
      ]
    },
    {
      "cell_type": "markdown",
      "metadata": {
        "id": "vSBF8LvJi9-p"
      },
      "source": [
        "## Scale non-textual features"
      ]
    },
    {
      "cell_type": "markdown",
      "metadata": {
        "id": "yAxfo3ChTOFB"
      },
      "source": [
        "Scale numerical features (i.e., the syntactical created before and the `segment_index`) so values are closer to word vectors that are generated in the next steps"
      ]
    },
    {
      "cell_type": "code",
      "execution_count": 26,
      "metadata": {
        "id": "rW1pXz8hSTvJ"
      },
      "outputs": [],
      "source": [
        "scaled_features_array = scale_features(np.array(features_train.iloc[:,1:]), models_dir)\n",
        "scaled_features_df = pd.DataFrame(scaled_features_array, columns=list(features_train.columns)[1:])"
      ]
    },
    {
      "cell_type": "code",
      "execution_count": 27,
      "metadata": {
        "colab": {
          "base_uri": "https://localhost:8080/",
          "height": 206
        },
        "id": "7AiqvVPOlk9x",
        "outputId": "d744827b-adfd-4d5f-cf7b-9d1253f5dcf6"
      },
      "outputs": [
        {
          "data": {
            "text/html": [
              "\n",
              "  <div id=\"df-b3409945-95ad-416a-9292-64ad37958cce\" class=\"colab-df-container\">\n",
              "    <div>\n",
              "<style scoped>\n",
              "    .dataframe tbody tr th:only-of-type {\n",
              "        vertical-align: middle;\n",
              "    }\n",
              "\n",
              "    .dataframe tbody tr th {\n",
              "        vertical-align: top;\n",
              "    }\n",
              "\n",
              "    .dataframe thead th {\n",
              "        text-align: right;\n",
              "    }\n",
              "</style>\n",
              "<table border=\"1\" class=\"dataframe\">\n",
              "  <thead>\n",
              "    <tr style=\"text-align: right;\">\n",
              "      <th></th>\n",
              "      <th>segment_index</th>\n",
              "      <th>noun_count</th>\n",
              "      <th>verb_count</th>\n",
              "      <th>adj_count</th>\n",
              "      <th>adv_count</th>\n",
              "      <th>pron_count</th>\n",
              "      <th>chart_count</th>\n",
              "      <th>word_count</th>\n",
              "      <th>word_density</th>\n",
              "      <th>upper_case_word_count</th>\n",
              "      <th>title_word_count</th>\n",
              "    </tr>\n",
              "  </thead>\n",
              "  <tbody>\n",
              "    <tr>\n",
              "      <th>0</th>\n",
              "      <td>-0.532704</td>\n",
              "      <td>-0.437331</td>\n",
              "      <td>-0.136614</td>\n",
              "      <td>-0.385304</td>\n",
              "      <td>-0.482161</td>\n",
              "      <td>-0.176252</td>\n",
              "      <td>-0.514814</td>\n",
              "      <td>-0.534461</td>\n",
              "      <td>-0.085476</td>\n",
              "      <td>-0.199011</td>\n",
              "      <td>-0.433468</td>\n",
              "    </tr>\n",
              "    <tr>\n",
              "      <th>1</th>\n",
              "      <td>0.399547</td>\n",
              "      <td>-0.549759</td>\n",
              "      <td>-0.531328</td>\n",
              "      <td>-0.385304</td>\n",
              "      <td>-0.482161</td>\n",
              "      <td>-0.176252</td>\n",
              "      <td>-0.784675</td>\n",
              "      <td>-0.704472</td>\n",
              "      <td>-1.689751</td>\n",
              "      <td>-0.199011</td>\n",
              "      <td>-0.160373</td>\n",
              "    </tr>\n",
              "    <tr>\n",
              "      <th>2</th>\n",
              "      <td>-0.989369</td>\n",
              "      <td>-0.212475</td>\n",
              "      <td>-0.531328</td>\n",
              "      <td>1.353352</td>\n",
              "      <td>-0.482161</td>\n",
              "      <td>-0.176252</td>\n",
              "      <td>0.120153</td>\n",
              "      <td>-0.137769</td>\n",
              "      <td>1.343331</td>\n",
              "      <td>-0.199011</td>\n",
              "      <td>-0.433468</td>\n",
              "    </tr>\n",
              "    <tr>\n",
              "      <th>3</th>\n",
              "      <td>-0.880956</td>\n",
              "      <td>1.136662</td>\n",
              "      <td>1.047526</td>\n",
              "      <td>1.353352</td>\n",
              "      <td>-0.482161</td>\n",
              "      <td>-0.176252</td>\n",
              "      <td>1.382149</td>\n",
              "      <td>1.052307</td>\n",
              "      <td>1.068952</td>\n",
              "      <td>-0.199011</td>\n",
              "      <td>-0.433468</td>\n",
              "    </tr>\n",
              "    <tr>\n",
              "      <th>4</th>\n",
              "      <td>-1.078861</td>\n",
              "      <td>0.349666</td>\n",
              "      <td>-0.531328</td>\n",
              "      <td>0.049360</td>\n",
              "      <td>-0.482161</td>\n",
              "      <td>-0.176252</td>\n",
              "      <td>-0.030652</td>\n",
              "      <td>-0.024429</td>\n",
              "      <td>0.148481</td>\n",
              "      <td>0.308459</td>\n",
              "      <td>0.932006</td>\n",
              "    </tr>\n",
              "  </tbody>\n",
              "</table>\n",
              "</div>\n",
              "    <div class=\"colab-df-buttons\">\n",
              "\n",
              "  <div class=\"colab-df-container\">\n",
              "    <button class=\"colab-df-convert\" onclick=\"convertToInteractive('df-b3409945-95ad-416a-9292-64ad37958cce')\"\n",
              "            title=\"Convert this dataframe to an interactive table.\"\n",
              "            style=\"display:none;\">\n",
              "\n",
              "  <svg xmlns=\"http://www.w3.org/2000/svg\" height=\"24px\" viewBox=\"0 -960 960 960\">\n",
              "    <path d=\"M120-120v-720h720v720H120Zm60-500h600v-160H180v160Zm220 220h160v-160H400v160Zm0 220h160v-160H400v160ZM180-400h160v-160H180v160Zm440 0h160v-160H620v160ZM180-180h160v-160H180v160Zm440 0h160v-160H620v160Z\"/>\n",
              "  </svg>\n",
              "    </button>\n",
              "\n",
              "  <style>\n",
              "    .colab-df-container {\n",
              "      display:flex;\n",
              "      gap: 12px;\n",
              "    }\n",
              "\n",
              "    .colab-df-convert {\n",
              "      background-color: #E8F0FE;\n",
              "      border: none;\n",
              "      border-radius: 50%;\n",
              "      cursor: pointer;\n",
              "      display: none;\n",
              "      fill: #1967D2;\n",
              "      height: 32px;\n",
              "      padding: 0 0 0 0;\n",
              "      width: 32px;\n",
              "    }\n",
              "\n",
              "    .colab-df-convert:hover {\n",
              "      background-color: #E2EBFA;\n",
              "      box-shadow: 0px 1px 2px rgba(60, 64, 67, 0.3), 0px 1px 3px 1px rgba(60, 64, 67, 0.15);\n",
              "      fill: #174EA6;\n",
              "    }\n",
              "\n",
              "    .colab-df-buttons div {\n",
              "      margin-bottom: 4px;\n",
              "    }\n",
              "\n",
              "    [theme=dark] .colab-df-convert {\n",
              "      background-color: #3B4455;\n",
              "      fill: #D2E3FC;\n",
              "    }\n",
              "\n",
              "    [theme=dark] .colab-df-convert:hover {\n",
              "      background-color: #434B5C;\n",
              "      box-shadow: 0px 1px 3px 1px rgba(0, 0, 0, 0.15);\n",
              "      filter: drop-shadow(0px 1px 2px rgba(0, 0, 0, 0.3));\n",
              "      fill: #FFFFFF;\n",
              "    }\n",
              "  </style>\n",
              "\n",
              "    <script>\n",
              "      const buttonEl =\n",
              "        document.querySelector('#df-b3409945-95ad-416a-9292-64ad37958cce button.colab-df-convert');\n",
              "      buttonEl.style.display =\n",
              "        google.colab.kernel.accessAllowed ? 'block' : 'none';\n",
              "\n",
              "      async function convertToInteractive(key) {\n",
              "        const element = document.querySelector('#df-b3409945-95ad-416a-9292-64ad37958cce');\n",
              "        const dataTable =\n",
              "          await google.colab.kernel.invokeFunction('convertToInteractive',\n",
              "                                                    [key], {});\n",
              "        if (!dataTable) return;\n",
              "\n",
              "        const docLinkHtml = 'Like what you see? Visit the ' +\n",
              "          '<a target=\"_blank\" href=https://colab.research.google.com/notebooks/data_table.ipynb>data table notebook</a>'\n",
              "          + ' to learn more about interactive tables.';\n",
              "        element.innerHTML = '';\n",
              "        dataTable['output_type'] = 'display_data';\n",
              "        await google.colab.output.renderOutput(dataTable, element);\n",
              "        const docLink = document.createElement('div');\n",
              "        docLink.innerHTML = docLinkHtml;\n",
              "        element.appendChild(docLink);\n",
              "      }\n",
              "    </script>\n",
              "  </div>\n",
              "\n",
              "\n",
              "<div id=\"df-065fdaeb-5b05-4bfd-b21d-ee76e1764f56\">\n",
              "  <button class=\"colab-df-quickchart\" onclick=\"quickchart('df-065fdaeb-5b05-4bfd-b21d-ee76e1764f56')\"\n",
              "            title=\"Suggest charts\"\n",
              "            style=\"display:none;\">\n",
              "\n",
              "<svg xmlns=\"http://www.w3.org/2000/svg\" height=\"24px\"viewBox=\"0 0 24 24\"\n",
              "     width=\"24px\">\n",
              "    <g>\n",
              "        <path d=\"M19 3H5c-1.1 0-2 .9-2 2v14c0 1.1.9 2 2 2h14c1.1 0 2-.9 2-2V5c0-1.1-.9-2-2-2zM9 17H7v-7h2v7zm4 0h-2V7h2v10zm4 0h-2v-4h2v4z\"/>\n",
              "    </g>\n",
              "</svg>\n",
              "  </button>\n",
              "\n",
              "<style>\n",
              "  .colab-df-quickchart {\n",
              "      --bg-color: #E8F0FE;\n",
              "      --fill-color: #1967D2;\n",
              "      --hover-bg-color: #E2EBFA;\n",
              "      --hover-fill-color: #174EA6;\n",
              "      --disabled-fill-color: #AAA;\n",
              "      --disabled-bg-color: #DDD;\n",
              "  }\n",
              "\n",
              "  [theme=dark] .colab-df-quickchart {\n",
              "      --bg-color: #3B4455;\n",
              "      --fill-color: #D2E3FC;\n",
              "      --hover-bg-color: #434B5C;\n",
              "      --hover-fill-color: #FFFFFF;\n",
              "      --disabled-bg-color: #3B4455;\n",
              "      --disabled-fill-color: #666;\n",
              "  }\n",
              "\n",
              "  .colab-df-quickchart {\n",
              "    background-color: var(--bg-color);\n",
              "    border: none;\n",
              "    border-radius: 50%;\n",
              "    cursor: pointer;\n",
              "    display: none;\n",
              "    fill: var(--fill-color);\n",
              "    height: 32px;\n",
              "    padding: 0;\n",
              "    width: 32px;\n",
              "  }\n",
              "\n",
              "  .colab-df-quickchart:hover {\n",
              "    background-color: var(--hover-bg-color);\n",
              "    box-shadow: 0 1px 2px rgba(60, 64, 67, 0.3), 0 1px 3px 1px rgba(60, 64, 67, 0.15);\n",
              "    fill: var(--button-hover-fill-color);\n",
              "  }\n",
              "\n",
              "  .colab-df-quickchart-complete:disabled,\n",
              "  .colab-df-quickchart-complete:disabled:hover {\n",
              "    background-color: var(--disabled-bg-color);\n",
              "    fill: var(--disabled-fill-color);\n",
              "    box-shadow: none;\n",
              "  }\n",
              "\n",
              "  .colab-df-spinner {\n",
              "    border: 2px solid var(--fill-color);\n",
              "    border-color: transparent;\n",
              "    border-bottom-color: var(--fill-color);\n",
              "    animation:\n",
              "      spin 1s steps(1) infinite;\n",
              "  }\n",
              "\n",
              "  @keyframes spin {\n",
              "    0% {\n",
              "      border-color: transparent;\n",
              "      border-bottom-color: var(--fill-color);\n",
              "      border-left-color: var(--fill-color);\n",
              "    }\n",
              "    20% {\n",
              "      border-color: transparent;\n",
              "      border-left-color: var(--fill-color);\n",
              "      border-top-color: var(--fill-color);\n",
              "    }\n",
              "    30% {\n",
              "      border-color: transparent;\n",
              "      border-left-color: var(--fill-color);\n",
              "      border-top-color: var(--fill-color);\n",
              "      border-right-color: var(--fill-color);\n",
              "    }\n",
              "    40% {\n",
              "      border-color: transparent;\n",
              "      border-right-color: var(--fill-color);\n",
              "      border-top-color: var(--fill-color);\n",
              "    }\n",
              "    60% {\n",
              "      border-color: transparent;\n",
              "      border-right-color: var(--fill-color);\n",
              "    }\n",
              "    80% {\n",
              "      border-color: transparent;\n",
              "      border-right-color: var(--fill-color);\n",
              "      border-bottom-color: var(--fill-color);\n",
              "    }\n",
              "    90% {\n",
              "      border-color: transparent;\n",
              "      border-bottom-color: var(--fill-color);\n",
              "    }\n",
              "  }\n",
              "</style>\n",
              "\n",
              "  <script>\n",
              "    async function quickchart(key) {\n",
              "      const quickchartButtonEl =\n",
              "        document.querySelector('#' + key + ' button');\n",
              "      quickchartButtonEl.disabled = true;  // To prevent multiple clicks.\n",
              "      quickchartButtonEl.classList.add('colab-df-spinner');\n",
              "      try {\n",
              "        const charts = await google.colab.kernel.invokeFunction(\n",
              "            'suggestCharts', [key], {});\n",
              "      } catch (error) {\n",
              "        console.error('Error during call to suggestCharts:', error);\n",
              "      }\n",
              "      quickchartButtonEl.classList.remove('colab-df-spinner');\n",
              "      quickchartButtonEl.classList.add('colab-df-quickchart-complete');\n",
              "    }\n",
              "    (() => {\n",
              "      let quickchartButtonEl =\n",
              "        document.querySelector('#df-065fdaeb-5b05-4bfd-b21d-ee76e1764f56 button');\n",
              "      quickchartButtonEl.style.display =\n",
              "        google.colab.kernel.accessAllowed ? 'block' : 'none';\n",
              "    })();\n",
              "  </script>\n",
              "</div>\n",
              "    </div>\n",
              "  </div>\n"
            ],
            "text/plain": [
              "   segment_index  noun_count  verb_count  adj_count  adv_count  pron_count  \\\n",
              "0      -0.532704   -0.437331   -0.136614  -0.385304  -0.482161   -0.176252   \n",
              "1       0.399547   -0.549759   -0.531328  -0.385304  -0.482161   -0.176252   \n",
              "2      -0.989369   -0.212475   -0.531328   1.353352  -0.482161   -0.176252   \n",
              "3      -0.880956    1.136662    1.047526   1.353352  -0.482161   -0.176252   \n",
              "4      -1.078861    0.349666   -0.531328   0.049360  -0.482161   -0.176252   \n",
              "\n",
              "   chart_count  word_count  word_density  upper_case_word_count  \\\n",
              "0    -0.514814   -0.534461     -0.085476              -0.199011   \n",
              "1    -0.784675   -0.704472     -1.689751              -0.199011   \n",
              "2     0.120153   -0.137769      1.343331              -0.199011   \n",
              "3     1.382149    1.052307      1.068952              -0.199011   \n",
              "4    -0.030652   -0.024429      0.148481               0.308459   \n",
              "\n",
              "   title_word_count  \n",
              "0         -0.433468  \n",
              "1         -0.160373  \n",
              "2         -0.433468  \n",
              "3         -0.433468  \n",
              "4          0.932006  "
            ]
          },
          "execution_count": 27,
          "metadata": {},
          "output_type": "execute_result"
        }
      ],
      "source": [
        "scaled_features_df.head()"
      ]
    },
    {
      "cell_type": "markdown",
      "metadata": {
        "id": "JhUlwTX4PY7w"
      },
      "source": [
        "## Create embeddings using doc2vec"
      ]
    },
    {
      "cell_type": "markdown",
      "metadata": {
        "id": "ACn-pXbPTj0Q"
      },
      "source": [
        "Job descriptions are used to create word embeddings of sentences. `Doc2vec` is employed to learn the vector the representation of job description sentences. The vector length and learning approach were decided based on the results of experiments with different combinations of sizes (`50`, `100`, `200`, `300`, `400`, `500`) and the doc2vec approaches `distributed memory` and `distributed bag of words` implemented by the [Gensim](https://radimrehurek.com/gensim/models/doc2vec.html) library."
      ]
    },
    {
      "cell_type": "code",
      "execution_count": 28,
      "metadata": {
        "colab": {
          "base_uri": "https://localhost:8080/"
        },
        "id": "QbN6RxYdxxAl",
        "outputId": "00210c97-8cfb-4038-d7fc-9cefd6be6b17"
      },
      "outputs": [
        {
          "name": "stdout",
          "output_type": "stream",
          "text": [
            "Loading doc2vec model...\n",
            "CPU times: user 27.6 ms, sys: 11.9 ms, total: 39.5 ms\n",
            "Wall time: 69.3 ms\n"
          ]
        }
      ],
      "source": [
        "%%time\n",
        "doc2vec_model_fn = os.path.join(models_dir, 'doc2vec.model')\n",
        "if OVERWRITE_DOC2VEC or not os.path.isfile(doc2vec_model_fn):\n",
        "  hyper_params = {\n",
        "      'vector_size': 500,\n",
        "      'alpha': 0.025,\n",
        "      'min_count': 5,\n",
        "      'dm': 0,\n",
        "      'epochs': 100\n",
        "  }\n",
        "  print('Preparing sentences for training...')\n",
        "  train_doc2vec = [TaggedDocument((d), tags=[str(i)]) for i, d in enumerate(list(features_train['segment_tokens']))]\n",
        "  print('-'*10)\n",
        "  print('Training embeddings...')\n",
        "  doc2vec_model = Doc2Vec(**hyper_params)\n",
        "  doc2vec_model.build_vocab(train_doc2vec)\n",
        "  doc2vec_model.train(train_doc2vec, total_examples=doc2vec_model.corpus_count, epochs=doc2vec_model.epochs)\n",
        "  print('-'*10)\n",
        "  print('Doc2vec model successfully created!')\n",
        "  print('-'*10)\n",
        "  print('Saving model...')\n",
        "  print('-'*10)\n",
        "  doc2vec_model.save(doc2vec_model_fn)\n",
        "else:\n",
        "  print('Loading doc2vec model...')\n",
        "  doc2vec_model = Doc2Vec.load(doc2vec_model_fn)"
      ]
    },
    {
      "cell_type": "markdown",
      "metadata": {
        "id": "7kJlBcjXQTfD"
      },
      "source": [
        "## Create doc vector features"
      ]
    },
    {
      "cell_type": "markdown",
      "metadata": {
        "id": "LebTLLUnYDOd"
      },
      "source": [
        "Pre-trained embeddings are used to generate vectors for sentences"
      ]
    },
    {
      "cell_type": "code",
      "execution_count": 29,
      "metadata": {
        "colab": {
          "base_uri": "https://localhost:8080/"
        },
        "id": "PDKo3kwtub92",
        "outputId": "ea356e21-b955-485e-8321-0b80a7a1a8ee"
      },
      "outputs": [
        {
          "name": "stdout",
          "output_type": "stream",
          "text": [
            "Creating vectors...\n",
            "----------\n",
            "CPU times: user 18.6 s, sys: 96.8 ms, total: 18.7 s\n",
            "Wall time: 19 s\n"
          ]
        }
      ],
      "source": [
        "%%time\n",
        "print('Creating vectors...')\n",
        "if doc2vec_model:\n",
        "  train_vectors = [doc2vec_model.infer_vector(seg_tokens) for seg_tokens in list(features_train['segment_tokens'])]\n",
        "print('-'*10)"
      ]
    },
    {
      "cell_type": "code",
      "execution_count": 30,
      "metadata": {
        "colab": {
          "base_uri": "https://localhost:8080/"
        },
        "id": "SyXCb--CT7Kl",
        "outputId": "6c10a819-46c4-4240-a4b5-5bc4a6a4261f"
      },
      "outputs": [
        {
          "data": {
            "text/plain": [
              "array([ 2.64560789e-01,  7.53339678e-02,  2.12082360e-02,  5.58302589e-02,\n",
              "        1.83034271e-01,  1.10864051e-01,  1.60631999e-01, -5.12596294e-02,\n",
              "        1.29169211e-01,  1.38775423e-01,  5.50935268e-02, -1.86425857e-02,\n",
              "       -1.41041428e-01, -5.55030182e-02, -5.30232564e-02, -5.78285046e-02,\n",
              "        5.73738925e-02, -8.44580308e-02,  4.88960817e-02,  5.83417667e-03,\n",
              "        2.43699387e-01,  2.52984941e-01,  3.63544881e-01, -8.16256106e-02,\n",
              "        1.03162341e-01, -1.71515737e-02, -2.92097151e-01, -2.20504075e-01,\n",
              "        7.00187460e-02,  9.22497585e-02,  3.47168326e-01, -2.07755007e-02,\n",
              "       -3.64861861e-02,  5.79117611e-02, -1.62135839e-01,  7.22098574e-02,\n",
              "       -2.47883335e-01,  1.08183987e-01, -1.38692468e-01, -1.48198232e-01,\n",
              "        2.05971282e-02, -1.01490550e-04, -4.83123260e-03,  2.74805069e-01,\n",
              "        7.97379315e-02,  7.01276120e-03,  1.19191960e-01,  1.83522269e-01,\n",
              "       -1.73495844e-01, -4.15052548e-02, -2.07947437e-02, -7.09455609e-02,\n",
              "        1.07342908e-02, -3.94707881e-02, -1.56003371e-01, -3.25057805e-01,\n",
              "        6.68461947e-03, -3.78787071e-02,  1.55966789e-01,  4.93752923e-05,\n",
              "       -5.89488558e-02,  1.09956712e-01,  3.64583433e-02, -2.15437680e-01,\n",
              "        4.56008613e-02,  1.10797249e-02,  7.52297565e-02,  1.02269895e-01,\n",
              "       -6.95520788e-02,  7.40711242e-02, -1.89213809e-02,  3.05253565e-01,\n",
              "        1.29696980e-01,  4.82989103e-02, -1.56310555e-02,  1.19675219e-01,\n",
              "       -1.09201446e-01,  1.63079023e-01, -1.34362906e-01,  1.50345877e-01,\n",
              "        1.53323069e-01, -7.77567327e-02,  4.49834801e-02,  9.18747485e-02,\n",
              "        9.27323326e-02,  8.93994942e-02, -5.88735640e-02, -1.45092845e-01,\n",
              "       -2.02134609e-01, -1.31993100e-01,  2.84109823e-02,  1.72189638e-01,\n",
              "       -9.54593942e-02, -5.88480942e-02, -1.51557088e-01,  2.44480707e-02,\n",
              "       -6.39574155e-02, -1.49953023e-01,  2.27420796e-02,  8.91847387e-02,\n",
              "        1.49222100e-02, -2.24960878e-01,  1.49047509e-01,  1.27873808e-01,\n",
              "       -1.59028977e-01,  2.69363314e-01,  9.43689048e-02, -1.53983250e-01,\n",
              "       -4.66530025e-02, -2.71081507e-01,  2.11043060e-01, -8.61441791e-02,\n",
              "        8.81146938e-02,  2.18219552e-02,  9.77496952e-02,  1.08346164e-01,\n",
              "        7.46611804e-02, -7.07860067e-02, -3.23329046e-02,  1.17448054e-01,\n",
              "        1.41862705e-01,  4.44454094e-03,  1.66784562e-02, -7.06184772e-04,\n",
              "        2.37306759e-01, -2.02509686e-02, -8.34261551e-02,  1.61326066e-01,\n",
              "       -1.89143643e-01, -8.27642381e-02,  1.70117900e-01, -7.41454437e-02,\n",
              "       -7.74380341e-02,  9.46361572e-02, -2.15193033e-01,  1.45457104e-01,\n",
              "        1.75352185e-03,  1.74772993e-01, -1.38493195e-01,  6.76295459e-02,\n",
              "        6.22426495e-02, -9.28650573e-02,  4.97363694e-02, -2.14221075e-01,\n",
              "       -3.78305954e-03, -1.82162538e-01,  7.63888657e-03, -7.46782422e-02,\n",
              "       -2.88757011e-02,  1.56086400e-01,  3.48534673e-01, -1.05670579e-02,\n",
              "        1.49229035e-01, -2.45388478e-01,  1.48540780e-01, -1.05084598e-01,\n",
              "        7.36936182e-03, -2.33486325e-01,  9.33378562e-02, -1.02756776e-01,\n",
              "        5.91401570e-02,  1.74493834e-01,  2.26697437e-02, -8.70679989e-02,\n",
              "        5.60682416e-02, -3.10203787e-02, -1.20737873e-01,  5.56491548e-03,\n",
              "       -6.22511506e-02,  6.13507591e-02,  1.21366058e-03,  8.37357529e-03,\n",
              "       -5.69503419e-02, -2.72804737e-01, -9.33927670e-02,  2.09947541e-01,\n",
              "        2.55930267e-04,  1.06028058e-01,  1.17552634e-02, -1.88592851e-01,\n",
              "       -1.20013155e-01,  1.85053423e-01,  5.44976220e-02, -2.42689759e-01,\n",
              "        1.56642318e-01, -1.07747808e-01, -1.23693600e-01,  1.08235575e-01,\n",
              "        3.50464555e-03,  9.35297757e-02, -3.28832604e-02,  5.64226471e-02,\n",
              "       -1.98517330e-02, -2.02463195e-01, -1.57174006e-01, -7.12373247e-03,\n",
              "       -1.10733017e-01,  1.43692225e-01, -1.34857401e-01,  2.44207218e-01,\n",
              "       -2.96165466e-01, -1.77337945e-01,  8.11758414e-02, -1.30381450e-01,\n",
              "       -1.40070662e-01,  1.02770954e-01, -1.74479231e-01,  1.45559430e-01,\n",
              "       -1.21685088e-01,  2.22744256e-01, -9.86045524e-02,  2.52586007e-01,\n",
              "        8.79135623e-04, -3.23816657e-01,  6.21748976e-02, -2.06919923e-01,\n",
              "       -6.61490411e-02,  8.78515393e-02,  7.38258660e-02, -1.39740378e-01,\n",
              "       -1.36514470e-01,  1.39833137e-01,  1.40968710e-03,  2.20966227e-02,\n",
              "        2.19288200e-01,  5.53324707e-02,  1.36757657e-01,  1.02728784e-01,\n",
              "       -9.31554735e-02,  4.05530743e-02,  6.88914657e-02,  1.57517657e-01,\n",
              "       -1.09672891e-02,  1.80778787e-01, -2.57874221e-01,  1.12160876e-01,\n",
              "        3.62113833e-01,  8.68091062e-02,  6.47773668e-02, -9.79370773e-02,\n",
              "        1.03958547e-01, -1.46791235e-01,  1.04754783e-01, -1.65331498e-01,\n",
              "       -1.92779869e-01,  1.64721638e-01, -3.32424194e-01,  1.09165581e-02,\n",
              "        1.73959397e-02, -9.24834888e-03, -5.27402647e-02, -1.14058442e-01,\n",
              "       -1.33373916e-01,  1.75991148e-01, -1.72635853e-01, -3.34342010e-02,\n",
              "       -1.92576945e-01,  8.45889673e-02,  9.49080735e-02, -1.88569754e-01,\n",
              "       -1.68160781e-01,  4.14707512e-02, -1.03884719e-01,  8.67848918e-02,\n",
              "        3.45819890e-01, -5.16847521e-02,  9.91446972e-02, -5.52748106e-02,\n",
              "        6.27280399e-02,  1.08068716e-02,  5.24909561e-03,  1.98184595e-01,\n",
              "       -4.19956036e-02, -6.33022711e-02, -1.40083348e-02, -1.06100913e-03,\n",
              "        2.43767947e-01, -1.17302544e-01,  3.44593115e-02, -1.01861537e-01,\n",
              "       -2.35827655e-01,  5.29150963e-02,  4.09928150e-02, -4.67211902e-02,\n",
              "        2.24743575e-01, -7.52009377e-02, -2.95361608e-01, -4.63205054e-02,\n",
              "       -1.07545510e-01,  4.21656333e-02,  3.22463401e-02,  5.60649522e-02,\n",
              "       -9.15958807e-02, -9.45397839e-03, -1.35177150e-01,  1.33270428e-01,\n",
              "       -7.51770437e-02, -1.45749733e-01, -3.50569524e-02,  2.53845543e-01,\n",
              "        4.38191593e-02, -6.68226182e-02, -3.14104319e-01, -7.00964779e-02,\n",
              "        2.19717443e-01, -3.09570700e-01,  1.31647825e-01, -2.87433535e-01,\n",
              "        6.72343373e-02, -6.96860626e-02, -2.82128960e-01,  2.59835035e-01,\n",
              "        3.07825524e-02,  5.01617901e-02, -6.25068098e-02, -2.74465233e-01,\n",
              "       -2.68812627e-02, -1.29563197e-01, -1.85936391e-02, -3.80648337e-02,\n",
              "        7.39390254e-02,  1.50095457e-02, -9.23360661e-02, -1.93253323e-01,\n",
              "        3.30379046e-03,  1.41381070e-01,  4.35568169e-02,  8.28283876e-02,\n",
              "       -1.05795823e-02, -2.89357334e-01,  1.00830965e-01, -6.99833706e-02,\n",
              "       -6.79282248e-02,  6.95327017e-03,  1.42504424e-01,  9.06937756e-03,\n",
              "       -1.33447498e-01,  1.24827072e-01, -2.91404128e-01,  7.59792626e-02,\n",
              "        2.70238072e-01,  1.18261553e-01,  3.10454872e-02, -1.44725218e-01,\n",
              "       -1.04619212e-01, -3.04965768e-02,  2.02439472e-01, -1.30215492e-02,\n",
              "       -1.77898891e-02,  7.34124631e-02, -5.06798998e-02, -3.41549397e-01,\n",
              "        6.70427009e-02, -8.01925659e-02,  1.85604483e-01,  2.30173960e-01,\n",
              "        1.79562807e-01, -9.07723084e-02, -6.78988919e-02, -1.83257207e-01,\n",
              "       -8.22699964e-02, -1.29157737e-01, -1.59789190e-01,  1.32209197e-01,\n",
              "       -4.31281142e-02, -7.61404485e-02, -2.17155069e-01,  8.90733004e-02,\n",
              "        2.01779585e-02,  2.28613630e-01, -2.74785817e-01,  2.54113019e-01,\n",
              "       -1.70904025e-01, -8.40627402e-02,  1.18235655e-01, -2.83310767e-02,\n",
              "        8.76840204e-02, -2.24719159e-02,  7.77791664e-02, -1.68791935e-01,\n",
              "        7.51684159e-02,  2.15598181e-01,  5.01384623e-02,  3.52125019e-02,\n",
              "       -8.70070048e-03,  1.09340288e-01, -1.82505604e-02, -1.96350053e-01,\n",
              "        1.26738533e-01,  3.49137038e-01, -1.43286795e-03,  5.29735833e-02,\n",
              "       -3.04108709e-01,  3.21260765e-02, -4.69438918e-02,  1.57066807e-01,\n",
              "        2.95064249e-03,  6.85707405e-02, -8.64164457e-02, -1.80016607e-01,\n",
              "        1.35709373e-02,  1.14324659e-01, -2.52136458e-02, -5.86375967e-02,\n",
              "       -3.67337987e-02,  2.58543938e-02, -2.55870242e-02,  1.67375877e-01,\n",
              "        6.62268028e-02, -2.61047423e-01,  1.31487012e-01, -4.12861770e-03,\n",
              "        1.60612047e-01,  1.45310789e-01,  3.66357528e-02, -1.41826540e-01,\n",
              "        7.11032823e-02,  2.68072963e-01,  1.05814479e-01, -2.43025810e-01,\n",
              "        1.46563813e-01,  1.10213291e-02, -1.68295637e-01, -2.66277734e-02,\n",
              "        4.36002351e-02, -7.28213787e-02,  3.50052230e-02, -2.45430842e-01,\n",
              "       -3.53581347e-02, -7.28908405e-02, -1.71578050e-01,  1.72994435e-01,\n",
              "       -7.42814317e-02,  1.81852728e-01, -8.74779224e-02, -4.11925465e-02,\n",
              "       -1.29452487e-02,  1.30537704e-01, -9.82273668e-02,  4.00674902e-02,\n",
              "       -4.64988537e-02,  2.59518307e-02,  1.39925659e-01,  2.16080338e-01,\n",
              "       -3.96962725e-02,  1.12227738e-01, -1.47969469e-01, -9.70317423e-02,\n",
              "        1.22496322e-01,  2.10921511e-01, -5.17244898e-02,  9.35369357e-02,\n",
              "       -8.57164338e-02,  1.33442625e-01, -1.78897783e-01, -1.47523075e-01,\n",
              "       -3.81374769e-02, -1.02744035e-01, -1.02503754e-01, -1.66208282e-01,\n",
              "        9.90543291e-02, -1.19413905e-01, -3.57674696e-02, -7.52984956e-02,\n",
              "       -7.19527304e-02,  7.01542124e-02, -1.18649647e-01, -4.06842865e-03,\n",
              "       -5.59425279e-02, -6.74301609e-02,  1.78191304e-01, -1.97656453e-01,\n",
              "       -9.51507613e-02,  1.13932543e-01, -8.07769150e-02, -1.42719612e-01,\n",
              "       -2.67455101e-01, -1.01711184e-01, -8.35123509e-02, -4.56868373e-02,\n",
              "        1.15538645e-03,  2.17651784e-01, -2.36693919e-01,  2.21952260e-01,\n",
              "       -1.83980481e-03,  6.29967749e-02, -1.17867172e-01, -4.22875136e-02,\n",
              "        1.44719541e-01,  1.08862855e-01,  1.50483055e-02,  9.32882950e-02,\n",
              "        1.35276839e-01, -3.76991063e-01,  6.28502220e-02, -9.58039891e-03,\n",
              "       -2.19826818e-01,  1.85823962e-01, -6.28546253e-02,  1.60188571e-01],\n",
              "      dtype=float32)"
            ]
          },
          "execution_count": 30,
          "metadata": {},
          "output_type": "execute_result"
        }
      ],
      "source": [
        "# let's explore an example of a generated doc vector\n",
        "train_vectors[0]"
      ]
    },
    {
      "cell_type": "markdown",
      "metadata": {
        "id": "WZpbrE42mO72"
      },
      "source": [
        "---"
      ]
    },
    {
      "cell_type": "markdown",
      "metadata": {
        "id": "Lu3nsuM6mRAc"
      },
      "source": [
        "# Section 2. Model building"
      ]
    },
    {
      "cell_type": "markdown",
      "metadata": {
        "id": "Nqbq96fYQnDN"
      },
      "source": [
        "## Build ML model"
      ]
    },
    {
      "cell_type": "markdown",
      "metadata": {
        "id": "akobc9FxaM8o"
      },
      "source": [
        "Here the machine learning classifier is built. The decision on the algorithms to be used was based on algorithms that have been reported to perform well on unbalanced, small, and textual datasets (e.g., [Text Classification with Extremely Small Datasets](https://towardsdatascience.com/text-classification-with-extremely-small-datasets-333d322caee2)). Therefore, we try the following algorithms: `Support Vector Machine` and `Logistic Regression`.\n",
        "\n",
        "In bulding the model we proceed as following:\n",
        "\n",
        "* Grid search is used for training algorithms with different combinations of hyperparameters;\n",
        "* Best models for each algortihm are pre-selected for testing;\n",
        "* Testing performance of best models are compared and the model that shows the best results is selected.\n",
        "\n",
        "Models are trained using the cross-validation approach. The performance metric to be optimized is weighted `F1` because it provides an adequate compromise between acceptable coverage and the correct identification of segments."
      ]
    },
    {
      "cell_type": "markdown",
      "metadata": {
        "id": "axkd0jVCYe-1"
      },
      "source": [
        "### Train classifiers"
      ]
    },
    {
      "cell_type": "code",
      "execution_count": 31,
      "metadata": {
        "id": "_PC2-RfiULJ_"
      },
      "outputs": [],
      "source": [
        "# concatenate word vectors with numerical features\n",
        "X_train = np.concatenate((train_vectors, scaled_features_df), axis=1)"
      ]
    },
    {
      "cell_type": "code",
      "execution_count": 32,
      "metadata": {
        "id": "9am2JEPGxnPe"
      },
      "outputs": [],
      "source": [
        "def get_lr_parameters():\n",
        "    \"\"\"\n",
        "    Define hyper-parameters of\n",
        "    Logistic Regression.\n",
        "\n",
        "    Inspired by\n",
        "    https://notebook.community/tpin3694/tpin3694.github.io/machine-learning/.ipynb_checkpoints/hyperparameter_tuning_using_grid_search-checkpoint\n",
        "    \"\"\"\n",
        "    param_grid = {\n",
        "        'penalty': ['l2', None],\n",
        "        'C': np.logspace(0, 4, 10)\n",
        "    }\n",
        "    return param_grid"
      ]
    },
    {
      "cell_type": "code",
      "execution_count": 33,
      "metadata": {
        "id": "hSAJYoofxrkH"
      },
      "outputs": [],
      "source": [
        "def get_svm_parameters():\n",
        "    \"\"\"\n",
        "    Define hyper-parameters of\n",
        "    Support Vector Machine.\n",
        "\n",
        "    Inspired by\n",
        "    https://www.vebuso.com/2020/03/svm-hyperparameter-tuning-using-gridsearchcv\n",
        "    \"\"\"\n",
        "\n",
        "    param_grid = {\n",
        "        'C': [0.01, 0.1, 1, 10, 100],\n",
        "        'gamma': [1, 0.1, 0.01, 0.001, 'scale'],\n",
        "        'kernel': ['linear', 'rbf', 'poly']\n",
        "    }\n",
        "    return param_grid"
      ]
    },
    {
      "cell_type": "code",
      "execution_count": 34,
      "metadata": {
        "id": "_cvWe2uJAtak"
      },
      "outputs": [],
      "source": [
        "def filter_params(model_params, hyperparams):\n",
        "  filtered_params = {}\n",
        "  for param, value in model_params.items():\n",
        "    if param in hyperparams:\n",
        "      filtered_params[param] = value\n",
        "  return filtered_params"
      ]
    },
    {
      "cell_type": "code",
      "execution_count": 35,
      "metadata": {
        "colab": {
          "base_uri": "https://localhost:8080/"
        },
        "id": "j08ccFLBs_Mg",
        "outputId": "5dca4b37-6e7d-45e7-8bc9-9ef90b0ddf4f"
      },
      "outputs": [
        {
          "name": "stdout",
          "output_type": "stream",
          "text": [
            "Training LR models with different combination of hyperparameters...\n",
            "Fitting 5 folds for each of 20 candidates, totalling 100 fits\n",
            "[CV] END ..................................C=1.0, penalty=l2; total time=   3.0s\n",
            "[CV] END ..................................C=1.0, penalty=l2; total time=   5.1s\n",
            "[CV] END ..................................C=1.0, penalty=l2; total time=   4.1s\n",
            "[CV] END ..................................C=1.0, penalty=l2; total time=   2.3s\n",
            "[CV] END ..................................C=1.0, penalty=l2; total time=   2.5s\n",
            "[CV] END ................................C=1.0, penalty=None; total time=   2.7s\n",
            "[CV] END ................................C=1.0, penalty=None; total time=   3.6s\n",
            "[CV] END ................................C=1.0, penalty=None; total time=   4.1s\n",
            "[CV] END ................................C=1.0, penalty=None; total time=   4.1s\n",
            "[CV] END ................................C=1.0, penalty=None; total time=   2.6s\n",
            "[CV] END ...................C=2.7825594022071245, penalty=l2; total time=   2.6s\n",
            "[CV] END ...................C=2.7825594022071245, penalty=l2; total time=   2.7s\n",
            "[CV] END ...................C=2.7825594022071245, penalty=l2; total time=   3.5s\n",
            "[CV] END ...................C=2.7825594022071245, penalty=l2; total time=   4.4s\n",
            "[CV] END ...................C=2.7825594022071245, penalty=l2; total time=   3.7s\n",
            "[CV] END .................C=2.7825594022071245, penalty=None; total time=   2.7s\n",
            "[CV] END .................C=2.7825594022071245, penalty=None; total time=   2.6s\n",
            "[CV] END .................C=2.7825594022071245, penalty=None; total time=   2.7s\n",
            "[CV] END .................C=2.7825594022071245, penalty=None; total time=   3.7s\n",
            "[CV] END .................C=2.7825594022071245, penalty=None; total time=   4.1s\n",
            "[CV] END ....................C=7.742636826811269, penalty=l2; total time=   3.4s\n",
            "[CV] END ....................C=7.742636826811269, penalty=l2; total time=   2.6s\n",
            "[CV] END ....................C=7.742636826811269, penalty=l2; total time=   2.6s\n",
            "[CV] END ....................C=7.742636826811269, penalty=l2; total time=   2.7s\n",
            "[CV] END ....................C=7.742636826811269, penalty=l2; total time=   4.3s\n",
            "[CV] END ..................C=7.742636826811269, penalty=None; total time=   4.5s\n",
            "[CV] END ..................C=7.742636826811269, penalty=None; total time=   2.9s\n",
            "[CV] END ..................C=7.742636826811269, penalty=None; total time=   2.8s\n",
            "[CV] END ..................C=7.742636826811269, penalty=None; total time=   2.6s\n",
            "[CV] END ..................C=7.742636826811269, penalty=None; total time=   3.3s\n",
            "[CV] END ...................C=21.544346900318832, penalty=l2; total time=   4.4s\n",
            "[CV] END ...................C=21.544346900318832, penalty=l2; total time=   4.0s\n",
            "[CV] END ...................C=21.544346900318832, penalty=l2; total time=   2.7s\n",
            "[CV] END ...................C=21.544346900318832, penalty=l2; total time=   2.6s\n",
            "[CV] END ...................C=21.544346900318832, penalty=l2; total time=   2.6s\n",
            "[CV] END .................C=21.544346900318832, penalty=None; total time=   3.6s\n",
            "[CV] END .................C=21.544346900318832, penalty=None; total time=   4.2s\n",
            "[CV] END .................C=21.544346900318832, penalty=None; total time=   3.9s\n",
            "[CV] END .................C=21.544346900318832, penalty=None; total time=   2.6s\n",
            "[CV] END .................C=21.544346900318832, penalty=None; total time=   3.0s\n",
            "[CV] END ....................C=59.94842503189409, penalty=l2; total time=   2.6s\n",
            "[CV] END ....................C=59.94842503189409, penalty=l2; total time=   3.6s\n",
            "[CV] END ....................C=59.94842503189409, penalty=l2; total time=   3.9s\n",
            "[CV] END ....................C=59.94842503189409, penalty=l2; total time=   3.5s\n",
            "[CV] END ....................C=59.94842503189409, penalty=l2; total time=   2.6s\n",
            "[CV] END ..................C=59.94842503189409, penalty=None; total time=   2.6s\n",
            "[CV] END ..................C=59.94842503189409, penalty=None; total time=   2.7s\n",
            "[CV] END ..................C=59.94842503189409, penalty=None; total time=   4.0s\n",
            "[CV] END ..................C=59.94842503189409, penalty=None; total time=   4.1s\n",
            "[CV] END ..................C=59.94842503189409, penalty=None; total time=   3.5s\n",
            "[CV] END ...................C=166.81005372000593, penalty=l2; total time=   2.6s\n",
            "[CV] END ...................C=166.81005372000593, penalty=l2; total time=   2.6s\n",
            "[CV] END ...................C=166.81005372000593, penalty=l2; total time=   2.6s\n",
            "[CV] END ...................C=166.81005372000593, penalty=l2; total time=   4.2s\n",
            "[CV] END ...................C=166.81005372000593, penalty=l2; total time=   4.2s\n",
            "[CV] END .................C=166.81005372000593, penalty=None; total time=   3.1s\n",
            "[CV] END .................C=166.81005372000593, penalty=None; total time=   2.6s\n",
            "[CV] END .................C=166.81005372000593, penalty=None; total time=   2.6s\n",
            "[CV] END .................C=166.81005372000593, penalty=None; total time=   2.7s\n",
            "[CV] END .................C=166.81005372000593, penalty=None; total time=   4.2s\n",
            "[CV] END ...................C=464.15888336127773, penalty=l2; total time=   4.3s\n",
            "[CV] END ...................C=464.15888336127773, penalty=l2; total time=   2.9s\n",
            "[CV] END ...................C=464.15888336127773, penalty=l2; total time=   2.7s\n",
            "[CV] END ...................C=464.15888336127773, penalty=l2; total time=   2.6s\n",
            "[CV] END ...................C=464.15888336127773, penalty=l2; total time=   2.8s\n",
            "[CV] END .................C=464.15888336127773, penalty=None; total time=   4.1s\n",
            "[CV] END .................C=464.15888336127773, penalty=None; total time=   4.3s\n",
            "[CV] END .................C=464.15888336127773, penalty=None; total time=   2.6s\n",
            "[CV] END .................C=464.15888336127773, penalty=None; total time=   2.5s\n",
            "[CV] END .................C=464.15888336127773, penalty=None; total time=   2.7s\n",
            "[CV] END ...................C=1291.5496650148827, penalty=l2; total time=   3.5s\n",
            "[CV] END ...................C=1291.5496650148827, penalty=l2; total time=   5.1s\n",
            "[CV] END ...................C=1291.5496650148827, penalty=l2; total time=   3.7s\n",
            "[CV] END ...................C=1291.5496650148827, penalty=l2; total time=   2.6s\n",
            "[CV] END ...................C=1291.5496650148827, penalty=l2; total time=   2.7s\n",
            "[CV] END .................C=1291.5496650148827, penalty=None; total time=   2.7s\n",
            "[CV] END .................C=1291.5496650148827, penalty=None; total time=   3.8s\n",
            "[CV] END .................C=1291.5496650148827, penalty=None; total time=   4.4s\n",
            "[CV] END .................C=1291.5496650148827, penalty=None; total time=   3.5s\n",
            "[CV] END .................C=1291.5496650148827, penalty=None; total time=   2.6s\n",
            "[CV] END ....................C=3593.813663804626, penalty=l2; total time=   2.7s\n",
            "[CV] END ....................C=3593.813663804626, penalty=l2; total time=   2.6s\n",
            "[CV] END ....................C=3593.813663804626, penalty=l2; total time=   3.8s\n",
            "[CV] END ....................C=3593.813663804626, penalty=l2; total time=   4.2s\n",
            "[CV] END ....................C=3593.813663804626, penalty=l2; total time=   3.4s\n",
            "[CV] END ..................C=3593.813663804626, penalty=None; total time=   2.6s\n",
            "[CV] END ..................C=3593.813663804626, penalty=None; total time=   2.7s\n",
            "[CV] END ..................C=3593.813663804626, penalty=None; total time=   2.7s\n",
            "[CV] END ..................C=3593.813663804626, penalty=None; total time=   3.9s\n",
            "[CV] END ..................C=3593.813663804626, penalty=None; total time=   4.3s\n",
            "[CV] END ..............................C=10000.0, penalty=l2; total time=   3.1s\n",
            "[CV] END ..............................C=10000.0, penalty=l2; total time=   2.8s\n",
            "[CV] END ..............................C=10000.0, penalty=l2; total time=   4.1s\n",
            "[CV] END ..............................C=10000.0, penalty=l2; total time=   5.2s\n",
            "[CV] END ..............................C=10000.0, penalty=l2; total time=   4.7s\n",
            "[CV] END ............................C=10000.0, penalty=None; total time=   3.8s\n",
            "[CV] END ............................C=10000.0, penalty=None; total time=   2.6s\n",
            "[CV] END ............................C=10000.0, penalty=None; total time=   2.6s\n",
            "[CV] END ............................C=10000.0, penalty=None; total time=   2.7s\n",
            "[CV] END ............................C=10000.0, penalty=None; total time=   3.6s\n",
            "Finished training LR models, f1 score of best model: 0.6982390946146226\n",
            "Hyperparameters of the best LR model are:\n",
            "{'C': 1.0, 'penalty': 'l2'}\n",
            "Saving the best model LR model...\n",
            "----------\n",
            "Training SVM models with different combination of hyperparameters...\n",
            "Fitting 5 folds for each of 75 candidates, totalling 375 fits\n",
            "[CV] END .....................C=0.01, gamma=1, kernel=linear; total time=   3.3s\n",
            "[CV] END .....................C=0.01, gamma=1, kernel=linear; total time=   3.2s\n",
            "[CV] END .....................C=0.01, gamma=1, kernel=linear; total time=   3.3s\n",
            "[CV] END .....................C=0.01, gamma=1, kernel=linear; total time=   3.8s\n",
            "[CV] END .....................C=0.01, gamma=1, kernel=linear; total time=   4.2s\n",
            "[CV] END ........................C=0.01, gamma=1, kernel=rbf; total time=   6.6s\n",
            "[CV] END ........................C=0.01, gamma=1, kernel=rbf; total time=   7.0s\n",
            "[CV] END ........................C=0.01, gamma=1, kernel=rbf; total time=   7.4s\n",
            "[CV] END ........................C=0.01, gamma=1, kernel=rbf; total time=   6.2s\n",
            "[CV] END ........................C=0.01, gamma=1, kernel=rbf; total time=   7.7s\n",
            "[CV] END .......................C=0.01, gamma=1, kernel=poly; total time=   3.2s\n",
            "[CV] END .......................C=0.01, gamma=1, kernel=poly; total time=   3.0s\n",
            "[CV] END .......................C=0.01, gamma=1, kernel=poly; total time=   3.0s\n",
            "[CV] END .......................C=0.01, gamma=1, kernel=poly; total time=   3.2s\n",
            "[CV] END .......................C=0.01, gamma=1, kernel=poly; total time=   4.1s\n",
            "[CV] END ...................C=0.01, gamma=0.1, kernel=linear; total time=   3.7s\n",
            "[CV] END ...................C=0.01, gamma=0.1, kernel=linear; total time=   3.2s\n",
            "[CV] END ...................C=0.01, gamma=0.1, kernel=linear; total time=   3.2s\n",
            "[CV] END ...................C=0.01, gamma=0.1, kernel=linear; total time=   3.6s\n",
            "[CV] END ...................C=0.01, gamma=0.1, kernel=linear; total time=   4.2s\n",
            "[CV] END ......................C=0.01, gamma=0.1, kernel=rbf; total time=   6.9s\n",
            "[CV] END ......................C=0.01, gamma=0.1, kernel=rbf; total time=   7.0s\n",
            "[CV] END ......................C=0.01, gamma=0.1, kernel=rbf; total time=   7.6s\n",
            "[CV] END ......................C=0.01, gamma=0.1, kernel=rbf; total time=   6.4s\n",
            "[CV] END ......................C=0.01, gamma=0.1, kernel=rbf; total time=   7.9s\n",
            "[CV] END .....................C=0.01, gamma=0.1, kernel=poly; total time=   5.2s\n",
            "[CV] END .....................C=0.01, gamma=0.1, kernel=poly; total time=   4.9s\n",
            "[CV] END .....................C=0.01, gamma=0.1, kernel=poly; total time=   6.3s\n",
            "[CV] END .....................C=0.01, gamma=0.1, kernel=poly; total time=   5.6s\n",
            "[CV] END .....................C=0.01, gamma=0.1, kernel=poly; total time=   5.0s\n",
            "[CV] END ..................C=0.01, gamma=0.01, kernel=linear; total time=   3.9s\n",
            "[CV] END ..................C=0.01, gamma=0.01, kernel=linear; total time=   4.4s\n",
            "[CV] END ..................C=0.01, gamma=0.01, kernel=linear; total time=   3.4s\n",
            "[CV] END ..................C=0.01, gamma=0.01, kernel=linear; total time=   3.2s\n",
            "[CV] END ..................C=0.01, gamma=0.01, kernel=linear; total time=   3.2s\n",
            "[CV] END .....................C=0.01, gamma=0.01, kernel=rbf; total time=   8.2s\n",
            "[CV] END .....................C=0.01, gamma=0.01, kernel=rbf; total time=   6.5s\n",
            "[CV] END .....................C=0.01, gamma=0.01, kernel=rbf; total time=   7.3s\n",
            "[CV] END .....................C=0.01, gamma=0.01, kernel=rbf; total time=   7.5s\n",
            "[CV] END .....................C=0.01, gamma=0.01, kernel=rbf; total time=   6.2s\n",
            "[CV] END ....................C=0.01, gamma=0.01, kernel=poly; total time=   6.5s\n",
            "[CV] END ....................C=0.01, gamma=0.01, kernel=poly; total time=   5.7s\n",
            "[CV] END ....................C=0.01, gamma=0.01, kernel=poly; total time=   5.5s\n",
            "[CV] END ....................C=0.01, gamma=0.01, kernel=poly; total time=   7.1s\n",
            "[CV] END ....................C=0.01, gamma=0.01, kernel=poly; total time=   5.8s\n",
            "[CV] END .................C=0.01, gamma=0.001, kernel=linear; total time=   3.3s\n",
            "[CV] END .................C=0.01, gamma=0.001, kernel=linear; total time=   4.0s\n",
            "[CV] END .................C=0.01, gamma=0.001, kernel=linear; total time=   4.6s\n",
            "[CV] END .................C=0.01, gamma=0.001, kernel=linear; total time=   3.3s\n",
            "[CV] END .................C=0.01, gamma=0.001, kernel=linear; total time=   3.3s\n",
            "[CV] END ....................C=0.01, gamma=0.001, kernel=rbf; total time=   7.8s\n",
            "[CV] END ....................C=0.01, gamma=0.001, kernel=rbf; total time=   7.7s\n",
            "[CV] END ....................C=0.01, gamma=0.001, kernel=rbf; total time=   6.9s\n",
            "[CV] END ....................C=0.01, gamma=0.001, kernel=rbf; total time=   8.4s\n",
            "[CV] END ....................C=0.01, gamma=0.001, kernel=rbf; total time=   6.8s\n",
            "[CV] END ...................C=0.01, gamma=0.001, kernel=poly; total time=   6.9s\n",
            "[CV] END ...................C=0.01, gamma=0.001, kernel=poly; total time=   6.2s\n",
            "[CV] END ...................C=0.01, gamma=0.001, kernel=poly; total time=   5.5s\n",
            "[CV] END ...................C=0.01, gamma=0.001, kernel=poly; total time=   7.5s\n",
            "[CV] END ...................C=0.01, gamma=0.001, kernel=poly; total time=   7.7s\n",
            "[CV] END .................C=0.01, gamma=scale, kernel=linear; total time=   3.2s\n",
            "[CV] END .................C=0.01, gamma=scale, kernel=linear; total time=   3.3s\n",
            "[CV] END .................C=0.01, gamma=scale, kernel=linear; total time=   3.7s\n",
            "[CV] END .................C=0.01, gamma=scale, kernel=linear; total time=   4.3s\n",
            "[CV] END .................C=0.01, gamma=scale, kernel=linear; total time=   3.5s\n",
            "[CV] END ....................C=0.01, gamma=scale, kernel=rbf; total time=   6.5s\n",
            "[CV] END ....................C=0.01, gamma=scale, kernel=rbf; total time=   8.4s\n",
            "[CV] END ....................C=0.01, gamma=scale, kernel=rbf; total time=   6.5s\n",
            "[CV] END ....................C=0.01, gamma=scale, kernel=rbf; total time=   7.3s\n",
            "[CV] END ....................C=0.01, gamma=scale, kernel=rbf; total time=   7.4s\n",
            "[CV] END ...................C=0.01, gamma=scale, kernel=poly; total time=   5.4s\n",
            "[CV] END ...................C=0.01, gamma=scale, kernel=poly; total time=   6.6s\n",
            "[CV] END ...................C=0.01, gamma=scale, kernel=poly; total time=   6.0s\n",
            "[CV] END ...................C=0.01, gamma=scale, kernel=poly; total time=   5.3s\n",
            "[CV] END ...................C=0.01, gamma=scale, kernel=poly; total time=   6.7s\n",
            "[CV] END ......................C=0.1, gamma=1, kernel=linear; total time=   2.6s\n",
            "[CV] END ......................C=0.1, gamma=1, kernel=linear; total time=   2.1s\n",
            "[CV] END ......................C=0.1, gamma=1, kernel=linear; total time=   2.0s\n",
            "[CV] END ......................C=0.1, gamma=1, kernel=linear; total time=   2.0s\n",
            "[CV] END ......................C=0.1, gamma=1, kernel=linear; total time=   2.0s\n",
            "[CV] END .........................C=0.1, gamma=1, kernel=rbf; total time=   8.2s\n",
            "[CV] END .........................C=0.1, gamma=1, kernel=rbf; total time=   6.8s\n",
            "[CV] END .........................C=0.1, gamma=1, kernel=rbf; total time=   7.7s\n",
            "[CV] END .........................C=0.1, gamma=1, kernel=rbf; total time=   7.6s\n",
            "[CV] END .........................C=0.1, gamma=1, kernel=rbf; total time=   6.7s\n",
            "[CV] END ........................C=0.1, gamma=1, kernel=poly; total time=   4.2s\n",
            "[CV] END ........................C=0.1, gamma=1, kernel=poly; total time=   3.6s\n",
            "[CV] END ........................C=0.1, gamma=1, kernel=poly; total time=   2.9s\n",
            "[CV] END ........................C=0.1, gamma=1, kernel=poly; total time=   2.9s\n",
            "[CV] END ........................C=0.1, gamma=1, kernel=poly; total time=   3.0s\n",
            "[CV] END ....................C=0.1, gamma=0.1, kernel=linear; total time=   2.7s\n",
            "[CV] END ....................C=0.1, gamma=0.1, kernel=linear; total time=   2.7s\n",
            "[CV] END ....................C=0.1, gamma=0.1, kernel=linear; total time=   2.7s\n",
            "[CV] END ....................C=0.1, gamma=0.1, kernel=linear; total time=   2.1s\n",
            "[CV] END ....................C=0.1, gamma=0.1, kernel=linear; total time=   2.0s\n",
            "[CV] END .......................C=0.1, gamma=0.1, kernel=rbf; total time=   5.9s\n",
            "[CV] END .......................C=0.1, gamma=0.1, kernel=rbf; total time=   7.5s\n",
            "[CV] END .......................C=0.1, gamma=0.1, kernel=rbf; total time=   5.8s\n",
            "[CV] END .......................C=0.1, gamma=0.1, kernel=rbf; total time=   6.4s\n",
            "[CV] END .......................C=0.1, gamma=0.1, kernel=rbf; total time=   7.1s\n",
            "[CV] END ......................C=0.1, gamma=0.1, kernel=poly; total time=   3.5s\n",
            "[CV] END ......................C=0.1, gamma=0.1, kernel=poly; total time=   3.5s\n",
            "[CV] END ......................C=0.1, gamma=0.1, kernel=poly; total time=   4.4s\n",
            "[CV] END ......................C=0.1, gamma=0.1, kernel=poly; total time=   4.7s\n",
            "[CV] END ......................C=0.1, gamma=0.1, kernel=poly; total time=   3.6s\n",
            "[CV] END ...................C=0.1, gamma=0.01, kernel=linear; total time=   2.0s\n",
            "[CV] END ...................C=0.1, gamma=0.01, kernel=linear; total time=   1.9s\n",
            "[CV] END ...................C=0.1, gamma=0.01, kernel=linear; total time=   1.9s\n",
            "[CV] END ...................C=0.1, gamma=0.01, kernel=linear; total time=   2.4s\n",
            "[CV] END ...................C=0.1, gamma=0.01, kernel=linear; total time=   2.5s\n",
            "[CV] END ......................C=0.1, gamma=0.01, kernel=rbf; total time=   6.4s\n",
            "[CV] END ......................C=0.1, gamma=0.01, kernel=rbf; total time=   5.8s\n",
            "[CV] END ......................C=0.1, gamma=0.01, kernel=rbf; total time=   7.9s\n",
            "[CV] END ......................C=0.1, gamma=0.01, kernel=rbf; total time=   6.3s\n",
            "[CV] END ......................C=0.1, gamma=0.01, kernel=rbf; total time=   7.0s\n",
            "[CV] END .....................C=0.1, gamma=0.01, kernel=poly; total time=   6.8s\n",
            "[CV] END .....................C=0.1, gamma=0.01, kernel=poly; total time=   5.5s\n",
            "[CV] END .....................C=0.1, gamma=0.01, kernel=poly; total time=   6.6s\n",
            "[CV] END .....................C=0.1, gamma=0.01, kernel=poly; total time=   6.5s\n",
            "[CV] END .....................C=0.1, gamma=0.01, kernel=poly; total time=   5.6s\n",
            "[CV] END ..................C=0.1, gamma=0.001, kernel=linear; total time=   2.4s\n",
            "[CV] END ..................C=0.1, gamma=0.001, kernel=linear; total time=   2.9s\n",
            "[CV] END ..................C=0.1, gamma=0.001, kernel=linear; total time=   3.0s\n",
            "[CV] END ..................C=0.1, gamma=0.001, kernel=linear; total time=   2.3s\n",
            "[CV] END ..................C=0.1, gamma=0.001, kernel=linear; total time=   2.1s\n",
            "[CV] END .....................C=0.1, gamma=0.001, kernel=rbf; total time=   6.6s\n",
            "[CV] END .....................C=0.1, gamma=0.001, kernel=rbf; total time=   8.1s\n",
            "[CV] END .....................C=0.1, gamma=0.001, kernel=rbf; total time=   6.6s\n",
            "[CV] END .....................C=0.1, gamma=0.001, kernel=rbf; total time=   8.3s\n",
            "[CV] END .....................C=0.1, gamma=0.001, kernel=rbf; total time=   8.6s\n",
            "[CV] END ....................C=0.1, gamma=0.001, kernel=poly; total time=   7.2s\n",
            "[CV] END ....................C=0.1, gamma=0.001, kernel=poly; total time=   6.4s\n",
            "[CV] END ....................C=0.1, gamma=0.001, kernel=poly; total time=   5.6s\n",
            "[CV] END ....................C=0.1, gamma=0.001, kernel=poly; total time=   6.9s\n",
            "[CV] END ....................C=0.1, gamma=0.001, kernel=poly; total time=   6.0s\n",
            "[CV] END ..................C=0.1, gamma=scale, kernel=linear; total time=   2.1s\n",
            "[CV] END ..................C=0.1, gamma=scale, kernel=linear; total time=   2.0s\n",
            "[CV] END ..................C=0.1, gamma=scale, kernel=linear; total time=   2.2s\n",
            "[CV] END ..................C=0.1, gamma=scale, kernel=linear; total time=   2.8s\n",
            "[CV] END ..................C=0.1, gamma=scale, kernel=linear; total time=   2.8s\n",
            "[CV] END .....................C=0.1, gamma=scale, kernel=rbf; total time=   6.1s\n",
            "[CV] END .....................C=0.1, gamma=scale, kernel=rbf; total time=   5.7s\n",
            "[CV] END .....................C=0.1, gamma=scale, kernel=rbf; total time=   7.1s\n",
            "[CV] END .....................C=0.1, gamma=scale, kernel=rbf; total time=   5.4s\n",
            "[CV] END .....................C=0.1, gamma=scale, kernel=rbf; total time=   5.8s\n",
            "[CV] END ....................C=0.1, gamma=scale, kernel=poly; total time=   6.5s\n",
            "[CV] END ....................C=0.1, gamma=scale, kernel=poly; total time=   5.1s\n",
            "[CV] END ....................C=0.1, gamma=scale, kernel=poly; total time=   5.2s\n",
            "[CV] END ....................C=0.1, gamma=scale, kernel=poly; total time=   6.6s\n",
            "[CV] END ....................C=0.1, gamma=scale, kernel=poly; total time=   5.2s\n",
            "[CV] END ........................C=1, gamma=1, kernel=linear; total time=   2.0s\n",
            "[CV] END ........................C=1, gamma=1, kernel=linear; total time=   2.0s\n",
            "[CV] END ........................C=1, gamma=1, kernel=linear; total time=   2.3s\n",
            "[CV] END ........................C=1, gamma=1, kernel=linear; total time=   2.6s\n",
            "[CV] END ........................C=1, gamma=1, kernel=linear; total time=   2.5s\n",
            "[CV] END ...........................C=1, gamma=1, kernel=rbf; total time=   6.8s\n",
            "[CV] END ...........................C=1, gamma=1, kernel=rbf; total time=   7.7s\n",
            "[CV] END ...........................C=1, gamma=1, kernel=rbf; total time=   7.8s\n",
            "[CV] END ...........................C=1, gamma=1, kernel=rbf; total time=   6.7s\n",
            "[CV] END ...........................C=1, gamma=1, kernel=rbf; total time=   8.5s\n",
            "[CV] END ..........................C=1, gamma=1, kernel=poly; total time=   2.5s\n",
            "[CV] END ..........................C=1, gamma=1, kernel=poly; total time=   2.5s\n",
            "[CV] END ..........................C=1, gamma=1, kernel=poly; total time=   2.8s\n",
            "[CV] END ..........................C=1, gamma=1, kernel=poly; total time=   3.0s\n",
            "[CV] END ..........................C=1, gamma=1, kernel=poly; total time=   3.9s\n",
            "[CV] END ......................C=1, gamma=0.1, kernel=linear; total time=   2.3s\n",
            "[CV] END ......................C=1, gamma=0.1, kernel=linear; total time=   1.9s\n",
            "[CV] END ......................C=1, gamma=0.1, kernel=linear; total time=   1.9s\n",
            "[CV] END ......................C=1, gamma=0.1, kernel=linear; total time=   1.8s\n",
            "[CV] END ......................C=1, gamma=0.1, kernel=linear; total time=   1.9s\n",
            "[CV] END .........................C=1, gamma=0.1, kernel=rbf; total time=   5.4s\n",
            "[CV] END .........................C=1, gamma=0.1, kernel=rbf; total time=   5.1s\n",
            "[CV] END .........................C=1, gamma=0.1, kernel=rbf; total time=   4.4s\n",
            "[CV] END .........................C=1, gamma=0.1, kernel=rbf; total time=   4.3s\n",
            "[CV] END .........................C=1, gamma=0.1, kernel=rbf; total time=   5.7s\n",
            "[CV] END ........................C=1, gamma=0.1, kernel=poly; total time=   3.5s\n",
            "[CV] END ........................C=1, gamma=0.1, kernel=poly; total time=   3.0s\n",
            "[CV] END ........................C=1, gamma=0.1, kernel=poly; total time=   2.9s\n",
            "[CV] END ........................C=1, gamma=0.1, kernel=poly; total time=   3.0s\n",
            "[CV] END ........................C=1, gamma=0.1, kernel=poly; total time=   3.9s\n",
            "[CV] END .....................C=1, gamma=0.01, kernel=linear; total time=   2.5s\n",
            "[CV] END .....................C=1, gamma=0.01, kernel=linear; total time=   2.1s\n",
            "[CV] END .....................C=1, gamma=0.01, kernel=linear; total time=   1.9s\n",
            "[CV] END .....................C=1, gamma=0.01, kernel=linear; total time=   1.9s\n",
            "[CV] END .....................C=1, gamma=0.01, kernel=linear; total time=   1.8s\n",
            "[CV] END ........................C=1, gamma=0.01, kernel=rbf; total time=   3.9s\n",
            "[CV] END ........................C=1, gamma=0.01, kernel=rbf; total time=   5.1s\n",
            "[CV] END ........................C=1, gamma=0.01, kernel=rbf; total time=   4.3s\n",
            "[CV] END ........................C=1, gamma=0.01, kernel=rbf; total time=   3.8s\n",
            "[CV] END ........................C=1, gamma=0.01, kernel=rbf; total time=   3.9s\n",
            "[CV] END .......................C=1, gamma=0.01, kernel=poly; total time=   6.9s\n",
            "[CV] END .......................C=1, gamma=0.01, kernel=poly; total time=   5.4s\n",
            "[CV] END .......................C=1, gamma=0.01, kernel=poly; total time=   5.1s\n",
            "[CV] END .......................C=1, gamma=0.01, kernel=poly; total time=   6.6s\n",
            "[CV] END .......................C=1, gamma=0.01, kernel=poly; total time=   5.3s\n",
            "[CV] END ....................C=1, gamma=0.001, kernel=linear; total time=   1.9s\n",
            "[CV] END ....................C=1, gamma=0.001, kernel=linear; total time=   1.8s\n",
            "[CV] END ....................C=1, gamma=0.001, kernel=linear; total time=   1.8s\n",
            "[CV] END ....................C=1, gamma=0.001, kernel=linear; total time=   2.3s\n",
            "[CV] END ....................C=1, gamma=0.001, kernel=linear; total time=   2.4s\n",
            "[CV] END .......................C=1, gamma=0.001, kernel=rbf; total time=   6.1s\n",
            "[CV] END .......................C=1, gamma=0.001, kernel=rbf; total time=   5.6s\n",
            "[CV] END .......................C=1, gamma=0.001, kernel=rbf; total time=   7.0s\n",
            "[CV] END .......................C=1, gamma=0.001, kernel=rbf; total time=   6.0s\n",
            "[CV] END .......................C=1, gamma=0.001, kernel=rbf; total time=   5.2s\n",
            "[CV] END ......................C=1, gamma=0.001, kernel=poly; total time=   6.3s\n",
            "[CV] END ......................C=1, gamma=0.001, kernel=poly; total time=   5.8s\n",
            "[CV] END ......................C=1, gamma=0.001, kernel=poly; total time=   5.2s\n",
            "[CV] END ......................C=1, gamma=0.001, kernel=poly; total time=   6.4s\n",
            "[CV] END ......................C=1, gamma=0.001, kernel=poly; total time=   5.6s\n",
            "[CV] END ....................C=1, gamma=scale, kernel=linear; total time=   2.1s\n",
            "[CV] END ....................C=1, gamma=scale, kernel=linear; total time=   2.4s\n",
            "[CV] END ....................C=1, gamma=scale, kernel=linear; total time=   2.5s\n",
            "[CV] END ....................C=1, gamma=scale, kernel=linear; total time=   2.5s\n",
            "[CV] END ....................C=1, gamma=scale, kernel=linear; total time=   2.6s\n",
            "[CV] END .......................C=1, gamma=scale, kernel=rbf; total time=   4.5s\n",
            "[CV] END .......................C=1, gamma=scale, kernel=rbf; total time=   3.6s\n",
            "[CV] END .......................C=1, gamma=scale, kernel=rbf; total time=   3.5s\n",
            "[CV] END .......................C=1, gamma=scale, kernel=rbf; total time=   4.0s\n",
            "[CV] END .......................C=1, gamma=scale, kernel=rbf; total time=   4.8s\n",
            "[CV] END ......................C=1, gamma=scale, kernel=poly; total time=   4.2s\n",
            "[CV] END ......................C=1, gamma=scale, kernel=poly; total time=   4.0s\n",
            "[CV] END ......................C=1, gamma=scale, kernel=poly; total time=   4.3s\n",
            "[CV] END ......................C=1, gamma=scale, kernel=poly; total time=   4.9s\n",
            "[CV] END ......................C=1, gamma=scale, kernel=poly; total time=   4.4s\n",
            "[CV] END .......................C=10, gamma=1, kernel=linear; total time=   2.9s\n",
            "[CV] END .......................C=10, gamma=1, kernel=linear; total time=   2.9s\n",
            "[CV] END .......................C=10, gamma=1, kernel=linear; total time=   4.1s\n",
            "[CV] END .......................C=10, gamma=1, kernel=linear; total time=   4.4s\n",
            "[CV] END .......................C=10, gamma=1, kernel=linear; total time=   3.3s\n",
            "[CV] END ..........................C=10, gamma=1, kernel=rbf; total time=   6.4s\n",
            "[CV] END ..........................C=10, gamma=1, kernel=rbf; total time=   8.2s\n",
            "[CV] END ..........................C=10, gamma=1, kernel=rbf; total time=   6.7s\n",
            "[CV] END ..........................C=10, gamma=1, kernel=rbf; total time=   7.4s\n",
            "[CV] END ..........................C=10, gamma=1, kernel=rbf; total time=   7.4s\n",
            "[CV] END .........................C=10, gamma=1, kernel=poly; total time=   2.3s\n",
            "[CV] END .........................C=10, gamma=1, kernel=poly; total time=   2.3s\n",
            "[CV] END .........................C=10, gamma=1, kernel=poly; total time=   2.9s\n",
            "[CV] END .........................C=10, gamma=1, kernel=poly; total time=   3.1s\n",
            "[CV] END .........................C=10, gamma=1, kernel=poly; total time=   3.7s\n",
            "[CV] END .....................C=10, gamma=0.1, kernel=linear; total time=   2.9s\n",
            "[CV] END .....................C=10, gamma=0.1, kernel=linear; total time=   2.9s\n",
            "[CV] END .....................C=10, gamma=0.1, kernel=linear; total time=   3.0s\n",
            "[CV] END .....................C=10, gamma=0.1, kernel=linear; total time=   3.8s\n",
            "[CV] END .....................C=10, gamma=0.1, kernel=linear; total time=   4.4s\n",
            "[CV] END ........................C=10, gamma=0.1, kernel=rbf; total time=   5.0s\n",
            "[CV] END ........................C=10, gamma=0.1, kernel=rbf; total time=   4.8s\n",
            "[CV] END ........................C=10, gamma=0.1, kernel=rbf; total time=   6.1s\n",
            "[CV] END ........................C=10, gamma=0.1, kernel=rbf; total time=   5.3s\n",
            "[CV] END ........................C=10, gamma=0.1, kernel=rbf; total time=   4.9s\n",
            "[CV] END .......................C=10, gamma=0.1, kernel=poly; total time=   2.9s\n",
            "[CV] END .......................C=10, gamma=0.1, kernel=poly; total time=   3.6s\n",
            "[CV] END .......................C=10, gamma=0.1, kernel=poly; total time=   3.6s\n",
            "[CV] END .......................C=10, gamma=0.1, kernel=poly; total time=   2.8s\n",
            "[CV] END .......................C=10, gamma=0.1, kernel=poly; total time=   3.0s\n",
            "[CV] END ....................C=10, gamma=0.01, kernel=linear; total time=   2.8s\n",
            "[CV] END ....................C=10, gamma=0.01, kernel=linear; total time=   4.0s\n",
            "[CV] END ....................C=10, gamma=0.01, kernel=linear; total time=   4.8s\n",
            "[CV] END ....................C=10, gamma=0.01, kernel=linear; total time=   3.2s\n",
            "[CV] END ....................C=10, gamma=0.01, kernel=linear; total time=   3.1s\n",
            "[CV] END .......................C=10, gamma=0.01, kernel=rbf; total time=   2.8s\n",
            "[CV] END .......................C=10, gamma=0.01, kernel=rbf; total time=   3.3s\n",
            "[CV] END .......................C=10, gamma=0.01, kernel=rbf; total time=   3.7s\n",
            "[CV] END .......................C=10, gamma=0.01, kernel=rbf; total time=   3.1s\n",
            "[CV] END .......................C=10, gamma=0.01, kernel=rbf; total time=   2.7s\n",
            "[CV] END ......................C=10, gamma=0.01, kernel=poly; total time=   4.8s\n",
            "[CV] END ......................C=10, gamma=0.01, kernel=poly; total time=   6.1s\n",
            "[CV] END ......................C=10, gamma=0.01, kernel=poly; total time=   5.3s\n",
            "[CV] END ......................C=10, gamma=0.01, kernel=poly; total time=   4.9s\n",
            "[CV] END ......................C=10, gamma=0.01, kernel=poly; total time=   5.6s\n",
            "[CV] END ...................C=10, gamma=0.001, kernel=linear; total time=   4.2s\n",
            "[CV] END ...................C=10, gamma=0.001, kernel=linear; total time=   3.1s\n",
            "[CV] END ...................C=10, gamma=0.001, kernel=linear; total time=   3.1s\n",
            "[CV] END ...................C=10, gamma=0.001, kernel=linear; total time=   3.0s\n",
            "[CV] END ...................C=10, gamma=0.001, kernel=linear; total time=   4.1s\n",
            "[CV] END ......................C=10, gamma=0.001, kernel=rbf; total time=   4.9s\n",
            "[CV] END ......................C=10, gamma=0.001, kernel=rbf; total time=   3.7s\n",
            "[CV] END ......................C=10, gamma=0.001, kernel=rbf; total time=   3.7s\n",
            "[CV] END ......................C=10, gamma=0.001, kernel=rbf; total time=   4.1s\n",
            "[CV] END ......................C=10, gamma=0.001, kernel=rbf; total time=   5.0s\n",
            "[CV] END .....................C=10, gamma=0.001, kernel=poly; total time=   6.0s\n",
            "[CV] END .....................C=10, gamma=0.001, kernel=poly; total time=   5.8s\n",
            "[CV] END .....................C=10, gamma=0.001, kernel=poly; total time=   7.1s\n",
            "[CV] END .....................C=10, gamma=0.001, kernel=poly; total time=   5.5s\n",
            "[CV] END .....................C=10, gamma=0.001, kernel=poly; total time=   5.7s\n",
            "[CV] END ...................C=10, gamma=scale, kernel=linear; total time=   4.2s\n",
            "[CV] END ...................C=10, gamma=scale, kernel=linear; total time=   3.7s\n",
            "[CV] END ...................C=10, gamma=scale, kernel=linear; total time=   3.3s\n",
            "[CV] END ...................C=10, gamma=scale, kernel=linear; total time=   3.0s\n",
            "[CV] END ...................C=10, gamma=scale, kernel=linear; total time=   3.4s\n",
            "[CV] END ......................C=10, gamma=scale, kernel=rbf; total time=   4.1s\n",
            "[CV] END ......................C=10, gamma=scale, kernel=rbf; total time=   3.6s\n",
            "[CV] END ......................C=10, gamma=scale, kernel=rbf; total time=   3.1s\n",
            "[CV] END ......................C=10, gamma=scale, kernel=rbf; total time=   3.0s\n",
            "[CV] END ......................C=10, gamma=scale, kernel=rbf; total time=   3.3s\n",
            "[CV] END .....................C=10, gamma=scale, kernel=poly; total time=   3.9s\n",
            "[CV] END .....................C=10, gamma=scale, kernel=poly; total time=   4.1s\n",
            "[CV] END .....................C=10, gamma=scale, kernel=poly; total time=   4.3s\n",
            "[CV] END .....................C=10, gamma=scale, kernel=poly; total time=   3.7s\n",
            "[CV] END .....................C=10, gamma=scale, kernel=poly; total time=   3.9s\n",
            "[CV] END ......................C=100, gamma=1, kernel=linear; total time=  10.9s\n",
            "[CV] END ......................C=100, gamma=1, kernel=linear; total time=  12.9s\n",
            "[CV] END ......................C=100, gamma=1, kernel=linear; total time=  13.8s\n",
            "[CV] END ......................C=100, gamma=1, kernel=linear; total time=  10.3s\n",
            "[CV] END ......................C=100, gamma=1, kernel=linear; total time=  12.0s\n",
            "[CV] END .........................C=100, gamma=1, kernel=rbf; total time=   6.7s\n",
            "[CV] END .........................C=100, gamma=1, kernel=rbf; total time=   8.0s\n",
            "[CV] END .........................C=100, gamma=1, kernel=rbf; total time=   7.3s\n",
            "[CV] END .........................C=100, gamma=1, kernel=rbf; total time=   7.1s\n",
            "[CV] END .........................C=100, gamma=1, kernel=rbf; total time=   8.2s\n",
            "[CV] END ........................C=100, gamma=1, kernel=poly; total time=   2.5s\n",
            "[CV] END ........................C=100, gamma=1, kernel=poly; total time=   2.5s\n",
            "[CV] END ........................C=100, gamma=1, kernel=poly; total time=   2.8s\n",
            "[CV] END ........................C=100, gamma=1, kernel=poly; total time=   3.5s\n",
            "[CV] END ........................C=100, gamma=1, kernel=poly; total time=   3.9s\n",
            "[CV] END ....................C=100, gamma=0.1, kernel=linear; total time=   9.5s\n",
            "[CV] END ....................C=100, gamma=0.1, kernel=linear; total time=  12.4s\n",
            "[CV] END ....................C=100, gamma=0.1, kernel=linear; total time=  15.0s\n",
            "[CV] END ....................C=100, gamma=0.1, kernel=linear; total time=   9.2s\n",
            "[CV] END ....................C=100, gamma=0.1, kernel=linear; total time=  12.1s\n",
            "[CV] END .......................C=100, gamma=0.1, kernel=rbf; total time=   5.2s\n",
            "[CV] END .......................C=100, gamma=0.1, kernel=rbf; total time=   6.7s\n",
            "[CV] END .......................C=100, gamma=0.1, kernel=rbf; total time=   5.9s\n",
            "[CV] END .......................C=100, gamma=0.1, kernel=rbf; total time=   5.0s\n",
            "[CV] END .......................C=100, gamma=0.1, kernel=rbf; total time=   6.3s\n",
            "[CV] END ......................C=100, gamma=0.1, kernel=poly; total time=   3.8s\n",
            "[CV] END ......................C=100, gamma=0.1, kernel=poly; total time=   3.0s\n",
            "[CV] END ......................C=100, gamma=0.1, kernel=poly; total time=   2.9s\n",
            "[CV] END ......................C=100, gamma=0.1, kernel=poly; total time=   2.9s\n",
            "[CV] END ......................C=100, gamma=0.1, kernel=poly; total time=   4.1s\n",
            "[CV] END ...................C=100, gamma=0.01, kernel=linear; total time=  10.8s\n",
            "[CV] END ...................C=100, gamma=0.01, kernel=linear; total time=  12.7s\n",
            "[CV] END ...................C=100, gamma=0.01, kernel=linear; total time=  13.9s\n",
            "[CV] END ...................C=100, gamma=0.01, kernel=linear; total time=  10.3s\n",
            "[CV] END ...................C=100, gamma=0.01, kernel=linear; total time=  11.8s\n",
            "[CV] END ......................C=100, gamma=0.01, kernel=rbf; total time=   2.7s\n",
            "[CV] END ......................C=100, gamma=0.01, kernel=rbf; total time=   2.7s\n",
            "[CV] END ......................C=100, gamma=0.01, kernel=rbf; total time=   2.7s\n",
            "[CV] END ......................C=100, gamma=0.01, kernel=rbf; total time=   3.2s\n",
            "[CV] END ......................C=100, gamma=0.01, kernel=rbf; total time=   3.7s\n",
            "[CV] END .....................C=100, gamma=0.01, kernel=poly; total time=   4.4s\n",
            "[CV] END .....................C=100, gamma=0.01, kernel=poly; total time=   3.7s\n",
            "[CV] END .....................C=100, gamma=0.01, kernel=poly; total time=   3.7s\n",
            "[CV] END .....................C=100, gamma=0.01, kernel=poly; total time=   4.9s\n",
            "[CV] END .....................C=100, gamma=0.01, kernel=poly; total time=   4.4s\n",
            "[CV] END ..................C=100, gamma=0.001, kernel=linear; total time=   9.7s\n",
            "[CV] END ..................C=100, gamma=0.001, kernel=linear; total time=  12.0s\n",
            "[CV] END ..................C=100, gamma=0.001, kernel=linear; total time=  18.0s\n",
            "[CV] END ..................C=100, gamma=0.001, kernel=linear; total time=  10.1s\n",
            "[CV] END ..................C=100, gamma=0.001, kernel=linear; total time=  12.0s\n",
            "[CV] END .....................C=100, gamma=0.001, kernel=rbf; total time=   2.6s\n",
            "[CV] END .....................C=100, gamma=0.001, kernel=rbf; total time=   2.6s\n",
            "[CV] END .....................C=100, gamma=0.001, kernel=rbf; total time=   2.7s\n",
            "[CV] END .....................C=100, gamma=0.001, kernel=rbf; total time=   3.6s\n",
            "[CV] END .....................C=100, gamma=0.001, kernel=rbf; total time=   3.8s\n",
            "[CV] END ....................C=100, gamma=0.001, kernel=poly; total time=   5.8s\n",
            "[CV] END ....................C=100, gamma=0.001, kernel=poly; total time=   5.5s\n",
            "[CV] END ....................C=100, gamma=0.001, kernel=poly; total time=   7.1s\n",
            "[CV] END ....................C=100, gamma=0.001, kernel=poly; total time=   5.3s\n",
            "[CV] END ....................C=100, gamma=0.001, kernel=poly; total time=   5.1s\n",
            "[CV] END ..................C=100, gamma=scale, kernel=linear; total time=  12.0s\n",
            "[CV] END ..................C=100, gamma=scale, kernel=linear; total time=  11.3s\n",
            "[CV] END ..................C=100, gamma=scale, kernel=linear; total time=  12.6s\n",
            "[CV] END ..................C=100, gamma=scale, kernel=linear; total time=  11.8s\n",
            "[CV] END ..................C=100, gamma=scale, kernel=linear; total time=   9.7s\n",
            "[CV] END .....................C=100, gamma=scale, kernel=rbf; total time=   4.3s\n",
            "[CV] END .....................C=100, gamma=scale, kernel=rbf; total time=   3.3s\n",
            "[CV] END .....................C=100, gamma=scale, kernel=rbf; total time=   3.4s\n",
            "[CV] END .....................C=100, gamma=scale, kernel=rbf; total time=   3.2s\n",
            "[CV] END .....................C=100, gamma=scale, kernel=rbf; total time=   4.4s\n",
            "[CV] END ....................C=100, gamma=scale, kernel=poly; total time=   3.7s\n",
            "[CV] END ....................C=100, gamma=scale, kernel=poly; total time=   3.0s\n",
            "[CV] END ....................C=100, gamma=scale, kernel=poly; total time=   3.0s\n",
            "[CV] END ....................C=100, gamma=scale, kernel=poly; total time=   3.0s\n",
            "[CV] END ....................C=100, gamma=scale, kernel=poly; total time=   3.8s\n",
            "Finished training SVM models, f1 score of best model: 0.7419724892610086\n",
            "Hyperparameters of the best SVM model are:\n",
            "{'C': 10, 'gamma': 'scale', 'kernel': 'poly'}\n",
            "Saving the best model SVM model...\n",
            "----------\n",
            "Saving outputs...\n",
            "----------\n",
            "CPU times: user 38min 4s, sys: 1min 35s, total: 39min 40s\n",
            "Wall time: 37min 7s\n"
          ]
        }
      ],
      "source": [
        "%%time\n",
        "output_training_file_path = os.path.join(output_dir, 'output_ml_training.json')\n",
        "if not os.path.isfile(output_training_file_path) or OVERWRITE_TRAINING:\n",
        "  kfold = StratifiedKFold(n_splits=5, shuffle=True, random_state=random_state)\n",
        "  metric = {\n",
        "      'name': 'f1',\n",
        "      'obj': make_scorer(f1_score, average='weighted')\n",
        "  }\n",
        "  training_outputs = []\n",
        "\n",
        "  for algorithm in ['LR', 'SVM']:\n",
        "    print(f'Training {algorithm} models with different combination of hyperparameters...')\n",
        "    if algorithm == 'SVM':\n",
        "      # class_weight='balanced' is used to indicate that classes are not balanced in the dataset\n",
        "      classifier = SVC(random_state=random_state, class_weight='balanced')\n",
        "      hyperparams = get_svm_parameters()\n",
        "    else:\n",
        "      classifier = LogisticRegression(random_state=random_state,\n",
        "                                      class_weight='balanced', max_iter=200,\n",
        "                                      solver='lbfgs')\n",
        "      hyperparams = get_lr_parameters()\n",
        "    # create grid search\n",
        "    clf = GridSearchCV(classifier, param_grid=hyperparams, cv=kfold,\n",
        "                       scoring=metric['obj'], verbose=2, error_score='raise',\n",
        "                       n_jobs=1)\n",
        "    # do grid search\n",
        "    best_model = clf.fit(X_train, y_train)\n",
        "    score = best_model.best_score_\n",
        "    print(f'Finished training {algorithm} models, {metric[\"name\"]} score of best model: {score}')\n",
        "    print(f'Hyperparameters of the best {algorithm} model are:')\n",
        "    print(filter_params(best_model.best_estimator_.get_params(), hyperparams))\n",
        "    print(f'Saving the best model {algorithm} model...')\n",
        "    model_name = f'{algorithm.lower()}_model.joblib'\n",
        "    model_file_path = os.path.join(models_dir, model_name)\n",
        "    model_dict = dict(model=best_model)\n",
        "    joblib.dump(model_dict, model_file_path)\n",
        "    training_outputs.append(\n",
        "      {\n",
        "          'algorithm': algorithm,\n",
        "          'hyperparms': filter_params(best_model.best_estimator_.get_params(), hyperparams),\n",
        "          'metric': metric['name'],\n",
        "          'score': score,\n",
        "          'model_file_path': model_file_path\n",
        "      }\n",
        "    )\n",
        "    print('-'*10)\n",
        "  # save training outputs\n",
        "  print('Saving outputs...')\n",
        "  with open(output_training_file_path, 'w') as f:\n",
        "      json.dump(training_outputs, f, indent=4)\n",
        "  print('-'*10)\n",
        "else:\n",
        "  print('Skipping, training outputs already exist...')"
      ]
    },
    {
      "cell_type": "markdown",
      "metadata": {
        "id": "sxbB7p62Q5zD"
      },
      "source": [
        "### Evaluate best classifiers"
      ]
    },
    {
      "cell_type": "markdown",
      "metadata": {
        "id": "YtW_XeTgegs0"
      },
      "source": [
        "#### Prepare test set"
      ]
    },
    {
      "cell_type": "markdown",
      "metadata": {
        "id": "6fCZxvkXXwD_"
      },
      "source": [
        "Scale numerical features"
      ]
    },
    {
      "cell_type": "code",
      "execution_count": 36,
      "metadata": {
        "id": "wnMOH7KIpScP"
      },
      "outputs": [],
      "source": [
        "scaled_features_array = scale_features(np.array(features_test.iloc[:,1:]), models_dir)\n",
        "scaled_features_df = pd.DataFrame(scaled_features_array, columns=list(features_train.columns)[1:])"
      ]
    },
    {
      "cell_type": "markdown",
      "metadata": {
        "id": "1LWKyYGGXyq-"
      },
      "source": [
        "Generate doc vectors of segments in the test split"
      ]
    },
    {
      "cell_type": "code",
      "execution_count": 37,
      "metadata": {
        "id": "gp23PknhXSPK"
      },
      "outputs": [],
      "source": [
        "# load doc2vec model\n",
        "doc2vec_model_file_path = os.path.join(models_dir, 'doc2vec.model')\n",
        "doc2vec_model = Doc2Vec.load(doc2vec_model_file_path)\n",
        "test_vectors =  [doc2vec_model.infer_vector(seg_tokens) for seg_tokens in list(features_test.segment_tokens)]"
      ]
    },
    {
      "cell_type": "markdown",
      "metadata": {
        "id": "0Q9ohFswYEts"
      },
      "source": [
        "Concatenate vectors with numerical features"
      ]
    },
    {
      "cell_type": "code",
      "execution_count": 38,
      "metadata": {
        "id": "6Urg5UNtpbTj"
      },
      "outputs": [],
      "source": [
        "X_test = np.concatenate((test_vectors, scaled_features_df), axis=1)"
      ]
    },
    {
      "cell_type": "markdown",
      "metadata": {
        "id": "v5KF5mIGZ9gU"
      },
      "source": [
        "#### **Model**: Best Logistic Regression classifier"
      ]
    },
    {
      "cell_type": "markdown",
      "metadata": {
        "id": "MyZaTQIVXsMK"
      },
      "source": [
        "Load model"
      ]
    },
    {
      "cell_type": "code",
      "execution_count": 39,
      "metadata": {
        "id": "1Wk-arv4WtNU"
      },
      "outputs": [],
      "source": [
        "with open(output_training_file_path, 'r') as f:\n",
        "    training_outputs = json.load(f)\n",
        "for training in training_outputs:\n",
        "  if training['algorithm'] == 'LR':\n",
        "    model_file_path = training['model_file_path']\n",
        "best_lr_model = joblib.load(model_file_path)['model']"
      ]
    },
    {
      "cell_type": "markdown",
      "metadata": {
        "id": "ZydMklLcYLXh"
      },
      "source": [
        "Make predictions"
      ]
    },
    {
      "cell_type": "code",
      "execution_count": 40,
      "metadata": {
        "id": "865r6tiaycTP"
      },
      "outputs": [],
      "source": [
        "preds = best_lr_model.predict(X_test)"
      ]
    },
    {
      "cell_type": "markdown",
      "metadata": {
        "id": "nYnFZb6oZ3XJ"
      },
      "source": [
        "Evaluate model performance"
      ]
    },
    {
      "cell_type": "code",
      "execution_count": 41,
      "metadata": {
        "colab": {
          "base_uri": "https://localhost:8080/"
        },
        "id": "3XvMiXV_ykc1",
        "outputId": "4fffeab9-99e9-4a7a-9239-1b9815d78705"
      },
      "outputs": [
        {
          "name": "stdout",
          "output_type": "stream",
          "text": [
            "                              precision    recall  f1-score   support\n",
            "\n",
            "               About Company       0.70      0.71      0.71        42\n",
            "                    Benefits       0.58      0.75      0.66        28\n",
            "               EOE/Diversity       0.83      0.94      0.88        16\n",
            "Job Responsibilities/Summary       0.85      0.70      0.77       140\n",
            "     Job Skills/Requirements       0.78      0.74      0.76        99\n",
            "                   Job Title       0.40      1.00      0.57         4\n",
            "                       Other       0.65      0.82      0.73        50\n",
            "\n",
            "                    accuracy                           0.74       379\n",
            "                   macro avg       0.68      0.81      0.72       379\n",
            "                weighted avg       0.76      0.74      0.75       379\n",
            "\n"
          ]
        }
      ],
      "source": [
        "enconder_file_path = os.path.join(models_dir, 'encoder_classes.npy')\n",
        "class_nums = list(range(0,7))\n",
        "print(classification_report(y_test, preds, target_names=decode_labels(class_nums, enconder_file_path)))"
      ]
    },
    {
      "cell_type": "markdown",
      "metadata": {
        "id": "JGaXtXS0L7SW"
      },
      "source": [
        "#### **Model**: Best Support Vector Machine classifier"
      ]
    },
    {
      "cell_type": "markdown",
      "metadata": {
        "id": "IcB2eZzEe4bc"
      },
      "source": [
        "Load model"
      ]
    },
    {
      "cell_type": "code",
      "execution_count": 42,
      "metadata": {
        "id": "fwfKPVore4bo"
      },
      "outputs": [],
      "source": [
        "with open(output_training_file_path, 'r') as f:\n",
        "    training_outputs = json.load(f)\n",
        "for training in training_outputs:\n",
        "  if training['algorithm'] == 'SVM':\n",
        "    model_file_path = training['model_file_path']\n",
        "best_svm_model = joblib.load(model_file_path)['model']"
      ]
    },
    {
      "cell_type": "markdown",
      "metadata": {
        "id": "bJMTJAxfe4bo"
      },
      "source": [
        "Make predictions"
      ]
    },
    {
      "cell_type": "code",
      "execution_count": 43,
      "metadata": {
        "id": "spKjHU3te4bo"
      },
      "outputs": [],
      "source": [
        "preds = best_svm_model.predict(X_test)"
      ]
    },
    {
      "cell_type": "markdown",
      "metadata": {
        "id": "rbjhcOmge4bo"
      },
      "source": [
        "Evaluate model performance"
      ]
    },
    {
      "cell_type": "code",
      "execution_count": 44,
      "metadata": {
        "colab": {
          "base_uri": "https://localhost:8080/"
        },
        "id": "AWMNSwjRe4bp",
        "outputId": "01c48b54-7ff1-49e9-8ce6-1c37b0b8e7e0"
      },
      "outputs": [
        {
          "name": "stdout",
          "output_type": "stream",
          "text": [
            "                              precision    recall  f1-score   support\n",
            "\n",
            "               About Company       0.64      0.64      0.64        42\n",
            "                    Benefits       0.83      0.71      0.77        28\n",
            "               EOE/Diversity       0.93      0.88      0.90        16\n",
            "Job Responsibilities/Summary       0.85      0.79      0.81       140\n",
            "     Job Skills/Requirements       0.76      0.82      0.79        99\n",
            "                   Job Title       0.50      0.25      0.33         4\n",
            "                       Other       0.73      0.88      0.80        50\n",
            "\n",
            "                    accuracy                           0.78       379\n",
            "                   macro avg       0.75      0.71      0.72       379\n",
            "                weighted avg       0.79      0.78      0.78       379\n",
            "\n"
          ]
        }
      ],
      "source": [
        "enconder_file_path = os.path.join(models_dir, 'encoder_classes.npy')\n",
        "class_nums = list(range(0,7))\n",
        "print(classification_report(y_test, preds, target_names=decode_labels(class_nums, enconder_file_path)))"
      ]
    },
    {
      "cell_type": "markdown",
      "metadata": {
        "id": "_-18bxAAmaqa"
      },
      "source": [
        "### Select best-perfomed model"
      ]
    },
    {
      "cell_type": "markdown",
      "metadata": {
        "id": "R3Ic-kzzmigG"
      },
      "source": [
        "> From results above it is clear that the **`support vector machine`** model shows better a better performance with an **`accuracy`** of **`0.78`** and a similar weighted average **`f1`** in comparison with its **`logistic regression`** counterpart, which shows an **`accuracy`** of **`0.74`** and a weighted average **`f1`** of **`0.75`**. Therefore, the **`support vector machine`** model will be used for predictions."
      ]
    },
    {
      "cell_type": "markdown",
      "metadata": {
        "id": "52fqB0zbmd2G"
      },
      "source": [
        "---"
      ]
    },
    {
      "cell_type": "markdown",
      "metadata": {
        "id": "08tQCGH9mfZW"
      },
      "source": [
        "# Section 3. Use case"
      ]
    },
    {
      "cell_type": "markdown",
      "metadata": {
        "id": "JN9TzSjOnjun"
      },
      "source": [
        "### Predict section of segments"
      ]
    },
    {
      "cell_type": "markdown",
      "metadata": {
        "id": "bsAYpMf6DJvX"
      },
      "source": [
        "Solution is checked by predicting the section of a given sentence (and sentence index) taken from the dataset `jobs_test`."
      ]
    },
    {
      "cell_type": "code",
      "execution_count": 45,
      "metadata": {
        "id": "AbeTU-LjnsZJ"
      },
      "outputs": [],
      "source": [
        "segment = 'The company began more than 100 years ago in Tulsa and has successfully diversified into a variety of industries, businesses and geographies. .'\n",
        "segment_idx = 341"
      ]
    },
    {
      "cell_type": "code",
      "execution_count": 46,
      "metadata": {
        "colab": {
          "base_uri": "https://localhost:8080/",
          "height": 81
        },
        "id": "6aJAhOzxIUWd",
        "outputId": "6eeab63c-63de-4331-b8f4-314d7b06903e"
      },
      "outputs": [
        {
          "data": {
            "text/html": [
              "\n",
              "  <div id=\"df-16bbc27c-0fb7-49b5-b496-4ab656657370\" class=\"colab-df-container\">\n",
              "    <div>\n",
              "<style scoped>\n",
              "    .dataframe tbody tr th:only-of-type {\n",
              "        vertical-align: middle;\n",
              "    }\n",
              "\n",
              "    .dataframe tbody tr th {\n",
              "        vertical-align: top;\n",
              "    }\n",
              "\n",
              "    .dataframe thead th {\n",
              "        text-align: right;\n",
              "    }\n",
              "</style>\n",
              "<table border=\"1\" class=\"dataframe\">\n",
              "  <thead>\n",
              "    <tr style=\"text-align: right;\">\n",
              "      <th></th>\n",
              "      <th>segment</th>\n",
              "      <th>segment_index</th>\n",
              "    </tr>\n",
              "  </thead>\n",
              "  <tbody>\n",
              "    <tr>\n",
              "      <th>0</th>\n",
              "      <td>The company began more than 100 years ago in T...</td>\n",
              "      <td>341</td>\n",
              "    </tr>\n",
              "  </tbody>\n",
              "</table>\n",
              "</div>\n",
              "    <div class=\"colab-df-buttons\">\n",
              "\n",
              "  <div class=\"colab-df-container\">\n",
              "    <button class=\"colab-df-convert\" onclick=\"convertToInteractive('df-16bbc27c-0fb7-49b5-b496-4ab656657370')\"\n",
              "            title=\"Convert this dataframe to an interactive table.\"\n",
              "            style=\"display:none;\">\n",
              "\n",
              "  <svg xmlns=\"http://www.w3.org/2000/svg\" height=\"24px\" viewBox=\"0 -960 960 960\">\n",
              "    <path d=\"M120-120v-720h720v720H120Zm60-500h600v-160H180v160Zm220 220h160v-160H400v160Zm0 220h160v-160H400v160ZM180-400h160v-160H180v160Zm440 0h160v-160H620v160ZM180-180h160v-160H180v160Zm440 0h160v-160H620v160Z\"/>\n",
              "  </svg>\n",
              "    </button>\n",
              "\n",
              "  <style>\n",
              "    .colab-df-container {\n",
              "      display:flex;\n",
              "      gap: 12px;\n",
              "    }\n",
              "\n",
              "    .colab-df-convert {\n",
              "      background-color: #E8F0FE;\n",
              "      border: none;\n",
              "      border-radius: 50%;\n",
              "      cursor: pointer;\n",
              "      display: none;\n",
              "      fill: #1967D2;\n",
              "      height: 32px;\n",
              "      padding: 0 0 0 0;\n",
              "      width: 32px;\n",
              "    }\n",
              "\n",
              "    .colab-df-convert:hover {\n",
              "      background-color: #E2EBFA;\n",
              "      box-shadow: 0px 1px 2px rgba(60, 64, 67, 0.3), 0px 1px 3px 1px rgba(60, 64, 67, 0.15);\n",
              "      fill: #174EA6;\n",
              "    }\n",
              "\n",
              "    .colab-df-buttons div {\n",
              "      margin-bottom: 4px;\n",
              "    }\n",
              "\n",
              "    [theme=dark] .colab-df-convert {\n",
              "      background-color: #3B4455;\n",
              "      fill: #D2E3FC;\n",
              "    }\n",
              "\n",
              "    [theme=dark] .colab-df-convert:hover {\n",
              "      background-color: #434B5C;\n",
              "      box-shadow: 0px 1px 3px 1px rgba(0, 0, 0, 0.15);\n",
              "      filter: drop-shadow(0px 1px 2px rgba(0, 0, 0, 0.3));\n",
              "      fill: #FFFFFF;\n",
              "    }\n",
              "  </style>\n",
              "\n",
              "    <script>\n",
              "      const buttonEl =\n",
              "        document.querySelector('#df-16bbc27c-0fb7-49b5-b496-4ab656657370 button.colab-df-convert');\n",
              "      buttonEl.style.display =\n",
              "        google.colab.kernel.accessAllowed ? 'block' : 'none';\n",
              "\n",
              "      async function convertToInteractive(key) {\n",
              "        const element = document.querySelector('#df-16bbc27c-0fb7-49b5-b496-4ab656657370');\n",
              "        const dataTable =\n",
              "          await google.colab.kernel.invokeFunction('convertToInteractive',\n",
              "                                                    [key], {});\n",
              "        if (!dataTable) return;\n",
              "\n",
              "        const docLinkHtml = 'Like what you see? Visit the ' +\n",
              "          '<a target=\"_blank\" href=https://colab.research.google.com/notebooks/data_table.ipynb>data table notebook</a>'\n",
              "          + ' to learn more about interactive tables.';\n",
              "        element.innerHTML = '';\n",
              "        dataTable['output_type'] = 'display_data';\n",
              "        await google.colab.output.renderOutput(dataTable, element);\n",
              "        const docLink = document.createElement('div');\n",
              "        docLink.innerHTML = docLinkHtml;\n",
              "        element.appendChild(docLink);\n",
              "      }\n",
              "    </script>\n",
              "  </div>\n",
              "\n",
              "    </div>\n",
              "  </div>\n"
            ],
            "text/plain": [
              "                                             segment  segment_index\n",
              "0  The company began more than 100 years ago in T...            341"
            ]
          },
          "execution_count": 46,
          "metadata": {},
          "output_type": "execute_result"
        }
      ],
      "source": [
        "segments_df = pd.DataFrame({'segment': [segment], 'segment_index': [segment_idx]})\n",
        "segments_df.head()"
      ]
    },
    {
      "cell_type": "markdown",
      "metadata": {
        "id": "YpO55ymuDfgv"
      },
      "source": [
        "Create syntactical features for the segment"
      ]
    },
    {
      "cell_type": "code",
      "execution_count": 47,
      "metadata": {
        "colab": {
          "base_uri": "https://localhost:8080/",
          "height": 81
        },
        "id": "kJ6YGT_nDjhG",
        "outputId": "533ce93b-85db-4527-f313-3c3002c6ef89"
      },
      "outputs": [
        {
          "data": {
            "text/html": [
              "\n",
              "  <div id=\"df-19e7b309-366f-4d58-8e13-020005ee0daa\" class=\"colab-df-container\">\n",
              "    <div>\n",
              "<style scoped>\n",
              "    .dataframe tbody tr th:only-of-type {\n",
              "        vertical-align: middle;\n",
              "    }\n",
              "\n",
              "    .dataframe tbody tr th {\n",
              "        vertical-align: top;\n",
              "    }\n",
              "\n",
              "    .dataframe thead th {\n",
              "        text-align: right;\n",
              "    }\n",
              "</style>\n",
              "<table border=\"1\" class=\"dataframe\">\n",
              "  <thead>\n",
              "    <tr style=\"text-align: right;\">\n",
              "      <th></th>\n",
              "      <th>noun_count</th>\n",
              "      <th>verb_count</th>\n",
              "      <th>adj_count</th>\n",
              "      <th>adv_count</th>\n",
              "      <th>pron_count</th>\n",
              "      <th>chart_count</th>\n",
              "      <th>word_count</th>\n",
              "      <th>word_density</th>\n",
              "      <th>upper_case_word_count</th>\n",
              "      <th>title_word_count</th>\n",
              "    </tr>\n",
              "  </thead>\n",
              "  <tbody>\n",
              "    <tr>\n",
              "      <th>0</th>\n",
              "      <td>7</td>\n",
              "      <td>3</td>\n",
              "      <td>1</td>\n",
              "      <td>2</td>\n",
              "      <td>0</td>\n",
              "      <td>143</td>\n",
              "      <td>23</td>\n",
              "      <td>5.958333</td>\n",
              "      <td>0</td>\n",
              "      <td>2</td>\n",
              "    </tr>\n",
              "  </tbody>\n",
              "</table>\n",
              "</div>\n",
              "    <div class=\"colab-df-buttons\">\n",
              "\n",
              "  <div class=\"colab-df-container\">\n",
              "    <button class=\"colab-df-convert\" onclick=\"convertToInteractive('df-19e7b309-366f-4d58-8e13-020005ee0daa')\"\n",
              "            title=\"Convert this dataframe to an interactive table.\"\n",
              "            style=\"display:none;\">\n",
              "\n",
              "  <svg xmlns=\"http://www.w3.org/2000/svg\" height=\"24px\" viewBox=\"0 -960 960 960\">\n",
              "    <path d=\"M120-120v-720h720v720H120Zm60-500h600v-160H180v160Zm220 220h160v-160H400v160Zm0 220h160v-160H400v160ZM180-400h160v-160H180v160Zm440 0h160v-160H620v160ZM180-180h160v-160H180v160Zm440 0h160v-160H620v160Z\"/>\n",
              "  </svg>\n",
              "    </button>\n",
              "\n",
              "  <style>\n",
              "    .colab-df-container {\n",
              "      display:flex;\n",
              "      gap: 12px;\n",
              "    }\n",
              "\n",
              "    .colab-df-convert {\n",
              "      background-color: #E8F0FE;\n",
              "      border: none;\n",
              "      border-radius: 50%;\n",
              "      cursor: pointer;\n",
              "      display: none;\n",
              "      fill: #1967D2;\n",
              "      height: 32px;\n",
              "      padding: 0 0 0 0;\n",
              "      width: 32px;\n",
              "    }\n",
              "\n",
              "    .colab-df-convert:hover {\n",
              "      background-color: #E2EBFA;\n",
              "      box-shadow: 0px 1px 2px rgba(60, 64, 67, 0.3), 0px 1px 3px 1px rgba(60, 64, 67, 0.15);\n",
              "      fill: #174EA6;\n",
              "    }\n",
              "\n",
              "    .colab-df-buttons div {\n",
              "      margin-bottom: 4px;\n",
              "    }\n",
              "\n",
              "    [theme=dark] .colab-df-convert {\n",
              "      background-color: #3B4455;\n",
              "      fill: #D2E3FC;\n",
              "    }\n",
              "\n",
              "    [theme=dark] .colab-df-convert:hover {\n",
              "      background-color: #434B5C;\n",
              "      box-shadow: 0px 1px 3px 1px rgba(0, 0, 0, 0.15);\n",
              "      filter: drop-shadow(0px 1px 2px rgba(0, 0, 0, 0.3));\n",
              "      fill: #FFFFFF;\n",
              "    }\n",
              "  </style>\n",
              "\n",
              "    <script>\n",
              "      const buttonEl =\n",
              "        document.querySelector('#df-19e7b309-366f-4d58-8e13-020005ee0daa button.colab-df-convert');\n",
              "      buttonEl.style.display =\n",
              "        google.colab.kernel.accessAllowed ? 'block' : 'none';\n",
              "\n",
              "      async function convertToInteractive(key) {\n",
              "        const element = document.querySelector('#df-19e7b309-366f-4d58-8e13-020005ee0daa');\n",
              "        const dataTable =\n",
              "          await google.colab.kernel.invokeFunction('convertToInteractive',\n",
              "                                                    [key], {});\n",
              "        if (!dataTable) return;\n",
              "\n",
              "        const docLinkHtml = 'Like what you see? Visit the ' +\n",
              "          '<a target=\"_blank\" href=https://colab.research.google.com/notebooks/data_table.ipynb>data table notebook</a>'\n",
              "          + ' to learn more about interactive tables.';\n",
              "        element.innerHTML = '';\n",
              "        dataTable['output_type'] = 'display_data';\n",
              "        await google.colab.output.renderOutput(dataTable, element);\n",
              "        const docLink = document.createElement('div');\n",
              "        docLink.innerHTML = docLinkHtml;\n",
              "        element.appendChild(docLink);\n",
              "      }\n",
              "    </script>\n",
              "  </div>\n",
              "\n",
              "    </div>\n",
              "  </div>\n"
            ],
            "text/plain": [
              "   noun_count  verb_count  adj_count  adv_count  pron_count  chart_count  \\\n",
              "0           7           3          1          2           0          143   \n",
              "\n",
              "   word_count  word_density  upper_case_word_count  title_word_count  \n",
              "0          23      5.958333                      0                 2  "
            ]
          },
          "execution_count": 47,
          "metadata": {},
          "output_type": "execute_result"
        }
      ],
      "source": [
        "num_features_df = create_syntactical_features(segment)\n",
        "num_features_df.head()"
      ]
    },
    {
      "cell_type": "code",
      "execution_count": 48,
      "metadata": {
        "colab": {
          "base_uri": "https://localhost:8080/",
          "height": 81
        },
        "id": "okQEKcBaIngm",
        "outputId": "a8f72b40-795b-4a44-b3fe-1950d67347db"
      },
      "outputs": [
        {
          "data": {
            "text/html": [
              "\n",
              "  <div id=\"df-197023d1-e1fc-430d-9d62-5b0473c0d8cf\" class=\"colab-df-container\">\n",
              "    <div>\n",
              "<style scoped>\n",
              "    .dataframe tbody tr th:only-of-type {\n",
              "        vertical-align: middle;\n",
              "    }\n",
              "\n",
              "    .dataframe tbody tr th {\n",
              "        vertical-align: top;\n",
              "    }\n",
              "\n",
              "    .dataframe thead th {\n",
              "        text-align: right;\n",
              "    }\n",
              "</style>\n",
              "<table border=\"1\" class=\"dataframe\">\n",
              "  <thead>\n",
              "    <tr style=\"text-align: right;\">\n",
              "      <th></th>\n",
              "      <th>segment_index</th>\n",
              "      <th>noun_count</th>\n",
              "      <th>verb_count</th>\n",
              "      <th>adj_count</th>\n",
              "      <th>adv_count</th>\n",
              "      <th>pron_count</th>\n",
              "      <th>chart_count</th>\n",
              "      <th>word_count</th>\n",
              "      <th>word_density</th>\n",
              "      <th>upper_case_word_count</th>\n",
              "      <th>title_word_count</th>\n",
              "    </tr>\n",
              "  </thead>\n",
              "  <tbody>\n",
              "    <tr>\n",
              "      <th>0</th>\n",
              "      <td>341</td>\n",
              "      <td>7</td>\n",
              "      <td>3</td>\n",
              "      <td>1</td>\n",
              "      <td>2</td>\n",
              "      <td>0</td>\n",
              "      <td>143</td>\n",
              "      <td>23</td>\n",
              "      <td>5.958333</td>\n",
              "      <td>0</td>\n",
              "      <td>2</td>\n",
              "    </tr>\n",
              "  </tbody>\n",
              "</table>\n",
              "</div>\n",
              "    <div class=\"colab-df-buttons\">\n",
              "\n",
              "  <div class=\"colab-df-container\">\n",
              "    <button class=\"colab-df-convert\" onclick=\"convertToInteractive('df-197023d1-e1fc-430d-9d62-5b0473c0d8cf')\"\n",
              "            title=\"Convert this dataframe to an interactive table.\"\n",
              "            style=\"display:none;\">\n",
              "\n",
              "  <svg xmlns=\"http://www.w3.org/2000/svg\" height=\"24px\" viewBox=\"0 -960 960 960\">\n",
              "    <path d=\"M120-120v-720h720v720H120Zm60-500h600v-160H180v160Zm220 220h160v-160H400v160Zm0 220h160v-160H400v160ZM180-400h160v-160H180v160Zm440 0h160v-160H620v160ZM180-180h160v-160H180v160Zm440 0h160v-160H620v160Z\"/>\n",
              "  </svg>\n",
              "    </button>\n",
              "\n",
              "  <style>\n",
              "    .colab-df-container {\n",
              "      display:flex;\n",
              "      gap: 12px;\n",
              "    }\n",
              "\n",
              "    .colab-df-convert {\n",
              "      background-color: #E8F0FE;\n",
              "      border: none;\n",
              "      border-radius: 50%;\n",
              "      cursor: pointer;\n",
              "      display: none;\n",
              "      fill: #1967D2;\n",
              "      height: 32px;\n",
              "      padding: 0 0 0 0;\n",
              "      width: 32px;\n",
              "    }\n",
              "\n",
              "    .colab-df-convert:hover {\n",
              "      background-color: #E2EBFA;\n",
              "      box-shadow: 0px 1px 2px rgba(60, 64, 67, 0.3), 0px 1px 3px 1px rgba(60, 64, 67, 0.15);\n",
              "      fill: #174EA6;\n",
              "    }\n",
              "\n",
              "    .colab-df-buttons div {\n",
              "      margin-bottom: 4px;\n",
              "    }\n",
              "\n",
              "    [theme=dark] .colab-df-convert {\n",
              "      background-color: #3B4455;\n",
              "      fill: #D2E3FC;\n",
              "    }\n",
              "\n",
              "    [theme=dark] .colab-df-convert:hover {\n",
              "      background-color: #434B5C;\n",
              "      box-shadow: 0px 1px 3px 1px rgba(0, 0, 0, 0.15);\n",
              "      filter: drop-shadow(0px 1px 2px rgba(0, 0, 0, 0.3));\n",
              "      fill: #FFFFFF;\n",
              "    }\n",
              "  </style>\n",
              "\n",
              "    <script>\n",
              "      const buttonEl =\n",
              "        document.querySelector('#df-197023d1-e1fc-430d-9d62-5b0473c0d8cf button.colab-df-convert');\n",
              "      buttonEl.style.display =\n",
              "        google.colab.kernel.accessAllowed ? 'block' : 'none';\n",
              "\n",
              "      async function convertToInteractive(key) {\n",
              "        const element = document.querySelector('#df-197023d1-e1fc-430d-9d62-5b0473c0d8cf');\n",
              "        const dataTable =\n",
              "          await google.colab.kernel.invokeFunction('convertToInteractive',\n",
              "                                                    [key], {});\n",
              "        if (!dataTable) return;\n",
              "\n",
              "        const docLinkHtml = 'Like what you see? Visit the ' +\n",
              "          '<a target=\"_blank\" href=https://colab.research.google.com/notebooks/data_table.ipynb>data table notebook</a>'\n",
              "          + ' to learn more about interactive tables.';\n",
              "        element.innerHTML = '';\n",
              "        dataTable['output_type'] = 'display_data';\n",
              "        await google.colab.output.renderOutput(dataTable, element);\n",
              "        const docLink = document.createElement('div');\n",
              "        docLink.innerHTML = docLinkHtml;\n",
              "        element.appendChild(docLink);\n",
              "      }\n",
              "    </script>\n",
              "  </div>\n",
              "\n",
              "    </div>\n",
              "  </div>\n"
            ],
            "text/plain": [
              "   segment_index  noun_count  verb_count  adj_count  adv_count  pron_count  \\\n",
              "0            341           7           3          1          2           0   \n",
              "\n",
              "   chart_count  word_count  word_density  upper_case_word_count  \\\n",
              "0          143          23      5.958333                      0   \n",
              "\n",
              "   title_word_count  \n",
              "0                 2  "
            ]
          },
          "execution_count": 48,
          "metadata": {},
          "output_type": "execute_result"
        }
      ],
      "source": [
        "num_features_df = pd.concat([segments_df['segment_index'], num_features_df], axis=1)\n",
        "num_features_df.head()"
      ]
    },
    {
      "cell_type": "markdown",
      "metadata": {
        "id": "oF9xIor4HfB6"
      },
      "source": [
        "Scale numerical features"
      ]
    },
    {
      "cell_type": "code",
      "execution_count": 49,
      "metadata": {
        "colab": {
          "base_uri": "https://localhost:8080/",
          "height": 81
        },
        "id": "8E9Hl-IJHiU4",
        "outputId": "fc549480-0e27-48b0-cd31-90f1791dec50"
      },
      "outputs": [
        {
          "data": {
            "text/html": [
              "\n",
              "  <div id=\"df-d4b850fd-b870-49e8-8c56-cf58d06db7e7\" class=\"colab-df-container\">\n",
              "    <div>\n",
              "<style scoped>\n",
              "    .dataframe tbody tr th:only-of-type {\n",
              "        vertical-align: middle;\n",
              "    }\n",
              "\n",
              "    .dataframe tbody tr th {\n",
              "        vertical-align: top;\n",
              "    }\n",
              "\n",
              "    .dataframe thead th {\n",
              "        text-align: right;\n",
              "    }\n",
              "</style>\n",
              "<table border=\"1\" class=\"dataframe\">\n",
              "  <thead>\n",
              "    <tr style=\"text-align: right;\">\n",
              "      <th></th>\n",
              "      <th>segment_index</th>\n",
              "      <th>noun_count</th>\n",
              "      <th>verb_count</th>\n",
              "      <th>adj_count</th>\n",
              "      <th>adv_count</th>\n",
              "      <th>pron_count</th>\n",
              "      <th>chart_count</th>\n",
              "      <th>word_count</th>\n",
              "      <th>word_density</th>\n",
              "      <th>upper_case_word_count</th>\n",
              "      <th>title_word_count</th>\n",
              "    </tr>\n",
              "  </thead>\n",
              "  <tbody>\n",
              "    <tr>\n",
              "      <th>0</th>\n",
              "      <td>-0.96022</td>\n",
              "      <td>-0.100047</td>\n",
              "      <td>0.258099</td>\n",
              "      <td>-0.385304</td>\n",
              "      <td>2.426613</td>\n",
              "      <td>-0.176252</td>\n",
              "      <td>0.191587</td>\n",
              "      <td>0.315593</td>\n",
              "      <td>-0.110543</td>\n",
              "      <td>-0.199011</td>\n",
              "      <td>-0.160373</td>\n",
              "    </tr>\n",
              "  </tbody>\n",
              "</table>\n",
              "</div>\n",
              "    <div class=\"colab-df-buttons\">\n",
              "\n",
              "  <div class=\"colab-df-container\">\n",
              "    <button class=\"colab-df-convert\" onclick=\"convertToInteractive('df-d4b850fd-b870-49e8-8c56-cf58d06db7e7')\"\n",
              "            title=\"Convert this dataframe to an interactive table.\"\n",
              "            style=\"display:none;\">\n",
              "\n",
              "  <svg xmlns=\"http://www.w3.org/2000/svg\" height=\"24px\" viewBox=\"0 -960 960 960\">\n",
              "    <path d=\"M120-120v-720h720v720H120Zm60-500h600v-160H180v160Zm220 220h160v-160H400v160Zm0 220h160v-160H400v160ZM180-400h160v-160H180v160Zm440 0h160v-160H620v160ZM180-180h160v-160H180v160Zm440 0h160v-160H620v160Z\"/>\n",
              "  </svg>\n",
              "    </button>\n",
              "\n",
              "  <style>\n",
              "    .colab-df-container {\n",
              "      display:flex;\n",
              "      gap: 12px;\n",
              "    }\n",
              "\n",
              "    .colab-df-convert {\n",
              "      background-color: #E8F0FE;\n",
              "      border: none;\n",
              "      border-radius: 50%;\n",
              "      cursor: pointer;\n",
              "      display: none;\n",
              "      fill: #1967D2;\n",
              "      height: 32px;\n",
              "      padding: 0 0 0 0;\n",
              "      width: 32px;\n",
              "    }\n",
              "\n",
              "    .colab-df-convert:hover {\n",
              "      background-color: #E2EBFA;\n",
              "      box-shadow: 0px 1px 2px rgba(60, 64, 67, 0.3), 0px 1px 3px 1px rgba(60, 64, 67, 0.15);\n",
              "      fill: #174EA6;\n",
              "    }\n",
              "\n",
              "    .colab-df-buttons div {\n",
              "      margin-bottom: 4px;\n",
              "    }\n",
              "\n",
              "    [theme=dark] .colab-df-convert {\n",
              "      background-color: #3B4455;\n",
              "      fill: #D2E3FC;\n",
              "    }\n",
              "\n",
              "    [theme=dark] .colab-df-convert:hover {\n",
              "      background-color: #434B5C;\n",
              "      box-shadow: 0px 1px 3px 1px rgba(0, 0, 0, 0.15);\n",
              "      filter: drop-shadow(0px 1px 2px rgba(0, 0, 0, 0.3));\n",
              "      fill: #FFFFFF;\n",
              "    }\n",
              "  </style>\n",
              "\n",
              "    <script>\n",
              "      const buttonEl =\n",
              "        document.querySelector('#df-d4b850fd-b870-49e8-8c56-cf58d06db7e7 button.colab-df-convert');\n",
              "      buttonEl.style.display =\n",
              "        google.colab.kernel.accessAllowed ? 'block' : 'none';\n",
              "\n",
              "      async function convertToInteractive(key) {\n",
              "        const element = document.querySelector('#df-d4b850fd-b870-49e8-8c56-cf58d06db7e7');\n",
              "        const dataTable =\n",
              "          await google.colab.kernel.invokeFunction('convertToInteractive',\n",
              "                                                    [key], {});\n",
              "        if (!dataTable) return;\n",
              "\n",
              "        const docLinkHtml = 'Like what you see? Visit the ' +\n",
              "          '<a target=\"_blank\" href=https://colab.research.google.com/notebooks/data_table.ipynb>data table notebook</a>'\n",
              "          + ' to learn more about interactive tables.';\n",
              "        element.innerHTML = '';\n",
              "        dataTable['output_type'] = 'display_data';\n",
              "        await google.colab.output.renderOutput(dataTable, element);\n",
              "        const docLink = document.createElement('div');\n",
              "        docLink.innerHTML = docLinkHtml;\n",
              "        element.appendChild(docLink);\n",
              "      }\n",
              "    </script>\n",
              "  </div>\n",
              "\n",
              "    </div>\n",
              "  </div>\n"
            ],
            "text/plain": [
              "   segment_index  noun_count  verb_count  adj_count  adv_count  pron_count  \\\n",
              "0       -0.96022   -0.100047    0.258099  -0.385304   2.426613   -0.176252   \n",
              "\n",
              "   chart_count  word_count  word_density  upper_case_word_count  \\\n",
              "0     0.191587    0.315593     -0.110543              -0.199011   \n",
              "\n",
              "   title_word_count  \n",
              "0         -0.160373  "
            ]
          },
          "execution_count": 49,
          "metadata": {},
          "output_type": "execute_result"
        }
      ],
      "source": [
        "scaled_features_array = scale_features(np.array(num_features_df.iloc[:,:]), models_dir)\n",
        "scaled_num_features_df = pd.DataFrame(scaled_features_array, columns=list(features_train.columns)[1:])\n",
        "scaled_num_features_df.head()"
      ]
    },
    {
      "cell_type": "markdown",
      "metadata": {
        "id": "rVBfdqC1EVUT"
      },
      "source": [
        "Pre-process segment"
      ]
    },
    {
      "cell_type": "code",
      "execution_count": 50,
      "metadata": {
        "colab": {
          "base_uri": "https://localhost:8080/"
        },
        "id": "MHQIpZkdGjRB",
        "outputId": "0fcb75d4-8969-454b-d565-909473a25550"
      },
      "outputs": [
        {
          "data": {
            "text/plain": [
              "['the',\n",
              " 'company',\n",
              " 'began',\n",
              " 'more',\n",
              " 'than',\n",
              " 'years',\n",
              " 'ago',\n",
              " 'in',\n",
              " 'tulsa',\n",
              " 'and',\n",
              " 'has',\n",
              " 'successfully',\n",
              " 'diversified',\n",
              " 'into',\n",
              " 'a',\n",
              " 'variety',\n",
              " 'of',\n",
              " 'industries',\n",
              " 'businesses',\n",
              " 'and',\n",
              " 'geographies']"
            ]
          },
          "execution_count": 50,
          "metadata": {},
          "output_type": "execute_result"
        }
      ],
      "source": [
        "processed_segs = preprocess_segments(segments_df['segment'])\n",
        "processed_segs[0]"
      ]
    },
    {
      "cell_type": "markdown",
      "metadata": {
        "id": "btgiJpKpHE5f"
      },
      "source": [
        "Generate doc vector for segment"
      ]
    },
    {
      "cell_type": "code",
      "execution_count": 51,
      "metadata": {
        "id": "fbelIvRZHE5g"
      },
      "outputs": [],
      "source": [
        "# load doc2vec model\n",
        "doc2vec_model_file_path = os.path.join(models_dir, 'doc2vec.model')\n",
        "doc2vec_model = Doc2Vec.load(doc2vec_model_file_path)\n",
        "segment_vector =  [doc2vec_model.infer_vector(seg_tokens) for seg_tokens in processed_segs]"
      ]
    },
    {
      "cell_type": "markdown",
      "metadata": {
        "id": "Xgd-zEdcHE5g"
      },
      "source": [
        "Concatenate vector with numerical features"
      ]
    },
    {
      "cell_type": "code",
      "execution_count": 52,
      "metadata": {
        "id": "mQ_iZsCZHE5g"
      },
      "outputs": [],
      "source": [
        "seg_features = np.concatenate((segment_vector, scaled_num_features_df), axis=1)"
      ]
    },
    {
      "cell_type": "markdown",
      "metadata": {
        "id": "OkTJT7PjH8bb"
      },
      "source": [
        "Load model"
      ]
    },
    {
      "cell_type": "code",
      "execution_count": 53,
      "metadata": {
        "id": "xgFSBucAH8bb"
      },
      "outputs": [],
      "source": [
        "with open(output_training_file_path, 'r') as f:\n",
        "    training_outputs = json.load(f)\n",
        "for training in training_outputs:\n",
        "  if training['algorithm'] == 'SVM':\n",
        "    model_file_path = training['model_file_path']\n",
        "svm_model = joblib.load(model_file_path)['model']"
      ]
    },
    {
      "cell_type": "markdown",
      "metadata": {
        "id": "OTbBsSbwH8bb"
      },
      "source": [
        "Make prediction"
      ]
    },
    {
      "cell_type": "code",
      "execution_count": 54,
      "metadata": {
        "id": "1FLJaAuaH8bc"
      },
      "outputs": [],
      "source": [
        "pred = svm_model.predict(seg_features)"
      ]
    },
    {
      "cell_type": "markdown",
      "metadata": {
        "id": "yihy2-2fi95x"
      },
      "source": [
        "Output prediction result"
      ]
    },
    {
      "cell_type": "code",
      "execution_count": 55,
      "metadata": {
        "colab": {
          "base_uri": "https://localhost:8080/"
        },
        "id": "mEETl64cGvxb",
        "outputId": "69ed4488-1cf8-4169-d3c1-1b11011855ae"
      },
      "outputs": [
        {
          "name": "stdout",
          "output_type": "stream",
          "text": [
            "Prediction result\n",
            "----------\n",
            "Segment: The company began more than 100 years ago in Tulsa and has successfully diversified into a variety of industries, businesses and geographies. .\n",
            "Predicted section: About Company\n",
            "----------\n"
          ]
        }
      ],
      "source": [
        "class_names = decode_labels(list(range(0,7)), os.path.join(models_dir, 'encoder_classes.npy'))\n",
        "for class_num, class_name in zip(list(range(0,7)), class_names):\n",
        "  if class_num == pred[0]:\n",
        "    print('Prediction result')\n",
        "    print('-'*10)\n",
        "    print(f'Segment: {segment}')\n",
        "    print(f'Predicted section: {class_name}')\n",
        "    print('-'*10)\n",
        "    break"
      ]
    },
    {
      "cell_type": "markdown",
      "metadata": {
        "id": "YEchMV-snEiZ"
      },
      "source": [
        "---"
      ]
    }
  ],
  "metadata": {
    "colab": {
      "provenance": []
    },
    "kernelspec": {
      "display_name": "Python 3",
      "name": "python3"
    },
    "language_info": {
      "name": "python"
    }
  },
  "nbformat": 4,
  "nbformat_minor": 0
}
